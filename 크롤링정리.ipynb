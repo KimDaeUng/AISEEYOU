{
 "cells": [
  {
   "cell_type": "code",
   "execution_count": null,
   "metadata": {},
   "outputs": [],
   "source": [
    "import requests\n",
    "import re\n",
    "from collections import OrderedDict\n",
    "from itertools import repeat\n",
    "from tqdm import tqdm_notebook\n",
    "import pandas as pd\n",
    "import lxml.html\n",
    "from selenium.webdriver import Chrome\n",
    "from bs4 import BeautifulSoup"
   ]
  },
  {
   "cell_type": "code",
   "execution_count": null,
   "metadata": {},
   "outputs": [],
   "source": [
    "page_urls = []\n",
    "for i in range(3611):\n",
    "    page_urls.append('http://www.poemlove.co.kr/bbs/board.php?bo_table=tb01&page=1&page={}'.format(i+1))"
   ]
  },
  {
   "cell_type": "code",
   "execution_count": 179,
   "metadata": {},
   "outputs": [],
   "source": [
    "page_urls_m = []\n",
    "for i in range(3611):\n",
    "    page_urls_m.append('http://poemlove.co.kr/m/bbs/board.php?bo_table=tb01&page={}'.format(i+1))"
   ]
  },
  {
   "cell_type": "code",
   "execution_count": 347,
   "metadata": {},
   "outputs": [
    {
     "data": {
      "application/vnd.jupyter.widget-view+json": {
       "model_id": "e5688d6508944541afccaf4f7f03e568",
       "version_major": 2,
       "version_minor": 0
      },
      "text/plain": [
       "HBox(children=(IntProgress(value=0, max=3609), HTML(value='')))"
      ]
     },
     "metadata": {},
     "output_type": "display_data"
    }
   ],
   "source": [
    "urls = []\n",
    "\n",
    "for url in tqdm_notebook(page_urls):\n",
    "    req = requests.get(url)\n",
    "    root = lxml.html.fromstring(req.text)\n",
    "    for i in root.cssselect('li a')[16:]:\n",
    "        urls.append(i.attrib['href'])"
   ]
  },
  {
   "cell_type": "code",
   "execution_count": null,
   "metadata": {},
   "outputs": [],
   "source": [
    "wa = []\n",
    "aa = []\n",
    "ta = []\n",
    "# 1페이지\n",
    "\n",
    "req = requests.get(page_urls[0])\n",
    "root = lxml.html.fromstring(req.text)\n",
    "a = []\n",
    "for i in root.cssselect('tr td a')[2:]:\n",
    "    k = i.text_content().strip().replace('\\n','').replace('\\t','')\n",
    "    a.append(re.sub('\\(\\d+\\)|\\(-\\d+\\)','aa',k))\n",
    "a = a[33:]\n",
    "\n",
    "while a:\n",
    "    try:\n",
    "        a.remove('aa')\n",
    "    except:\n",
    "        break\n",
    "        \n",
    "a = a[:-11]\n",
    "\n",
    "for i in range(len(a)):\n",
    "    if i % 3 == 0:\n",
    "        if i != \"\":\n",
    "            ta.append(a[i])\n",
    "        else:\n",
    "            ta.append('blank')\n",
    "    elif i % 3 == 1:\n",
    "        if i != \"\":\n",
    "            aa.append(a[i])\n",
    "        else:\n",
    "            aa.append('blank')\n",
    "    elif i % 3 == 2:\n",
    "        if i != \"\":\n",
    "            wa.append(a[i])\n",
    "        else:\n",
    "            wa.append('blank')  \n",
    "            \n",
    "# 2~10페이지\n",
    "for url in tqdm_notebook(page_urls[1:10]):\n",
    "    req = requests.get(url)\n",
    "    root = lxml.html.fromstring(req.text)\n",
    "    a = []\n",
    "    for i in root.cssselect('tr td a')[2:]:\n",
    "        k = i.text_content().strip().replace('\\n','').replace('\\t','')\n",
    "        a.append(re.sub('\\(\\d+\\)|\\(-\\d+\\)','aa',k))\n",
    "    a = a[33:]\n",
    "    \n",
    "    while a:\n",
    "        try:\n",
    "            a.remove('aa')\n",
    "        except:\n",
    "            break\n",
    "\n",
    "    a = a[:-12]\n",
    "\n",
    "    for i in range(len(a)):\n",
    "        if i % 3 == 0:\n",
    "            if i != \"\":\n",
    "                ta.append(a[i])\n",
    "            else:\n",
    "                ta.append('blank')\n",
    "        elif i % 3 == 1:\n",
    "            if i != \"\":\n",
    "                aa.append(a[i])\n",
    "            else:\n",
    "                aa.append('blank')\n",
    "        elif i % 3 == 2:\n",
    "            if i != \"\":\n",
    "                wa.append(a[i])\n",
    "            else:\n",
    "                wa.append('blank')  \n",
    "\n",
    "\n",
    "# 11~3610페이지\n",
    "for url in tqdm_notebook(page_urls[10:3610]):\n",
    "    req = requests.get(url)\n",
    "    root = lxml.html.fromstring(req.text)\n",
    "    a = []\n",
    "    for i in root.cssselect('tr td a')[2:]:\n",
    "        k = i.text_content().strip().replace('\\n','').replace('\\t','')\n",
    "        a.append(re.sub('\\(\\d+\\)|\\(-\\d+\\)','aa',k))\n",
    "    a = a[33:]\n",
    "    \n",
    "    while a:\n",
    "        try:\n",
    "            a.remove('aa')\n",
    "        except:\n",
    "            break\n",
    "\n",
    "    a = a[:-13]\n",
    "\n",
    "    for i in range(len(a)):\n",
    "        if i % 3 == 0:\n",
    "            if i != \"\":\n",
    "                ta.append(a[i])\n",
    "            else:\n",
    "                ta.append('blank')\n",
    "        elif i % 3 == 1:\n",
    "            if i != \"\":\n",
    "                aa.append(a[i])\n",
    "            else:\n",
    "                aa.append('blank')\n",
    "        elif i % 3 == 2:\n",
    "            if i != \"\":\n",
    "                wa.append(a[i])\n",
    "            else:\n",
    "                wa.append('blank')  \n",
    "\n",
    "\n",
    "# 3611페이지\n",
    "\n",
    "req = requests.get(page_urls[3610])\n",
    "root = lxml.html.fromstring(req.text)\n",
    "a = []\n",
    "for i in root.cssselect('tr td a')[2:]:\n",
    "    k = i.text_content().strip().replace('\\n','').replace('\\t','')\n",
    "    a.append(re.sub('\\(\\d+\\)|\\(-\\d+\\)','aa',k))\n",
    "a = a[33:]\n",
    "\n",
    "while a:\n",
    "    try:\n",
    "        a.remove('aa')\n",
    "    except:\n",
    "        break\n",
    "\n",
    "a = a[:-2]\n",
    "\n",
    "for i in range(len(a)):\n",
    "    if i % 3 == 0:\n",
    "        if i != \"\":\n",
    "            ta.append(a[i])\n",
    "        else:\n",
    "            ta.append('blank')\n",
    "    elif i % 3 == 1:\n",
    "        if i != \"\":\n",
    "            aa.append(a[i])\n",
    "        else:\n",
    "            aa.append('blank')\n",
    "    elif i % 3 == 2:\n",
    "        if i != \"\":\n",
    "            wa.append(a[i])\n",
    "        else:\n",
    "            wa.append('blank')  \n",
    "            "
   ]
  },
  {
   "cell_type": "code",
   "execution_count": 74,
   "metadata": {
    "scrolled": true
   },
   "outputs": [
    {
     "data": {
      "application/vnd.jupyter.widget-view+json": {
       "model_id": "e69edfef3c1741629d79c2dec3e01564",
       "version_major": 2,
       "version_minor": 0
      },
      "text/plain": [
       "HBox(children=(IntProgress(value=0, max=144360), HTML(value='')))"
      ]
     },
     "metadata": {},
     "output_type": "display_data"
    }
   ],
   "source": [
    "contents = []\n",
    "for i in tqdm_notebook(urls):\n",
    "    try:\n",
    "        req = requests.get(i)\n",
    "        root = lxml.html.fromstring(req.text)\n",
    "        text = root.cssselect('span#writeContents')[0].text_content()\n",
    "        text = re.sub(\"[(\\xa0)]\", \"\", text)\n",
    "        text = re.sub('[(\\u3000)]',' ', text)\n",
    "        text = re.sub(\"[a-zA-Z]+ *?[a-zA-Z]+\", \"<ENG>\", text)\n",
    "        text = re.sub(\"[0-9]+ *?[0-9]+\", \"<NUM>\", text)\n",
    "        text = re.sub(\"[一-龥]+\", \"<CHI>\", text)\n",
    "        text = re.sub(\"[ぁ-ゔ]+|[ァ-ヴー]+\", \"<JAP>\", text)\n",
    "        contents.append([x.strip() for x in re.split(r\"[\\r]\", text) if len(x.strip()) > 1])\n",
    "    except:\n",
    "        contents.append(None)"
   ]
  },
  {
   "cell_type": "code",
   "execution_count": null,
   "metadata": {},
   "outputs": [],
   "source": [
    "poetry_final = pd.DataFrame({'url':page_urls_m\n",
    "                      'writer':wa, \n",
    "                      'author':aa,\n",
    "                      'title':ta,\n",
    "                      'contents':contents})"
   ]
  },
  {
   "cell_type": "code",
   "execution_count": 10,
   "metadata": {
    "colab": {
     "base_uri": "https://localhost:8080/",
     "height": 35
    },
    "colab_type": "code",
    "id": "0S39xzRk24WK",
    "outputId": "2a322d02-921e-4316-d105-af9886d53ea3"
   },
   "outputs": [
    {
     "data": {
      "text/plain": [
       "143736"
      ]
     },
     "execution_count": 10,
     "metadata": {
      "tags": []
     },
     "output_type": "execute_result"
    }
   ],
   "source": [
    "poetry_final = poetry_final.drop_duplicates(['contents'],keep='first').reset_index(drop = True)\n",
    "len(poetry_final)"
   ]
  },
  {
   "cell_type": "code",
   "execution_count": 0,
   "metadata": {
    "colab": {},
    "colab_type": "code",
    "id": "JdzMxXHo24WW"
   },
   "outputs": [],
   "source": [
    "poetry_final = poetry_final[poetry_final.title.isnull() == False].reset_index(drop = True)\n",
    "poetry_final = poetry_final[poetry_final.contents.isnull() == False].reset_index(drop = True)\n",
    "poetry_final = poetry_final[poetry_final.author.isnull() == False].reset_index(drop = True)"
   ]
  },
  {
   "cell_type": "code",
   "execution_count": 0,
   "metadata": {
    "colab": {},
    "colab_type": "code",
    "id": "zRfzgYDH24Wf",
    "scrolled": true
   },
   "outputs": [],
   "source": [
    "poetry_final['title'] = poetry_final.title.apply(lambda x: x.split(' - '))\n",
    "\n",
    "a = []\n",
    "for i in range(len(poetry_final.title)):\n",
    "    if len(poetry_final.title[i]) > 2:\n",
    "        a.append(i)\n",
    "        \n",
    "poetry_final = poetry_final.drop(a,0).reset_index(drop = True)"
   ]
  },
  {
   "cell_type": "code",
   "execution_count": 0,
   "metadata": {
    "colab": {},
    "colab_type": "code",
    "id": "GScyLnKX24Ws"
   },
   "outputs": [],
   "source": [
    "b = []\n",
    "for i in range(len(poetry_final.title)):\n",
    "    if len(poetry_final.title[i]) == 2:\n",
    "        b.append([poetry_final.title[i][0]])\n",
    "    else:\n",
    "        b.append(poetry_final.title[i])\n",
    "poetry_final['title'] = b"
   ]
  },
  {
   "cell_type": "code",
   "execution_count": null,
   "metadata": {},
   "outputs": [],
   "source": [
    "c = []\n",
    "for content in tqdm_notebook(poetry_final.contents):\n",
    "    a = []\n",
    "    for i in range(len(content.split(\"'\")[1:-1])):\n",
    "        if i % 2 == 0:\n",
    "            a.append(content.split(\"'\")[1:-1][i])\n",
    "    c.append(a)\n",
    "poetry_final['contents'] = c"
   ]
  },
  {
   "cell_type": "code",
   "execution_count": 0,
   "metadata": {
    "colab": {},
    "colab_type": "code",
    "id": "f2k-jqQO24Xi"
   },
   "outputs": [],
   "source": [
    "len_con = []\n",
    "for i in poetry_final['contents']:\n",
    "    len_con.append(len(i))"
   ]
  },
  {
   "cell_type": "code",
   "execution_count": 35,
   "metadata": {
    "colab": {
     "base_uri": "https://localhost:8080/",
     "height": 288
    },
    "colab_type": "code",
    "id": "8OPiiPfq24Xn",
    "outputId": "2d6c75d5-9b51-4595-ddd1-3ce2d21865a0"
   },
   "outputs": [
    {
     "data": {
      "text/html": [
       "<div>\n",
       "<style scoped>\n",
       "    .dataframe tbody tr th:only-of-type {\n",
       "        vertical-align: middle;\n",
       "    }\n",
       "\n",
       "    .dataframe tbody tr th {\n",
       "        vertical-align: top;\n",
       "    }\n",
       "\n",
       "    .dataframe thead th {\n",
       "        text-align: right;\n",
       "    }\n",
       "</style>\n",
       "<table border=\"1\" class=\"dataframe\">\n",
       "  <thead>\n",
       "    <tr style=\"text-align: right;\">\n",
       "      <th></th>\n",
       "      <th>0</th>\n",
       "    </tr>\n",
       "  </thead>\n",
       "  <tbody>\n",
       "    <tr>\n",
       "      <th>count</th>\n",
       "      <td>143158.000000</td>\n",
       "    </tr>\n",
       "    <tr>\n",
       "      <th>mean</th>\n",
       "      <td>16.472750</td>\n",
       "    </tr>\n",
       "    <tr>\n",
       "      <th>std</th>\n",
       "      <td>22.840872</td>\n",
       "    </tr>\n",
       "    <tr>\n",
       "      <th>min</th>\n",
       "      <td>0.000000</td>\n",
       "    </tr>\n",
       "    <tr>\n",
       "      <th>25%</th>\n",
       "      <td>8.000000</td>\n",
       "    </tr>\n",
       "    <tr>\n",
       "      <th>50%</th>\n",
       "      <td>16.000000</td>\n",
       "    </tr>\n",
       "    <tr>\n",
       "      <th>75%</th>\n",
       "      <td>22.000000</td>\n",
       "    </tr>\n",
       "    <tr>\n",
       "      <th>max</th>\n",
       "      <td>2712.000000</td>\n",
       "    </tr>\n",
       "  </tbody>\n",
       "</table>\n",
       "</div>"
      ],
      "text/plain": [
       "                   0\n",
       "count  143158.000000\n",
       "mean       16.472750\n",
       "std        22.840872\n",
       "min         0.000000\n",
       "25%         8.000000\n",
       "50%        16.000000\n",
       "75%        22.000000\n",
       "max      2712.000000"
      ]
     },
     "execution_count": 35,
     "metadata": {
      "tags": []
     },
     "output_type": "execute_result"
    }
   ],
   "source": [
    "len_con_df = pd.DataFrame(len_con)\n",
    "len_con_df.describe()"
   ]
  },
  {
   "cell_type": "code",
   "execution_count": 36,
   "metadata": {
    "colab": {
     "base_uri": "https://localhost:8080/",
     "height": 283
    },
    "colab_type": "code",
    "id": "6at6ULSQ24Xr",
    "outputId": "5d8cc5f5-6d59-4115-aef5-8d7451c3f710"
   },
   "outputs": [
    {
     "data": {
      "text/plain": [
       "<matplotlib.axes._subplots.AxesSubplot at 0x7f6b0ec16828>"
      ]
     },
     "execution_count": 36,
     "metadata": {
      "tags": []
     },
     "output_type": "execute_result"
    },
    {
     "data": {
      "image/png": "[encoded data removed]",
      "text/plain": [
       "<Figure size 432x288 with 1 Axes>"
      ]
     },
     "metadata": {
      "tags": []
     },
     "output_type": "display_data"
    }
   ],
   "source": [
    "len_con_df.plot()"
   ]
  },
  {
   "cell_type": "code",
   "execution_count": 58,
   "metadata": {
    "colab": {
     "base_uri": "https://localhost:8080/",
     "height": 235
    },
    "colab_type": "code",
    "id": "3_GTcGx524Xv",
    "outputId": "2b43c6e4-30d4-43ef-c957-7b87764b67ca"
   },
   "outputs": [
    {
     "data": {
      "text/plain": [
       "71                                                 [**, **]\n",
       "614                          [수홍이한테 문자 보낸다., 수홍이한테 문자 보낸다.]\n",
       "1054                                     [첨부파일 참조, 첨부파일 참조]\n",
       "1124                         [첨부파일 참조 바랍니다., 첨부파일 참조 바랍니다.]\n",
       "2019      [내 사랑 그대여! 내 눈을 감겨요. 나 그대 만질 수 있어니;내 사랑 그대여 <N...\n",
       "                                ...                        \n",
       "143153    [나는 내가 부족한 나무라는 걸 안다 내딴에는 곧게 자란다 생각했지만 어떤 나무는 ...\n",
       "143154    [언제나 당신은 저만치에만 있습니다 내가 다가갈 수 없는 꼭 그만치에 서서 나를 지...\n",
       "143155    [어서, 하마를 치워야 할텐데 저 하마를 밖으로 끌어내야 할텐데 늦장마 끝나고 서늘...\n",
       "143156    [돌아보면 언제나 혼자였다.나를 사랑한다고 다가오는 사람에게선내가 물러났고,내가 사...\n",
       "143157    [살아가면서 많은 것이 묻혀지고 잊혀진다 하더라도 그대 이름만은 내 가슴에 남아 있...\n",
       "Name: contents, Length: 26573, dtype: object"
      ]
     },
     "execution_count": 58,
     "metadata": {
      "tags": []
     },
     "output_type": "execute_result"
    }
   ],
   "source": [
    "poetry_final.loc[len_con_df[0] == 1, 'contents']"
   ]
  },
  {
   "cell_type": "code",
   "execution_count": 0,
   "metadata": {
    "colab": {},
    "colab_type": "code",
    "id": "QijgiRaE-wfQ"
   },
   "outputs": [],
   "source": [
    "import kss"
   ]
  },
  {
   "cell_type": "code",
   "execution_count": 0,
   "metadata": {
    "colab": {},
    "colab_type": "code",
    "id": "xXUjijKc9v89"
   },
   "outputs": [],
   "source": [
    "for i in poetry_final.loc[len_con_df[0] == 1, 'contents'].index:\n",
    "    poetry_final.contents[i] += kss.split_sentences(poetry_final.contents[i][0])"
   ]
  },
  {
   "cell_type": "code",
   "execution_count": 0,
   "metadata": {
    "colab": {},
    "colab_type": "code",
    "id": "CeXGRZTZ_3_6"
   },
   "outputs": [],
   "source": [
    "len_con = []\n",
    "for i in poetry_final['contents']:\n",
    "    len_con.append(len(i))"
   ]
  },
  {
   "cell_type": "code",
   "execution_count": 70,
   "metadata": {
    "colab": {
     "base_uri": "https://localhost:8080/",
     "height": 288
    },
    "colab_type": "code",
    "id": "gw4o9ddd_4AD",
    "outputId": "90df36d4-cc1e-44d3-e505-8b889b8146e2"
   },
   "outputs": [
    {
     "data": {
      "text/html": [
       "<div>\n",
       "<style scoped>\n",
       "    .dataframe tbody tr th:only-of-type {\n",
       "        vertical-align: middle;\n",
       "    }\n",
       "\n",
       "    .dataframe tbody tr th {\n",
       "        vertical-align: top;\n",
       "    }\n",
       "\n",
       "    .dataframe thead th {\n",
       "        text-align: right;\n",
       "    }\n",
       "</style>\n",
       "<table border=\"1\" class=\"dataframe\">\n",
       "  <thead>\n",
       "    <tr style=\"text-align: right;\">\n",
       "      <th></th>\n",
       "      <th>0</th>\n",
       "    </tr>\n",
       "  </thead>\n",
       "  <tbody>\n",
       "    <tr>\n",
       "      <th>count</th>\n",
       "      <td>143158.000000</td>\n",
       "    </tr>\n",
       "    <tr>\n",
       "      <th>mean</th>\n",
       "      <td>17.231150</td>\n",
       "    </tr>\n",
       "    <tr>\n",
       "      <th>std</th>\n",
       "      <td>22.526778</td>\n",
       "    </tr>\n",
       "    <tr>\n",
       "      <th>min</th>\n",
       "      <td>0.000000</td>\n",
       "    </tr>\n",
       "    <tr>\n",
       "      <th>25%</th>\n",
       "      <td>9.000000</td>\n",
       "    </tr>\n",
       "    <tr>\n",
       "      <th>50%</th>\n",
       "      <td>16.000000</td>\n",
       "    </tr>\n",
       "    <tr>\n",
       "      <th>75%</th>\n",
       "      <td>22.000000</td>\n",
       "    </tr>\n",
       "    <tr>\n",
       "      <th>max</th>\n",
       "      <td>2712.000000</td>\n",
       "    </tr>\n",
       "  </tbody>\n",
       "</table>\n",
       "</div>"
      ],
      "text/plain": [
       "                   0\n",
       "count  143158.000000\n",
       "mean       17.231150\n",
       "std        22.526778\n",
       "min         0.000000\n",
       "25%         9.000000\n",
       "50%        16.000000\n",
       "75%        22.000000\n",
       "max      2712.000000"
      ]
     },
     "execution_count": 70,
     "metadata": {
      "tags": []
     },
     "output_type": "execute_result"
    }
   ],
   "source": [
    "len_con_df = pd.DataFrame(len_con)\n",
    "len_con_df.describe()"
   ]
  },
  {
   "cell_type": "code",
   "execution_count": 71,
   "metadata": {
    "colab": {
     "base_uri": "https://localhost:8080/",
     "height": 283
    },
    "colab_type": "code",
    "id": "zii7bM1n_4AG",
    "outputId": "161cfbf7-a945-4adb-c250-2ba1a130e94a"
   },
   "outputs": [
    {
     "data": {
      "text/plain": [
       "<matplotlib.axes._subplots.AxesSubplot at 0x7f6afc993a90>"
      ]
     },
     "execution_count": 71,
     "metadata": {
      "tags": []
     },
     "output_type": "execute_result"
    },
    {
     "data": {
      "image/png": "[encoded data removed]",
      "text/plain": [
       "<Figure size 432x288 with 1 Axes>"
      ]
     },
     "metadata": {
      "tags": []
     },
     "output_type": "display_data"
    }
   ],
   "source": [
    "len_con_df.plot()"
   ]
  },
  {
   "cell_type": "code",
   "execution_count": 73,
   "metadata": {
    "colab": {
     "base_uri": "https://localhost:8080/",
     "height": 235
    },
    "colab_type": "code",
    "id": "BbMdH8cV_-Ln",
    "outputId": "db66a787-333b-427d-a7f7-a377597d1c42"
   },
   "outputs": [
    {
     "data": {
      "text/plain": [
       "35        [겨울, 맥향, 그 날 동성로는 성탄준비로 인파가 붐볐다. 부러운 눈으로 그들을 보...\n",
       "71                                                 [**, **]\n",
       "72        [아, 시원해., 갑자기 망치로 얻어 맞은 듯 멍청해지네. 체. 통영시인 김종수랑 ...\n",
       "112       [오프라 윈프라, <ENG>://<ENG>.<ENG>.<ENG>/<ENG>?v=<E...\n",
       "178       [달빛 젖은 눈을 밟는 사람은 아름답다., 내사랑너!너의 말대로 너가 선생인 건 다...\n",
       "                                ...                        \n",
       "143148    [오늘밤 깊어가는 어둠속으로 내내 당신이 내 마음에 걸려 있습니다. 내 마음에 당신...\n",
       "143149    [스물 셋 청춘의 문밖에 떡하니 내다 건 사랑의 문패 그 문패를 보고 얼마나 많은 ...\n",
       "143150    [새벽에 깨어나 반짝이는 별을 보고 있으면 이 세상 깊은 어디에 마르지 않는 사랑의...\n",
       "143151    [초대받지 못한 잔치에서 초대받지 않은 손님으로 두 다리를 세워두기란 불 가마 앞에...\n",
       "143152    [그리운 부석사정 호 승사랑하다가 죽어버려라오죽하면 비로자나불이 손가락에 매달려 앉...\n",
       "Name: contents, Length: 17921, dtype: object"
      ]
     },
     "execution_count": 73,
     "metadata": {
      "tags": []
     },
     "output_type": "execute_result"
    }
   ],
   "source": [
    "poetry_final.loc[len_con_df[0] < 5, 'contents']"
   ]
  },
  {
   "cell_type": "code",
   "execution_count": 76,
   "metadata": {
    "colab": {
     "base_uri": "https://localhost:8080/",
     "height": 67,
     "referenced_widgets": [
      "5d268a644a974c88b379ad7b99ead145",
      "35abe59e8ebe4ce7acf9abf4173e0b30",
      "d2c5574130c3446f9ab5299307c69415",
      "243abe449acb4955bf09a830cf8d49d2",
      "2a160c2e444e42d794a4325b8a1d1686",
      "1087a2a6c378464798e3bfb3823f63a1",
      "dd3f7a1f05554066bd6465b86ff0b5b3",
      "947caa700c7a4746bf539b562853fec3"
     ]
    },
    "colab_type": "code",
    "id": "M-SM30Ea24X1",
    "outputId": "e0f127ba-77a4-4288-bd74-3b80b0f66688",
    "scrolled": true
   },
   "outputs": [
    {
     "data": {
      "application/vnd.jupyter.widget-view+json": {
       "model_id": "5d268a644a974c88b379ad7b99ead145",
       "version_major": 2,
       "version_minor": 0
      },
      "text/plain": [
       "HBox(children=(IntProgress(value=0, max=143158), HTML(value='')))"
      ]
     },
     "metadata": {
      "tags": []
     },
     "output_type": "display_data"
    },
    {
     "name": "stdout",
     "output_type": "stream",
     "text": [
      "\n"
     ]
    }
   ],
   "source": [
    "new_contents = []\n",
    "for i in tqdm_notebook(range(len(poetry_final['contents']))):\n",
    "    a = []\n",
    "    try:\n",
    "        for j in range(len(poetry_final['contents'][i][:2])):\n",
    "            if poetry_final.title[i][0] in poetry_final['contents'][i][:2][j]:\n",
    "                poetry_final['contents'][i].remove(poetry_final['contents'][i][:2][j])\n",
    "            if poetry_final.author[i][0] in poetry_final['contents'][i][:2][j]:\n",
    "                poetry_final['contents'][i].remove(poetry_final['contents'][i][:2][j])\n",
    "    except:\n",
    "        poetry_final['contents'][i]\n",
    "            "
   ]
  },
  {
   "cell_type": "code",
   "execution_count": null,
   "metadata": {},
   "outputs": [],
   "source": [
    "index = []\n",
    "for i in range(len(poetry.contents)):\n",
    "    if str(poetry_final.contents[i]) == 'nan':\n",
    "        index.append(i)\n",
    "\n",
    "poetry_final = poetry_final.drop(index,0)"
   ]
  },
  {
   "cell_type": "code",
   "execution_count": 44,
   "metadata": {},
   "outputs": [],
   "source": [
    "import re\n",
    "def remove_bracket(row):\n",
    "    pattern = r'\\[.*?\\]'\n",
    "    return re.sub(pattern, '', row)"
   ]
  },
  {
   "cell_type": "code",
   "execution_count": 64,
   "metadata": {},
   "outputs": [],
   "source": [
    "con_f = []\n",
    "for i in contents:\n",
    "    con_sf = []\n",
    "    for j in i:\n",
    "        remove_bracket(j)\n",
    "        if j != None:\n",
    "            con_sf.append(j)\n",
    "    con_f.append('+++'.join(con_sf))\n",
    "    \n",
    "poetry['contents'] = con_f"
   ]
  },
  {
   "cell_type": "code",
   "execution_count": 72,
   "metadata": {},
   "outputs": [],
   "source": [
    "poetry = poetry.reset_index(drop=True)\n",
    "poetry.to_csv(\"poetry_real_final.csv\",index=False)"
   ]
  }
 ],
 "metadata": {
  "kernelspec": {
   "display_name": "Python 3",
   "language": "python",
   "name": "python3"
  },
  "language_info": {
   "codemirror_mode": {
    "name": "ipython",
    "version": 3
   },
   "file_extension": ".py",
   "mimetype": "text/x-python",
   "name": "python",
   "nbconvert_exporter": "python",
   "pygments_lexer": "ipython3",
   "version": "3.6.5"
  }
 },
 "nbformat": 4,
 "nbformat_minor": 2
}
