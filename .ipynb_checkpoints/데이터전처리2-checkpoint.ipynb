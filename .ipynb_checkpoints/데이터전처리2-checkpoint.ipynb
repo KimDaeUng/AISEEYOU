{
 "cells": [
  {
   "cell_type": "code",
   "execution_count": 52,
   "metadata": {
    "colab": {
     "base_uri": "https://localhost:8080/",
     "height": 35
    },
    "colab_type": "code",
    "id": "cRxuT-186JMy",
    "outputId": "3a24a34b-9f9d-4d93-aeac-2bb090bab820"
   },
   "outputs": [
    {
     "name": "stdout",
     "output_type": "stream",
     "text": [
      "Requirement already satisfied: kss in /usr/local/lib/python3.6/dist-packages (1.2.5)\n"
     ]
    }
   ],
   "source": [
    "!pip install kss"
   ]
  },
  {
   "cell_type": "code",
   "execution_count": 0,
   "metadata": {
    "colab": {},
    "colab_type": "code",
    "id": "M4Y1d91E24Vw"
   },
   "outputs": [],
   "source": [
    "import requests\n",
    "import re\n",
    "from collections import OrderedDict\n",
    "from itertools import repeat\n",
    "from tqdm import tqdm_notebook\n",
    "import pandas as pd\n",
    "import lxml.html\n"
   ]
  },
  {
   "cell_type": "code",
   "execution_count": 0,
   "metadata": {
    "colab": {},
    "colab_type": "code",
    "id": "CEP3eCUG24V3",
    "scrolled": true
   },
   "outputs": [],
   "source": [
    "poetry = pd.read_csv('poetry.csv')"
   ]
  },
  {
   "cell_type": "code",
   "execution_count": 0,
   "metadata": {
    "colab": {},
    "colab_type": "code",
    "id": "Uc0gEq3B24V6"
   },
   "outputs": [],
   "source": [
    "author = pd.read_csv('poetry_author.csv')"
   ]
  },
  {
   "cell_type": "code",
   "execution_count": 0,
   "metadata": {
    "colab": {},
    "colab_type": "code",
    "id": "livOQ6sf24V-"
   },
   "outputs": [],
   "source": [
    "poetry['writer'] = poetry.writer.apply(lambda x: 'poemlove' if x=='none' else x)"
   ]
  },
  {
   "cell_type": "code",
   "execution_count": 0,
   "metadata": {
    "colab": {},
    "colab_type": "code",
    "id": "yUe4TSpi24WB"
   },
   "outputs": [],
   "source": [
    "author = author[52:-25]\n",
    "author = author.reset_index(drop = True)"
   ]
  },
  {
   "cell_type": "code",
   "execution_count": 0,
   "metadata": {
    "colab": {},
    "colab_type": "code",
    "id": "HC71PeJd24WE"
   },
   "outputs": [],
   "source": [
    "poetry = poetry.drop_duplicates(['url'],keep='first').reset_index(drop = True)"
   ]
  },
  {
   "cell_type": "code",
   "execution_count": 0,
   "metadata": {
    "colab": {},
    "colab_type": "code",
    "id": "xDlYSYuv24WH",
    "scrolled": true
   },
   "outputs": [],
   "source": [
    "poetry_final = pd.concat([poetry,author],axis=1)\n",
    "poetry_final = poetry_final.iloc[:,[0,1,2,3,5]]"
   ]
  },
  {
   "cell_type": "code",
   "execution_count": 10,
   "metadata": {
    "colab": {
     "base_uri": "https://localhost:8080/",
     "height": 35
    },
    "colab_type": "code",
    "id": "0S39xzRk24WK",
    "outputId": "2a322d02-921e-4316-d105-af9886d53ea3"
   },
   "outputs": [
    {
     "data": {
      "text/plain": [
       "143736"
      ]
     },
     "execution_count": 10,
     "metadata": {
      "tags": []
     },
     "output_type": "execute_result"
    }
   ],
   "source": [
    "poetry_final = poetry_final.drop_duplicates(['contents'],keep='first').reset_index(drop = True)\n",
    "len(poetry_final)"
   ]
  },
  {
   "cell_type": "code",
   "execution_count": 11,
   "metadata": {
    "colab": {
     "base_uri": "https://localhost:8080/",
     "height": 580
    },
    "colab_type": "code",
    "id": "Z9o5TrJt24WP",
    "outputId": "35602274-735e-4459-c611-83c240545786"
   },
   "outputs": [
    {
     "data": {
      "text/html": [
       "<div>\n",
       "<style scoped>\n",
       "    .dataframe tbody tr th:only-of-type {\n",
       "        vertical-align: middle;\n",
       "    }\n",
       "\n",
       "    .dataframe tbody tr th {\n",
       "        vertical-align: top;\n",
       "    }\n",
       "\n",
       "    .dataframe thead th {\n",
       "        text-align: right;\n",
       "    }\n",
       "</style>\n",
       "<table border=\"1\" class=\"dataframe\">\n",
       "  <thead>\n",
       "    <tr style=\"text-align: right;\">\n",
       "      <th></th>\n",
       "      <th>url</th>\n",
       "      <th>title</th>\n",
       "      <th>writer</th>\n",
       "      <th>contents</th>\n",
       "      <th>author</th>\n",
       "    </tr>\n",
       "  </thead>\n",
       "  <tbody>\n",
       "    <tr>\n",
       "      <th>2053</th>\n",
       "      <td>http://poemlove.co.kr/m/bbs/board.php?bo_table...</td>\n",
       "      <td>특집/셸리 탄생 200주년 기념 특집 - 셸리(Percy Bysshe Shelly)...</td>\n",
       "      <td>poemlove</td>\n",
       "      <td>['‘시문학’ 지 &lt;NUM&gt;년 7월호:', '특집/셸리 탄생 &lt;NUM&gt;주년 기념 특...</td>\n",
       "      <td>NaN</td>\n",
       "    </tr>\n",
       "    <tr>\n",
       "      <th>12266</th>\n",
       "      <td>http://poemlove.co.kr/m/bbs/board.php?bo_table...</td>\n",
       "      <td>대작(對酌)</td>\n",
       "      <td>김안로</td>\n",
       "      <td>['대작&lt;CHI&gt;/김안로', '나는 막걸리를 들고', '하늘은 구름을 들이켰지', ...</td>\n",
       "      <td>NaN</td>\n",
       "    </tr>\n",
       "    <tr>\n",
       "      <th>15614</th>\n",
       "      <td>http://poemlove.co.kr/m/bbs/board.php?bo_table...</td>\n",
       "      <td>해운대 찬가(海雲臺, 讚歌)/李時明</td>\n",
       "      <td>이시명</td>\n",
       "      <td>['해운대 찬가&lt;CHI&gt;, &lt;CHI&gt;', '/李&lt;CHI&gt;', '국유 현묘지도와 \"천...</td>\n",
       "      <td>NaN</td>\n",
       "    </tr>\n",
       "    <tr>\n",
       "      <th>18130</th>\n",
       "      <td>http://poemlove.co.kr/m/bbs/board.php?bo_table...</td>\n",
       "      <td>겨울 그리고 봄</td>\n",
       "      <td>송정숙</td>\n",
       "      <td>['겨울 그리고 봄', '-송정숙-', '밑그림을 그린다', '너를 위해서', '꽃...</td>\n",
       "      <td>NaN</td>\n",
       "    </tr>\n",
       "    <tr>\n",
       "      <th>18132</th>\n",
       "      <td>http://poemlove.co.kr/m/bbs/board.php?bo_table...</td>\n",
       "      <td>창 밖에는 눈3</td>\n",
       "      <td>송정숙</td>\n",
       "      <td>['창 밖에는 눈3', '-송정숙-', '오전에는 봄', '오후에는 겨울 눈', '...</td>\n",
       "      <td>NaN</td>\n",
       "    </tr>\n",
       "    <tr>\n",
       "      <th>...</th>\n",
       "      <td>...</td>\n",
       "      <td>...</td>\n",
       "      <td>...</td>\n",
       "      <td>...</td>\n",
       "      <td>...</td>\n",
       "    </tr>\n",
       "    <tr>\n",
       "      <th>129410</th>\n",
       "      <td>http://poemlove.co.kr/m/bbs/board.php?bo_table...</td>\n",
       "      <td>이런 저녁엔 - 이명구</td>\n",
       "      <td>poemlove</td>\n",
       "      <td>['이런 저녁엔 &amp;&lt;ENG&gt;;이명구&amp;&lt;ENG&gt;; 노란 가로수 길 가을비 곱게 내리는...</td>\n",
       "      <td>NaN</td>\n",
       "    </tr>\n",
       "    <tr>\n",
       "      <th>129412</th>\n",
       "      <td>http://poemlove.co.kr/m/bbs/board.php?bo_table...</td>\n",
       "      <td>첫새벽을 깨우며 - 한종남</td>\n",
       "      <td>한종남</td>\n",
       "      <td>['***첫새벽을 깨우며***&lt;CHI&gt;.한종남어둠은 아직도 뒤척이는데 기린처럼 긴~...</td>\n",
       "      <td>NaN</td>\n",
       "    </tr>\n",
       "    <tr>\n",
       "      <th>129501</th>\n",
       "      <td>http://poemlove.co.kr/m/bbs/board.php?bo_table...</td>\n",
       "      <td>그리움.. - 한종남</td>\n",
       "      <td>한종남</td>\n",
       "      <td>['~그리움~그리워서그저 그리워서까만 밤하늘의 별들을 헤아려 본다별 하나 사랑별 둘...</td>\n",
       "      <td>NaN</td>\n",
       "    </tr>\n",
       "    <tr>\n",
       "      <th>129502</th>\n",
       "      <td>http://poemlove.co.kr/m/bbs/board.php?bo_table...</td>\n",
       "      <td>향내 잃은 아카시아 / 이지영</td>\n",
       "      <td>정선주</td>\n",
       "      <td>['향내 잃은 아카시아 / 이지영찬란한 금빛 우수여그리 저리도록반란과 몸살을 앓고 ...</td>\n",
       "      <td>NaN</td>\n",
       "    </tr>\n",
       "    <tr>\n",
       "      <th>129553</th>\n",
       "      <td>http://poemlove.co.kr/m/bbs/board.php?bo_table...</td>\n",
       "      <td>상사화 - 이향숙</td>\n",
       "      <td>이향숙</td>\n",
       "      <td>['&lt;&lt;ENG&gt;=&lt;ENG&gt;://&lt;ENG&gt;.&lt;ENG&gt;.&lt;ENG&gt;/&lt;ENG&gt;&lt;NUM&gt;/...</td>\n",
       "      <td>NaN</td>\n",
       "    </tr>\n",
       "  </tbody>\n",
       "</table>\n",
       "<p>111 rows × 5 columns</p>\n",
       "</div>"
      ],
      "text/plain": [
       "                                                      url  ... author\n",
       "2053    http://poemlove.co.kr/m/bbs/board.php?bo_table...  ...    NaN\n",
       "12266   http://poemlove.co.kr/m/bbs/board.php?bo_table...  ...    NaN\n",
       "15614   http://poemlove.co.kr/m/bbs/board.php?bo_table...  ...    NaN\n",
       "18130   http://poemlove.co.kr/m/bbs/board.php?bo_table...  ...    NaN\n",
       "18132   http://poemlove.co.kr/m/bbs/board.php?bo_table...  ...    NaN\n",
       "...                                                   ...  ...    ...\n",
       "129410  http://poemlove.co.kr/m/bbs/board.php?bo_table...  ...    NaN\n",
       "129412  http://poemlove.co.kr/m/bbs/board.php?bo_table...  ...    NaN\n",
       "129501  http://poemlove.co.kr/m/bbs/board.php?bo_table...  ...    NaN\n",
       "129502  http://poemlove.co.kr/m/bbs/board.php?bo_table...  ...    NaN\n",
       "129553  http://poemlove.co.kr/m/bbs/board.php?bo_table...  ...    NaN\n",
       "\n",
       "[111 rows x 5 columns]"
      ]
     },
     "execution_count": 11,
     "metadata": {
      "tags": []
     },
     "output_type": "execute_result"
    }
   ],
   "source": [
    "poetry_final[poetry_final.author.isnull() == True]"
   ]
  },
  {
   "cell_type": "code",
   "execution_count": 12,
   "metadata": {
    "colab": {
     "base_uri": "https://localhost:8080/",
     "height": 126
    },
    "colab_type": "code",
    "id": "2Kg9_2aR24WT",
    "outputId": "280a012c-d880-4631-d646-58bd31943386"
   },
   "outputs": [
    {
     "data": {
      "text/plain": [
       "url           0\n",
       "title        13\n",
       "writer        0\n",
       "contents      1\n",
       "author      111\n",
       "dtype: int64"
      ]
     },
     "execution_count": 12,
     "metadata": {
      "tags": []
     },
     "output_type": "execute_result"
    }
   ],
   "source": [
    "poetry_final.isnull().sum()"
   ]
  },
  {
   "cell_type": "code",
   "execution_count": 0,
   "metadata": {
    "colab": {},
    "colab_type": "code",
    "id": "JdzMxXHo24WW"
   },
   "outputs": [],
   "source": [
    "poetry_final = poetry_final[poetry_final.title.isnull() == False].reset_index(drop = True)\n",
    "poetry_final = poetry_final[poetry_final.contents.isnull() == False].reset_index(drop = True)\n",
    "poetry_final = poetry_final[poetry_final.author.isnull() == False].reset_index(drop = True)"
   ]
  },
  {
   "cell_type": "code",
   "execution_count": 0,
   "metadata": {
    "colab": {},
    "colab_type": "code",
    "id": "ph045NPz24WZ"
   },
   "outputs": [],
   "source": [
    "poetry_final['title'] = poetry_final.title.apply(lambda x: x.split(' - '))"
   ]
  },
  {
   "cell_type": "code",
   "execution_count": 15,
   "metadata": {
    "colab": {
     "base_uri": "https://localhost:8080/",
     "height": 235
    },
    "colab_type": "code",
    "id": "NVd7MSjO24Wc",
    "outputId": "f55a1f1c-734a-49ea-ea3c-0ad0b2c3e966"
   },
   "outputs": [
    {
     "data": {
      "text/plain": [
       "0                            [동시/첫눈 오는 날.]\n",
       "1                                [그리움, 너는]\n",
       "2                         [비워내는 건 외로운 법이다]\n",
       "3                       [지극히 따뜻한 애혼(愛魂)에게]\n",
       "4         [12월엔  설화(雪花)를 그리는 한 마리 노루이고 싶다]\n",
       "                        ...               \n",
       "143606                         [가죽나무, 도종환]\n",
       "143607                       [당신의 나라, 서주홍]\n",
       "143608                       [물먹는 하마, 강문숙]\n",
       "143609             [혼자 일 수 밖에 없었던 이유, 이용채]\n",
       "143610                          [한사람, 이정하]\n",
       "Name: title, Length: 143611, dtype: object"
      ]
     },
     "execution_count": 15,
     "metadata": {
      "tags": []
     },
     "output_type": "execute_result"
    }
   ],
   "source": [
    "poetry_final['title']"
   ]
  },
  {
   "cell_type": "code",
   "execution_count": 0,
   "metadata": {
    "colab": {},
    "colab_type": "code",
    "id": "zRfzgYDH24Wf",
    "scrolled": true
   },
   "outputs": [],
   "source": [
    "a = []\n",
    "for i in range(len(poetry_final.title)):\n",
    "    if len(poetry_final.title[i]) > 2:\n",
    "        a.append(i)"
   ]
  },
  {
   "cell_type": "code",
   "execution_count": 17,
   "metadata": {
    "colab": {
     "base_uri": "https://localhost:8080/",
     "height": 35
    },
    "colab_type": "code",
    "id": "PtnSy2yU24Wj",
    "outputId": "22e62044-dc13-48ab-d260-876fe68823a1"
   },
   "outputs": [
    {
     "data": {
      "text/plain": [
       "453"
      ]
     },
     "execution_count": 17,
     "metadata": {
      "tags": []
     },
     "output_type": "execute_result"
    }
   ],
   "source": [
    "len(a)"
   ]
  },
  {
   "cell_type": "code",
   "execution_count": 0,
   "metadata": {
    "colab": {},
    "colab_type": "code",
    "id": "fLHCoY7f24Wm",
    "scrolled": true
   },
   "outputs": [],
   "source": [
    "poetry_final = poetry_final.drop(a,0).reset_index(drop = True)"
   ]
  },
  {
   "cell_type": "code",
   "execution_count": 19,
   "metadata": {
    "colab": {
     "base_uri": "https://localhost:8080/",
     "height": 126
    },
    "colab_type": "code",
    "id": "350J2UTt24Wp",
    "outputId": "e80e0e24-aebc-45f7-e8ca-ef44b3deff0b",
    "scrolled": true
   },
   "outputs": [
    {
     "data": {
      "text/plain": [
       "url         0\n",
       "title       0\n",
       "writer      0\n",
       "contents    0\n",
       "author      0\n",
       "dtype: int64"
      ]
     },
     "execution_count": 19,
     "metadata": {
      "tags": []
     },
     "output_type": "execute_result"
    }
   ],
   "source": [
    "poetry_final.isnull().sum()"
   ]
  },
  {
   "cell_type": "code",
   "execution_count": 0,
   "metadata": {
    "colab": {},
    "colab_type": "code",
    "id": "GScyLnKX24Ws"
   },
   "outputs": [],
   "source": [
    "b = []\n",
    "for i in range(len(poetry_final.title)):\n",
    "    if len(poetry_final.title[i]) == 2:\n",
    "        b.append([poetry_final.title[i][0]])\n",
    "    else:\n",
    "        b.append(poetry_final.title[i])"
   ]
  },
  {
   "cell_type": "code",
   "execution_count": 21,
   "metadata": {
    "colab": {
     "base_uri": "https://localhost:8080/",
     "height": 35
    },
    "colab_type": "code",
    "id": "6-sptdPN24Wv",
    "outputId": "efc8cd35-25b6-4bb0-e86d-b6849e20f643"
   },
   "outputs": [
    {
     "data": {
      "text/plain": [
       "143158"
      ]
     },
     "execution_count": 21,
     "metadata": {
      "tags": []
     },
     "output_type": "execute_result"
    }
   ],
   "source": [
    "len(b)"
   ]
  },
  {
   "cell_type": "code",
   "execution_count": 22,
   "metadata": {
    "colab": {
     "base_uri": "https://localhost:8080/",
     "height": 199
    },
    "colab_type": "code",
    "id": "SYVu5rkK24Wy",
    "outputId": "89e8d397-1990-44c4-fad7-16b4dc0c6578"
   },
   "outputs": [
    {
     "name": "stdout",
     "output_type": "stream",
     "text": [
      "<class 'pandas.core.frame.DataFrame'>\n",
      "RangeIndex: 143158 entries, 0 to 143157\n",
      "Data columns (total 5 columns):\n",
      "url         143158 non-null object\n",
      "title       143158 non-null object\n",
      "writer      143158 non-null object\n",
      "contents    143158 non-null object\n",
      "author      143158 non-null object\n",
      "dtypes: object(5)\n",
      "memory usage: 5.5+ MB\n"
     ]
    }
   ],
   "source": [
    "poetry_final.info()"
   ]
  },
  {
   "cell_type": "code",
   "execution_count": 0,
   "metadata": {
    "colab": {},
    "colab_type": "code",
    "id": "ec4cYzqT24W3"
   },
   "outputs": [],
   "source": [
    "poetry_final['title'] = b"
   ]
  },
  {
   "cell_type": "code",
   "execution_count": 24,
   "metadata": {
    "colab": {
     "base_uri": "https://localhost:8080/",
     "height": 580
    },
    "colab_type": "code",
    "id": "eyCgPXSv24W9",
    "outputId": "f86aa04e-22bd-4023-b19c-64d8c9cf3330"
   },
   "outputs": [
    {
     "data": {
      "text/html": [
       "<div>\n",
       "<style scoped>\n",
       "    .dataframe tbody tr th:only-of-type {\n",
       "        vertical-align: middle;\n",
       "    }\n",
       "\n",
       "    .dataframe tbody tr th {\n",
       "        vertical-align: top;\n",
       "    }\n",
       "\n",
       "    .dataframe thead th {\n",
       "        text-align: right;\n",
       "    }\n",
       "</style>\n",
       "<table border=\"1\" class=\"dataframe\">\n",
       "  <thead>\n",
       "    <tr style=\"text-align: right;\">\n",
       "      <th></th>\n",
       "      <th>url</th>\n",
       "      <th>title</th>\n",
       "      <th>writer</th>\n",
       "      <th>contents</th>\n",
       "      <th>author</th>\n",
       "    </tr>\n",
       "  </thead>\n",
       "  <tbody>\n",
       "    <tr>\n",
       "      <th>0</th>\n",
       "      <td>http://poemlove.co.kr/m/bbs/board.php?bo_table...</td>\n",
       "      <td>[동시/첫눈 오는 날.]</td>\n",
       "      <td>장수남</td>\n",
       "      <td>['동시/첫눈 오는 날.', '은빛하늘 하얀 꿈', '하얀 둥지 틀고', '아장아장...</td>\n",
       "      <td>장수남</td>\n",
       "    </tr>\n",
       "    <tr>\n",
       "      <th>1</th>\n",
       "      <td>http://poemlove.co.kr/m/bbs/board.php?bo_table...</td>\n",
       "      <td>[그리움, 너는]</td>\n",
       "      <td>고은영</td>\n",
       "      <td>['그리움, 너는 / &lt;CHI&gt;고은영', '비 오는 저 들녘', '눈 내리는 어둑한...</td>\n",
       "      <td>고은영</td>\n",
       "    </tr>\n",
       "    <tr>\n",
       "      <th>2</th>\n",
       "      <td>http://poemlove.co.kr/m/bbs/board.php?bo_table...</td>\n",
       "      <td>[비워내는 건 외로운 법이다]</td>\n",
       "      <td>고은영</td>\n",
       "      <td>['비워내는 건 외로운 법이다 / &lt;CHI&gt;고은영', '깊은 겨울 추위 속에도 창가...</td>\n",
       "      <td>고은영</td>\n",
       "    </tr>\n",
       "    <tr>\n",
       "      <th>3</th>\n",
       "      <td>http://poemlove.co.kr/m/bbs/board.php?bo_table...</td>\n",
       "      <td>[지극히 따뜻한 애혼(愛魂)에게]</td>\n",
       "      <td>고은영</td>\n",
       "      <td>['지극히 따뜻한 애혼&lt;CHI&gt;에게 / &lt;CHI&gt;고은영', '너의 영혼에 나를 심고...</td>\n",
       "      <td>고은영</td>\n",
       "    </tr>\n",
       "    <tr>\n",
       "      <th>4</th>\n",
       "      <td>http://poemlove.co.kr/m/bbs/board.php?bo_table...</td>\n",
       "      <td>[12월엔  설화(雪花)를 그리는 한 마리 노루이고 싶다]</td>\n",
       "      <td>고은영</td>\n",
       "      <td>['&lt;NUM&gt;월엔 설화&lt;CHI&gt;를 그리는 한 마리 노루이고 싶다 / &lt;CHI&gt;고은영...</td>\n",
       "      <td>고은영</td>\n",
       "    </tr>\n",
       "    <tr>\n",
       "      <th>...</th>\n",
       "      <td>...</td>\n",
       "      <td>...</td>\n",
       "      <td>...</td>\n",
       "      <td>...</td>\n",
       "      <td>...</td>\n",
       "    </tr>\n",
       "    <tr>\n",
       "      <th>143153</th>\n",
       "      <td>http://poemlove.co.kr/m/bbs/board.php?bo_table...</td>\n",
       "      <td>[가죽나무]</td>\n",
       "      <td>poemlove</td>\n",
       "      <td>['나는 내가 부족한 나무라는 걸 안다 내딴에는 곧게 자란다 생각했지만 어떤 나무는...</td>\n",
       "      <td>도종환</td>\n",
       "    </tr>\n",
       "    <tr>\n",
       "      <th>143154</th>\n",
       "      <td>http://poemlove.co.kr/m/bbs/board.php?bo_table...</td>\n",
       "      <td>[당신의 나라]</td>\n",
       "      <td>poemlove</td>\n",
       "      <td>['언제나 당신은 저만치에만 있습니다 내가 다가갈 수 없는 꼭 그만치에 서서 나를 ...</td>\n",
       "      <td>서주홍</td>\n",
       "    </tr>\n",
       "    <tr>\n",
       "      <th>143155</th>\n",
       "      <td>http://poemlove.co.kr/m/bbs/board.php?bo_table...</td>\n",
       "      <td>[물먹는 하마]</td>\n",
       "      <td>관리자</td>\n",
       "      <td>['어서, 하마를 치워야 할텐데 저 하마를 밖으로 끌어내야 할텐데 늦장마 끝나고 서...</td>\n",
       "      <td>강문숙</td>\n",
       "    </tr>\n",
       "    <tr>\n",
       "      <th>143156</th>\n",
       "      <td>http://poemlove.co.kr/m/bbs/board.php?bo_table...</td>\n",
       "      <td>[혼자 일 수 밖에 없었던 이유]</td>\n",
       "      <td>poemlove</td>\n",
       "      <td>['돌아보면 언제나 혼자였다.나를 사랑한다고 다가오는 사람에게선내가 물러났고,내가 ...</td>\n",
       "      <td>이용채</td>\n",
       "    </tr>\n",
       "    <tr>\n",
       "      <th>143157</th>\n",
       "      <td>http://poemlove.co.kr/m/bbs/board.php?bo_table...</td>\n",
       "      <td>[한사람]</td>\n",
       "      <td>poemlove</td>\n",
       "      <td>['살아가면서 많은 것이 묻혀지고 잊혀진다 하더라도 그대 이름만은 내 가슴에 남아 ...</td>\n",
       "      <td>이정하</td>\n",
       "    </tr>\n",
       "  </tbody>\n",
       "</table>\n",
       "<p>143158 rows × 5 columns</p>\n",
       "</div>"
      ],
      "text/plain": [
       "                                                      url  ... author\n",
       "0       http://poemlove.co.kr/m/bbs/board.php?bo_table...  ...    장수남\n",
       "1       http://poemlove.co.kr/m/bbs/board.php?bo_table...  ...    고은영\n",
       "2       http://poemlove.co.kr/m/bbs/board.php?bo_table...  ...    고은영\n",
       "3       http://poemlove.co.kr/m/bbs/board.php?bo_table...  ...    고은영\n",
       "4       http://poemlove.co.kr/m/bbs/board.php?bo_table...  ...    고은영\n",
       "...                                                   ...  ...    ...\n",
       "143153  http://poemlove.co.kr/m/bbs/board.php?bo_table...  ...    도종환\n",
       "143154  http://poemlove.co.kr/m/bbs/board.php?bo_table...  ...    서주홍\n",
       "143155  http://poemlove.co.kr/m/bbs/board.php?bo_table...  ...    강문숙\n",
       "143156  http://poemlove.co.kr/m/bbs/board.php?bo_table...  ...    이용채\n",
       "143157  http://poemlove.co.kr/m/bbs/board.php?bo_table...  ...    이정하\n",
       "\n",
       "[143158 rows x 5 columns]"
      ]
     },
     "execution_count": 24,
     "metadata": {
      "tags": []
     },
     "output_type": "execute_result"
    }
   ],
   "source": [
    "poetry_final"
   ]
  },
  {
   "cell_type": "code",
   "execution_count": 25,
   "metadata": {
    "colab": {
     "base_uri": "https://localhost:8080/",
     "height": 55
    },
    "colab_type": "code",
    "id": "pTMcKYIE24XE",
    "outputId": "8eb90d73-74ba-4b2a-fd19-81db46330008"
   },
   "outputs": [
    {
     "data": {
      "text/plain": [
       "\"['동시/첫눈 오는 날.', '은빛하늘 하얀 꿈', '하얀 둥지 틀고', '아장아장 작은 설렘', '첫눈이 내린다.', '소복소복 너와의', '속삭임은', '초롱불 외할머니의', '긴 옛이야기.', '앞마당 눈사람', '콧수염 우리할아버지', '내가 그리 생겼냐?', '추억하나 그립다.']\""
      ]
     },
     "execution_count": 25,
     "metadata": {
      "tags": []
     },
     "output_type": "execute_result"
    }
   ],
   "source": [
    "poetry_final.contents[0]"
   ]
  },
  {
   "cell_type": "code",
   "execution_count": 26,
   "metadata": {
    "colab": {
     "base_uri": "https://localhost:8080/",
     "height": 67,
     "referenced_widgets": [
      "ab0a5f2d217f4df887adc76eb55b79f1",
      "cce0f1299b9344f992dde27e110b3788",
      "4fd3a6d92a474ec98b02789a4baa843a",
      "c67f847bff79445791b5264acbdd6f3e",
      "aee05e5ff075417aaff82b4f7cacf320",
      "e7172bc76bf84d719f2b72b242b33562",
      "38c62d8d91e24da1b32c8c11e04ad4d7",
      "aaa14a5eeae946099b8af5819ffccaa1"
     ]
    },
    "colab_type": "code",
    "id": "LnFs9fOC24XH",
    "outputId": "abb6bd31-3ac4-4ea8-82e4-9c694fd8fe67"
   },
   "outputs": [
    {
     "data": {
      "application/vnd.jupyter.widget-view+json": {
       "model_id": "ab0a5f2d217f4df887adc76eb55b79f1",
       "version_major": 2,
       "version_minor": 0
      },
      "text/plain": [
       "HBox(children=(IntProgress(value=0, max=143158), HTML(value='')))"
      ]
     },
     "metadata": {
      "tags": []
     },
     "output_type": "display_data"
    },
    {
     "name": "stdout",
     "output_type": "stream",
     "text": [
      "\n"
     ]
    }
   ],
   "source": [
    "b = []\n",
    "for content in tqdm_notebook(poetry_final.contents):\n",
    "    a = []\n",
    "    for i in range(len(content.split(\"'\")[1:-1])):\n",
    "        if i % 2 == 0:\n",
    "            a.append(content.split(\"'\")[1:-1][i])\n",
    "    b.append(a)\n",
    "poetry_final['contents'] = b"
   ]
  },
  {
   "cell_type": "code",
   "execution_count": 27,
   "metadata": {
    "colab": {
     "base_uri": "https://localhost:8080/",
     "height": 35
    },
    "colab_type": "code",
    "id": "5ENKecwh24XM",
    "outputId": "abed8ffb-1dc3-4bf9-b0dc-cf3f0b1ae847"
   },
   "outputs": [
    {
     "data": {
      "text/plain": [
       "'착각'"
      ]
     },
     "execution_count": 27,
     "metadata": {
      "tags": []
     },
     "output_type": "execute_result"
    }
   ],
   "source": [
    "poetry_final.title[7][0]"
   ]
  },
  {
   "cell_type": "code",
   "execution_count": 28,
   "metadata": {
    "colab": {
     "base_uri": "https://localhost:8080/",
     "height": 35
    },
    "colab_type": "code",
    "id": "SU0iLiwh24XP",
    "outputId": "37e87030-549d-4c60-8c2b-3e3068771fde"
   },
   "outputs": [
    {
     "data": {
      "text/plain": [
       "['착각', '이남일']"
      ]
     },
     "execution_count": 28,
     "metadata": {
      "tags": []
     },
     "output_type": "execute_result"
    }
   ],
   "source": [
    "poetry_final['contents'][7][:2]"
   ]
  },
  {
   "cell_type": "code",
   "execution_count": 29,
   "metadata": {
    "colab": {
     "base_uri": "https://localhost:8080/",
     "height": 35
    },
    "colab_type": "code",
    "id": "5Ch5sbx824XT",
    "outputId": "1fc9b73d-f6ff-4311-c1c9-e25d6c559769"
   },
   "outputs": [
    {
     "data": {
      "text/plain": [
       "True"
      ]
     },
     "execution_count": 29,
     "metadata": {
      "tags": []
     },
     "output_type": "execute_result"
    }
   ],
   "source": [
    "'ssdfa' in 'ssdfaerew'"
   ]
  },
  {
   "cell_type": "code",
   "execution_count": 30,
   "metadata": {
    "colab": {
     "base_uri": "https://localhost:8080/",
     "height": 35
    },
    "colab_type": "code",
    "id": "YHwO3f7624XW",
    "outputId": "4ffe291f-f1fa-4e80-a5dc-43be07b3e640"
   },
   "outputs": [
    {
     "name": "stdout",
     "output_type": "stream",
     "text": [
      "d\n"
     ]
    }
   ],
   "source": [
    "for i in poetry_final['contents'][7][:2]:\n",
    "    if poetry_final.title[7][0] in i:\n",
    "        print('d')"
   ]
  },
  {
   "cell_type": "code",
   "execution_count": 31,
   "metadata": {
    "colab": {
     "base_uri": "https://localhost:8080/",
     "height": 35
    },
    "colab_type": "code",
    "id": "mnP_aR2T24XZ",
    "outputId": "6126adb3-4e2f-446e-e6b9-cef30f6bb077"
   },
   "outputs": [
    {
     "data": {
      "text/plain": [
       "'은빛하늘 하얀 꿈'"
      ]
     },
     "execution_count": 31,
     "metadata": {
      "tags": []
     },
     "output_type": "execute_result"
    }
   ],
   "source": [
    "poetry_final['contents'][0][:2][1]"
   ]
  },
  {
   "cell_type": "code",
   "execution_count": 32,
   "metadata": {
    "colab": {
     "base_uri": "https://localhost:8080/",
     "height": 35
    },
    "colab_type": "code",
    "id": "MMuUa_V824Xc",
    "outputId": "aec2a65c-a766-45d3-9436-364a00eee027"
   },
   "outputs": [
    {
     "data": {
      "text/plain": [
       "['초겨울 날 아침']"
      ]
     },
     "execution_count": 32,
     "metadata": {
      "tags": []
     },
     "output_type": "execute_result"
    }
   ],
   "source": [
    "poetry_final['title'][56]"
   ]
  },
  {
   "cell_type": "code",
   "execution_count": 33,
   "metadata": {
    "colab": {
     "base_uri": "https://localhost:8080/",
     "height": 55
    },
    "colab_type": "code",
    "id": "GFf1eNjj24Xf",
    "outputId": "5873421b-22ca-4939-9d49-aff23d87970c",
    "scrolled": false
   },
   "outputs": [
    {
     "data": {
      "text/plain": [
       "['황혼이 바다가 되어 윤동주하로도 검푸른 물결에흐느적 잠기고......잠기고......저--왼 검은 고기 떼가물든 바다를 날아 횡단할고.낙엽이 된 해초해초마다 슬프기도 하오.서창에 걸린 해말간 풍경화.옷고름 너어는 고아<CHI>의 서름.이제 첫 항해하는 마음을 먹고방바닥에 나뒹구오......뒹구오......황혼이 바다가 되어오늘도 수많은 배가나와 함께 이 물결에 잠겼을 게오.']"
      ]
     },
     "execution_count": 33,
     "metadata": {
      "tags": []
     },
     "output_type": "execute_result"
    }
   ],
   "source": [
    "poetry_final['contents'][138000]"
   ]
  },
  {
   "cell_type": "code",
   "execution_count": 0,
   "metadata": {
    "colab": {},
    "colab_type": "code",
    "id": "f2k-jqQO24Xi"
   },
   "outputs": [],
   "source": [
    "len_con = []\n",
    "for i in poetry_final['contents']:\n",
    "    len_con.append(len(i))"
   ]
  },
  {
   "cell_type": "code",
   "execution_count": 35,
   "metadata": {
    "colab": {
     "base_uri": "https://localhost:8080/",
     "height": 288
    },
    "colab_type": "code",
    "id": "8OPiiPfq24Xn",
    "outputId": "2d6c75d5-9b51-4595-ddd1-3ce2d21865a0"
   },
   "outputs": [
    {
     "data": {
      "text/html": [
       "<div>\n",
       "<style scoped>\n",
       "    .dataframe tbody tr th:only-of-type {\n",
       "        vertical-align: middle;\n",
       "    }\n",
       "\n",
       "    .dataframe tbody tr th {\n",
       "        vertical-align: top;\n",
       "    }\n",
       "\n",
       "    .dataframe thead th {\n",
       "        text-align: right;\n",
       "    }\n",
       "</style>\n",
       "<table border=\"1\" class=\"dataframe\">\n",
       "  <thead>\n",
       "    <tr style=\"text-align: right;\">\n",
       "      <th></th>\n",
       "      <th>0</th>\n",
       "    </tr>\n",
       "  </thead>\n",
       "  <tbody>\n",
       "    <tr>\n",
       "      <th>count</th>\n",
       "      <td>143158.000000</td>\n",
       "    </tr>\n",
       "    <tr>\n",
       "      <th>mean</th>\n",
       "      <td>16.472750</td>\n",
       "    </tr>\n",
       "    <tr>\n",
       "      <th>std</th>\n",
       "      <td>22.840872</td>\n",
       "    </tr>\n",
       "    <tr>\n",
       "      <th>min</th>\n",
       "      <td>0.000000</td>\n",
       "    </tr>\n",
       "    <tr>\n",
       "      <th>25%</th>\n",
       "      <td>8.000000</td>\n",
       "    </tr>\n",
       "    <tr>\n",
       "      <th>50%</th>\n",
       "      <td>16.000000</td>\n",
       "    </tr>\n",
       "    <tr>\n",
       "      <th>75%</th>\n",
       "      <td>22.000000</td>\n",
       "    </tr>\n",
       "    <tr>\n",
       "      <th>max</th>\n",
       "      <td>2712.000000</td>\n",
       "    </tr>\n",
       "  </tbody>\n",
       "</table>\n",
       "</div>"
      ],
      "text/plain": [
       "                   0\n",
       "count  143158.000000\n",
       "mean       16.472750\n",
       "std        22.840872\n",
       "min         0.000000\n",
       "25%         8.000000\n",
       "50%        16.000000\n",
       "75%        22.000000\n",
       "max      2712.000000"
      ]
     },
     "execution_count": 35,
     "metadata": {
      "tags": []
     },
     "output_type": "execute_result"
    }
   ],
   "source": [
    "len_con_df = pd.DataFrame(len_con)\n",
    "len_con_df.describe()"
   ]
  },
  {
   "cell_type": "code",
   "execution_count": 36,
   "metadata": {
    "colab": {
     "base_uri": "https://localhost:8080/",
     "height": 283
    },
    "colab_type": "code",
    "id": "6at6ULSQ24Xr",
    "outputId": "5d8cc5f5-6d59-4115-aef5-8d7451c3f710"
   },
   "outputs": [
    {
     "data": {
      "text/plain": [
       "<matplotlib.axes._subplots.AxesSubplot at 0x7f6b0ec16828>"
      ]
     },
     "execution_count": 36,
     "metadata": {
      "tags": []
     },
     "output_type": "execute_result"
    },
    {
     "data": {
      "image/png": "[encoded data removed]",
      "text/plain": [
       "<Figure size 432x288 with 1 Axes>"
      ]
     },
     "metadata": {
      "tags": []
     },
     "output_type": "display_data"
    }
   ],
   "source": [
    "len_con_df.plot()"
   ]
  },
  {
   "cell_type": "code",
   "execution_count": 58,
   "metadata": {
    "colab": {
     "base_uri": "https://localhost:8080/",
     "height": 235
    },
    "colab_type": "code",
    "id": "3_GTcGx524Xv",
    "outputId": "2b43c6e4-30d4-43ef-c957-7b87764b67ca"
   },
   "outputs": [
    {
     "data": {
      "text/plain": [
       "71                                                 [**, **]\n",
       "614                          [수홍이한테 문자 보낸다., 수홍이한테 문자 보낸다.]\n",
       "1054                                     [첨부파일 참조, 첨부파일 참조]\n",
       "1124                         [첨부파일 참조 바랍니다., 첨부파일 참조 바랍니다.]\n",
       "2019      [내 사랑 그대여! 내 눈을 감겨요. 나 그대 만질 수 있어니;내 사랑 그대여 <N...\n",
       "                                ...                        \n",
       "143153    [나는 내가 부족한 나무라는 걸 안다 내딴에는 곧게 자란다 생각했지만 어떤 나무는 ...\n",
       "143154    [언제나 당신은 저만치에만 있습니다 내가 다가갈 수 없는 꼭 그만치에 서서 나를 지...\n",
       "143155    [어서, 하마를 치워야 할텐데 저 하마를 밖으로 끌어내야 할텐데 늦장마 끝나고 서늘...\n",
       "143156    [돌아보면 언제나 혼자였다.나를 사랑한다고 다가오는 사람에게선내가 물러났고,내가 사...\n",
       "143157    [살아가면서 많은 것이 묻혀지고 잊혀진다 하더라도 그대 이름만은 내 가슴에 남아 있...\n",
       "Name: contents, Length: 26573, dtype: object"
      ]
     },
     "execution_count": 58,
     "metadata": {
      "tags": []
     },
     "output_type": "execute_result"
    }
   ],
   "source": [
    "poetry_final.loc[len_con_df[0] == 1, 'contents']"
   ]
  },
  {
   "cell_type": "code",
   "execution_count": 0,
   "metadata": {
    "colab": {},
    "colab_type": "code",
    "id": "QijgiRaE-wfQ"
   },
   "outputs": [],
   "source": [
    "import kss"
   ]
  },
  {
   "cell_type": "code",
   "execution_count": 0,
   "metadata": {
    "colab": {},
    "colab_type": "code",
    "id": "xXUjijKc9v89"
   },
   "outputs": [],
   "source": [
    "for i in poetry_final.loc[len_con_df[0] == 1, 'contents'].index:\n",
    "  poetry_final.contents[i] += kss.split_sentences(poetry_final.contents[i][0])"
   ]
  },
  {
   "cell_type": "code",
   "execution_count": 61,
   "metadata": {
    "colab": {
     "base_uri": "https://localhost:8080/",
     "height": 219
    },
    "colab_type": "code",
    "id": "pWIywzkM-4J1",
    "outputId": "e2fe47ed-89e1-49d1-f31b-5b3cc20f0e04"
   },
   "outputs": [
    {
     "data": {
      "text/plain": [
       "['돌아보면 언제나 혼자였다.나를 사랑한다고 다가오는 사람에게선내가 물러났고,내가 사랑하는 이에게 다가가면....그가 물러 났다.나에게서 물러선 그대에게... 다시 다가가면....그가 부담스러워, 나를 피했고내가 물 러섰는데도 다가오는 이는.... 내가 피하고 싶어 견딜 수 없었다.늘...나를 사랑해 주는 사람보다...내가 사랑하는 사람이 아름다웠던 것은..내겐 늘곁에 있어 줄수 있는 이보다내가 곁에 있고 싶은 이가 필요했던 것을..만나고 싶은 사람은 만나지지 않고..나를 만나고 싶다는 사람만이 자꾸 만나지는어이없는 삶. 그러기에나는 언제나 섬일 수 밖에..돌아보면 늘 섬이 술을 마시고 있었다.섬이 왜 우는지아무도 몰랐고,섬이...왜... 술잔을 자꾸 드는지아무도 물어주지 않았다.파도는 오늘도 절벽의 가슴에 부딫혀 온다.',\n",
       " '돌아보면 언제나 혼자였다.',\n",
       " '나를 사랑한다고 다가오는 사람에게선내가 물러났고,내가 사랑하는 이에게 다가가면....그가 물러 났다.',\n",
       " '나에게서 물러선 그대에게... 다시 다가가면....그가 부담스러워, 나를 피했고내가 물 러섰는데도 다가오는 이는.... 내가 피하고 싶어 견딜 수 없었다.',\n",
       " '늘...나를 사랑해 주는 사람보다...',\n",
       " '내가 사랑하는 사람이 아름다웠던 것은..내겐 늘곁에 있어 줄수 있는 이보다내가 곁에 있고 싶은 이가 필요했던 것을..',\n",
       " '만나고 싶은 사람은 만나지지 않고..',\n",
       " '나를 만나고 싶다는 사람만이 자꾸 만나지는어이없는 삶. 그러기에나는 언제나 섬일 수 밖에..돌아보면 늘 섬이 술을 마시고 있었다.',\n",
       " '섬이 왜 우는지아무도 몰랐고,섬이...왜... 술잔을 자꾸 드는지아무도 물어주지 않았다.',\n",
       " '파도는 오늘도 절벽의 가슴에 부딫혀 온다.']"
      ]
     },
     "execution_count": 61,
     "metadata": {
      "tags": []
     },
     "output_type": "execute_result"
    }
   ],
   "source": [
    "poetry_final.contents[143156]"
   ]
  },
  {
   "cell_type": "code",
   "execution_count": 0,
   "metadata": {
    "colab": {},
    "colab_type": "code",
    "id": "CeXGRZTZ_3_6"
   },
   "outputs": [],
   "source": [
    "len_con = []\n",
    "for i in poetry_final['contents']:\n",
    "    len_con.append(len(i))"
   ]
  },
  {
   "cell_type": "code",
   "execution_count": 70,
   "metadata": {
    "colab": {
     "base_uri": "https://localhost:8080/",
     "height": 288
    },
    "colab_type": "code",
    "id": "gw4o9ddd_4AD",
    "outputId": "90df36d4-cc1e-44d3-e505-8b889b8146e2"
   },
   "outputs": [
    {
     "data": {
      "text/html": [
       "<div>\n",
       "<style scoped>\n",
       "    .dataframe tbody tr th:only-of-type {\n",
       "        vertical-align: middle;\n",
       "    }\n",
       "\n",
       "    .dataframe tbody tr th {\n",
       "        vertical-align: top;\n",
       "    }\n",
       "\n",
       "    .dataframe thead th {\n",
       "        text-align: right;\n",
       "    }\n",
       "</style>\n",
       "<table border=\"1\" class=\"dataframe\">\n",
       "  <thead>\n",
       "    <tr style=\"text-align: right;\">\n",
       "      <th></th>\n",
       "      <th>0</th>\n",
       "    </tr>\n",
       "  </thead>\n",
       "  <tbody>\n",
       "    <tr>\n",
       "      <th>count</th>\n",
       "      <td>143158.000000</td>\n",
       "    </tr>\n",
       "    <tr>\n",
       "      <th>mean</th>\n",
       "      <td>17.231150</td>\n",
       "    </tr>\n",
       "    <tr>\n",
       "      <th>std</th>\n",
       "      <td>22.526778</td>\n",
       "    </tr>\n",
       "    <tr>\n",
       "      <th>min</th>\n",
       "      <td>0.000000</td>\n",
       "    </tr>\n",
       "    <tr>\n",
       "      <th>25%</th>\n",
       "      <td>9.000000</td>\n",
       "    </tr>\n",
       "    <tr>\n",
       "      <th>50%</th>\n",
       "      <td>16.000000</td>\n",
       "    </tr>\n",
       "    <tr>\n",
       "      <th>75%</th>\n",
       "      <td>22.000000</td>\n",
       "    </tr>\n",
       "    <tr>\n",
       "      <th>max</th>\n",
       "      <td>2712.000000</td>\n",
       "    </tr>\n",
       "  </tbody>\n",
       "</table>\n",
       "</div>"
      ],
      "text/plain": [
       "                   0\n",
       "count  143158.000000\n",
       "mean       17.231150\n",
       "std        22.526778\n",
       "min         0.000000\n",
       "25%         9.000000\n",
       "50%        16.000000\n",
       "75%        22.000000\n",
       "max      2712.000000"
      ]
     },
     "execution_count": 70,
     "metadata": {
      "tags": []
     },
     "output_type": "execute_result"
    }
   ],
   "source": [
    "len_con_df = pd.DataFrame(len_con)\n",
    "len_con_df.describe()"
   ]
  },
  {
   "cell_type": "code",
   "execution_count": 71,
   "metadata": {
    "colab": {
     "base_uri": "https://localhost:8080/",
     "height": 283
    },
    "colab_type": "code",
    "id": "zii7bM1n_4AG",
    "outputId": "161cfbf7-a945-4adb-c250-2ba1a130e94a"
   },
   "outputs": [
    {
     "data": {
      "text/plain": [
       "<matplotlib.axes._subplots.AxesSubplot at 0x7f6afc993a90>"
      ]
     },
     "execution_count": 71,
     "metadata": {
      "tags": []
     },
     "output_type": "execute_result"
    },
    {
     "data": {
      "image/png": "[encoded data removed]",
      "text/plain": [
       "<Figure size 432x288 with 1 Axes>"
      ]
     },
     "metadata": {
      "tags": []
     },
     "output_type": "display_data"
    }
   ],
   "source": [
    "len_con_df.plot()"
   ]
  },
  {
   "cell_type": "code",
   "execution_count": 73,
   "metadata": {
    "colab": {
     "base_uri": "https://localhost:8080/",
     "height": 235
    },
    "colab_type": "code",
    "id": "BbMdH8cV_-Ln",
    "outputId": "db66a787-333b-427d-a7f7-a377597d1c42"
   },
   "outputs": [
    {
     "data": {
      "text/plain": [
       "35        [겨울, 맥향, 그 날 동성로는 성탄준비로 인파가 붐볐다. 부러운 눈으로 그들을 보...\n",
       "71                                                 [**, **]\n",
       "72        [아, 시원해., 갑자기 망치로 얻어 맞은 듯 멍청해지네. 체. 통영시인 김종수랑 ...\n",
       "112       [오프라 윈프라, <ENG>://<ENG>.<ENG>.<ENG>/<ENG>?v=<E...\n",
       "178       [달빛 젖은 눈을 밟는 사람은 아름답다., 내사랑너!너의 말대로 너가 선생인 건 다...\n",
       "                                ...                        \n",
       "143148    [오늘밤 깊어가는 어둠속으로 내내 당신이 내 마음에 걸려 있습니다. 내 마음에 당신...\n",
       "143149    [스물 셋 청춘의 문밖에 떡하니 내다 건 사랑의 문패 그 문패를 보고 얼마나 많은 ...\n",
       "143150    [새벽에 깨어나 반짝이는 별을 보고 있으면 이 세상 깊은 어디에 마르지 않는 사랑의...\n",
       "143151    [초대받지 못한 잔치에서 초대받지 않은 손님으로 두 다리를 세워두기란 불 가마 앞에...\n",
       "143152    [그리운 부석사정 호 승사랑하다가 죽어버려라오죽하면 비로자나불이 손가락에 매달려 앉...\n",
       "Name: contents, Length: 17921, dtype: object"
      ]
     },
     "execution_count": 73,
     "metadata": {
      "tags": []
     },
     "output_type": "execute_result"
    }
   ],
   "source": [
    "poetry_final.loc[len_con_df[0] < 5, 'contents']"
   ]
  },
  {
   "cell_type": "code",
   "execution_count": 0,
   "metadata": {
    "colab": {},
    "colab_type": "code",
    "id": "_T0MyHcu6sM7"
   },
   "outputs": [],
   "source": [
    "data.to_pickle(\"/content/drive/My Drive/Summarization/data/preprocessing/data_ppc_1.pkl\")"
   ]
  },
  {
   "cell_type": "code",
   "execution_count": 76,
   "metadata": {
    "colab": {
     "base_uri": "https://localhost:8080/",
     "height": 67,
     "referenced_widgets": [
      "5d268a644a974c88b379ad7b99ead145",
      "35abe59e8ebe4ce7acf9abf4173e0b30",
      "d2c5574130c3446f9ab5299307c69415",
      "243abe449acb4955bf09a830cf8d49d2",
      "2a160c2e444e42d794a4325b8a1d1686",
      "1087a2a6c378464798e3bfb3823f63a1",
      "dd3f7a1f05554066bd6465b86ff0b5b3",
      "947caa700c7a4746bf539b562853fec3"
     ]
    },
    "colab_type": "code",
    "id": "M-SM30Ea24X1",
    "outputId": "e0f127ba-77a4-4288-bd74-3b80b0f66688",
    "scrolled": true
   },
   "outputs": [
    {
     "data": {
      "application/vnd.jupyter.widget-view+json": {
       "model_id": "5d268a644a974c88b379ad7b99ead145",
       "version_major": 2,
       "version_minor": 0
      },
      "text/plain": [
       "HBox(children=(IntProgress(value=0, max=143158), HTML(value='')))"
      ]
     },
     "metadata": {
      "tags": []
     },
     "output_type": "display_data"
    },
    {
     "name": "stdout",
     "output_type": "stream",
     "text": [
      "\n"
     ]
    }
   ],
   "source": [
    "new_contents = []\n",
    "for i in tqdm_notebook(range(len(poetry_final['contents']))):\n",
    "    a = []\n",
    "    try:\n",
    "        for j in range(len(poetry_final['contents'][i][:2])):\n",
    "            if poetry_final.title[i][0] in poetry_final['contents'][i][:2][j]:\n",
    "                poetry_final['contents'][i].remove(poetry_final['contents'][i][:2][j])\n",
    "            if poetry_final.author[i][0] in poetry_final['contents'][i][:2][j]:\n",
    "                poetry_final['contents'][i].remove(poetry_final['contents'][i][:2][j])\n",
    "    except:\n",
    "        poetry_final['contents'][i]\n",
    "            "
   ]
  },
  {
   "cell_type": "code",
   "execution_count": 77,
   "metadata": {
    "colab": {
     "base_uri": "https://localhost:8080/",
     "height": 580
    },
    "colab_type": "code",
    "id": "fXDax3hBAOyZ",
    "outputId": "ff5360e1-169e-4c68-fbd2-48f9fe80367d"
   },
   "outputs": [
    {
     "data": {
      "text/html": [
       "<div>\n",
       "<style scoped>\n",
       "    .dataframe tbody tr th:only-of-type {\n",
       "        vertical-align: middle;\n",
       "    }\n",
       "\n",
       "    .dataframe tbody tr th {\n",
       "        vertical-align: top;\n",
       "    }\n",
       "\n",
       "    .dataframe thead th {\n",
       "        text-align: right;\n",
       "    }\n",
       "</style>\n",
       "<table border=\"1\" class=\"dataframe\">\n",
       "  <thead>\n",
       "    <tr style=\"text-align: right;\">\n",
       "      <th></th>\n",
       "      <th>url</th>\n",
       "      <th>title</th>\n",
       "      <th>writer</th>\n",
       "      <th>contents</th>\n",
       "      <th>author</th>\n",
       "    </tr>\n",
       "  </thead>\n",
       "  <tbody>\n",
       "    <tr>\n",
       "      <th>0</th>\n",
       "      <td>http://poemlove.co.kr/m/bbs/board.php?bo_table...</td>\n",
       "      <td>[동시/첫눈 오는 날.]</td>\n",
       "      <td>장수남</td>\n",
       "      <td>[은빛하늘 하얀 꿈, 하얀 둥지 틀고, 아장아장 작은 설렘, 첫눈이 내린다., 소복...</td>\n",
       "      <td>장수남</td>\n",
       "    </tr>\n",
       "    <tr>\n",
       "      <th>1</th>\n",
       "      <td>http://poemlove.co.kr/m/bbs/board.php?bo_table...</td>\n",
       "      <td>[그리움, 너는]</td>\n",
       "      <td>고은영</td>\n",
       "      <td>[비 오는 저 들녘, 눈 내리는 어둑한 골목, 바람부는 환장할 공터, 펄럭이는 깃발...</td>\n",
       "      <td>고은영</td>\n",
       "    </tr>\n",
       "    <tr>\n",
       "      <th>2</th>\n",
       "      <td>http://poemlove.co.kr/m/bbs/board.php?bo_table...</td>\n",
       "      <td>[비워내는 건 외로운 법이다]</td>\n",
       "      <td>고은영</td>\n",
       "      <td>[깊은 겨울 추위 속에도 창가에서면, 이 따뜻한 햇살 안에 어둠처럼 웅크린, 주기적...</td>\n",
       "      <td>고은영</td>\n",
       "    </tr>\n",
       "    <tr>\n",
       "      <th>3</th>\n",
       "      <td>http://poemlove.co.kr/m/bbs/board.php?bo_table...</td>\n",
       "      <td>[지극히 따뜻한 애혼(愛魂)에게]</td>\n",
       "      <td>고은영</td>\n",
       "      <td>[필연적으로 기우는 벼랑에서도, 너를 목말라하였기에, 나는 너를 위하여 울 수 있었...</td>\n",
       "      <td>고은영</td>\n",
       "    </tr>\n",
       "    <tr>\n",
       "      <th>4</th>\n",
       "      <td>http://poemlove.co.kr/m/bbs/board.php?bo_table...</td>\n",
       "      <td>[12월엔  설화(雪花)를 그리는 한 마리 노루이고 싶다]</td>\n",
       "      <td>고은영</td>\n",
       "      <td>[미시령 깊은 계곡, 어느 이름 모를 골짜기로 들어가, 존재의 고독을 잊고, 아름아...</td>\n",
       "      <td>고은영</td>\n",
       "    </tr>\n",
       "    <tr>\n",
       "      <th>...</th>\n",
       "      <td>...</td>\n",
       "      <td>...</td>\n",
       "      <td>...</td>\n",
       "      <td>...</td>\n",
       "      <td>...</td>\n",
       "    </tr>\n",
       "    <tr>\n",
       "      <th>143153</th>\n",
       "      <td>http://poemlove.co.kr/m/bbs/board.php?bo_table...</td>\n",
       "      <td>[가죽나무]</td>\n",
       "      <td>poemlove</td>\n",
       "      <td>[나는 내가 부족한 나무라는 걸 안다 내딴에는 곧게 자란다 생각했지만 어떤 나무는 ...</td>\n",
       "      <td>도종환</td>\n",
       "    </tr>\n",
       "    <tr>\n",
       "      <th>143154</th>\n",
       "      <td>http://poemlove.co.kr/m/bbs/board.php?bo_table...</td>\n",
       "      <td>[당신의 나라]</td>\n",
       "      <td>poemlove</td>\n",
       "      <td>[언제나 당신은 저만치에만 있습니다, 언젠가 한번 당신이 나에게 일러 준 듯한 당신...</td>\n",
       "      <td>서주홍</td>\n",
       "    </tr>\n",
       "    <tr>\n",
       "      <th>143155</th>\n",
       "      <td>http://poemlove.co.kr/m/bbs/board.php?bo_table...</td>\n",
       "      <td>[물먹는 하마]</td>\n",
       "      <td>관리자</td>\n",
       "      <td>[어서, 하마를 치워야 할텐데 저 하마를 밖으로 끌어내야 할텐데 늦장마 끝나고 서늘...</td>\n",
       "      <td>강문숙</td>\n",
       "    </tr>\n",
       "    <tr>\n",
       "      <th>143156</th>\n",
       "      <td>http://poemlove.co.kr/m/bbs/board.php?bo_table...</td>\n",
       "      <td>[혼자 일 수 밖에 없었던 이유]</td>\n",
       "      <td>poemlove</td>\n",
       "      <td>[돌아보면 언제나 혼자였다., 나에게서 물러선 그대에게... 다시 다가가면....그...</td>\n",
       "      <td>이용채</td>\n",
       "    </tr>\n",
       "    <tr>\n",
       "      <th>143157</th>\n",
       "      <td>http://poemlove.co.kr/m/bbs/board.php?bo_table...</td>\n",
       "      <td>[한사람]</td>\n",
       "      <td>poemlove</td>\n",
       "      <td>[살아가면서 많은 것이 묻혀지고 잊혀진다 하더라도 그대 이름만은 내 가슴에 남아 있...</td>\n",
       "      <td>이정하</td>\n",
       "    </tr>\n",
       "  </tbody>\n",
       "</table>\n",
       "<p>143158 rows × 5 columns</p>\n",
       "</div>"
      ],
      "text/plain": [
       "                                                      url  ... author\n",
       "0       http://poemlove.co.kr/m/bbs/board.php?bo_table...  ...    장수남\n",
       "1       http://poemlove.co.kr/m/bbs/board.php?bo_table...  ...    고은영\n",
       "2       http://poemlove.co.kr/m/bbs/board.php?bo_table...  ...    고은영\n",
       "3       http://poemlove.co.kr/m/bbs/board.php?bo_table...  ...    고은영\n",
       "4       http://poemlove.co.kr/m/bbs/board.php?bo_table...  ...    고은영\n",
       "...                                                   ...  ...    ...\n",
       "143153  http://poemlove.co.kr/m/bbs/board.php?bo_table...  ...    도종환\n",
       "143154  http://poemlove.co.kr/m/bbs/board.php?bo_table...  ...    서주홍\n",
       "143155  http://poemlove.co.kr/m/bbs/board.php?bo_table...  ...    강문숙\n",
       "143156  http://poemlove.co.kr/m/bbs/board.php?bo_table...  ...    이용채\n",
       "143157  http://poemlove.co.kr/m/bbs/board.php?bo_table...  ...    이정하\n",
       "\n",
       "[143158 rows x 5 columns]"
      ]
     },
     "execution_count": 77,
     "metadata": {
      "tags": []
     },
     "output_type": "execute_result"
    }
   ],
   "source": [
    "poetry_final"
   ]
  },
  {
   "cell_type": "code",
   "execution_count": 79,
   "metadata": {
    "colab": {
     "base_uri": "https://localhost:8080/",
     "height": 128
    },
    "colab_type": "code",
    "id": "Ua5ZolzxA2Vw",
    "outputId": "eb3d5832-771a-406a-ef8c-19f2937a2c8f"
   },
   "outputs": [
    {
     "name": "stdout",
     "output_type": "stream",
     "text": [
      "Go to this URL in a browser: https://accounts.google.com/o/oauth2/auth?client_id=947318989803-6bn6qk8qdgf4n4g3pfee6491hc0brc4i.apps.googleusercontent.com&redirect_uri=urn%3aietf%3awg%3aoauth%3a2.0%3aoob&response_type=code&scope=email%20https%3a%2f%2fwww.googleapis.com%2fauth%2fdocs.test%20https%3a%2f%2fwww.googleapis.com%2fauth%2fdrive%20https%3a%2f%2fwww.googleapis.com%2fauth%2fdrive.photos.readonly%20https%3a%2f%2fwww.googleapis.com%2fauth%2fpeopleapi.readonly\n",
      "\n",
      "Enter your authorization code:\n",
      "··········\n",
      "Mounted at /content/drive\n"
     ]
    }
   ],
   "source": [
    "from google.colab import drive\n",
    "drive.mount('/content/drive')"
   ]
  },
  {
   "cell_type": "code",
   "execution_count": 0,
   "metadata": {
    "colab": {},
    "colab_type": "code",
    "id": "gLRnrCE9AdV-"
   },
   "outputs": [],
   "source": [
    "poetry_final.to_csv(\"/content/drive/My Drive/poetry_final.csv\")"
   ]
  },
  {
   "cell_type": "code",
   "execution_count": 0,
   "metadata": {
    "colab": {},
    "colab_type": "code",
    "id": "libPLy7aArP1"
   },
   "outputs": [],
   "source": []
  }
 ],
 "metadata": {
  "accelerator": "GPU",
  "colab": {
   "name": "데이터전처리.ipynb",
   "provenance": []
  },
  "kernelspec": {
   "display_name": "Python 3",
   "language": "python",
   "name": "python3"
  },
  "language_info": {
   "codemirror_mode": {
    "name": "ipython",
    "version": 3
   },
   "file_extension": ".py",
   "mimetype": "text/x-python",
   "name": "python",
   "nbconvert_exporter": "python",
   "pygments_lexer": "ipython3",
   "version": "3.6.5"
  },
  "widgets": {
   "application/vnd.jupyter.widget-state+json": {
    "1087a2a6c378464798e3bfb3823f63a1": {
     "model_module": "@jupyter-widgets/base",
     "model_name": "LayoutModel",
     "state": {
      "_model_module": "@jupyter-widgets/base",
      "_model_module_version": "1.2.0",
      "_model_name": "LayoutModel",
      "_view_count": null,
      "_view_module": "@jupyter-widgets/base",
      "_view_module_version": "1.2.0",
      "_view_name": "LayoutView",
      "align_content": null,
      "align_items": null,
      "align_self": null,
      "border": null,
      "bottom": null,
      "display": null,
      "flex": null,
      "flex_flow": null,
      "grid_area": null,
      "grid_auto_columns": null,
      "grid_auto_flow": null,
      "grid_auto_rows": null,
      "grid_column": null,
      "grid_gap": null,
      "grid_row": null,
      "grid_template_areas": null,
      "grid_template_columns": null,
      "grid_template_rows": null,
      "height": null,
      "justify_content": null,
      "justify_items": null,
      "left": null,
      "margin": null,
      "max_height": null,
      "max_width": null,
      "min_height": null,
      "min_width": null,
      "object_fit": null,
      "object_position": null,
      "order": null,
      "overflow": null,
      "overflow_x": null,
      "overflow_y": null,
      "padding": null,
      "right": null,
      "top": null,
      "visibility": null,
      "width": null
     }
    },
    "243abe449acb4955bf09a830cf8d49d2": {
     "model_module": "@jupyter-widgets/controls",
     "model_name": "HTMLModel",
     "state": {
      "_dom_classes": [],
      "_model_module": "@jupyter-widgets/controls",
      "_model_module_version": "1.5.0",
      "_model_name": "HTMLModel",
      "_view_count": null,
      "_view_module": "@jupyter-widgets/controls",
      "_view_module_version": "1.5.0",
      "_view_name": "HTMLView",
      "description": "",
      "description_tooltip": null,
      "layout": "IPY_MODEL_947caa700c7a4746bf539b562853fec3",
      "placeholder": "​",
      "style": "IPY_MODEL_dd3f7a1f05554066bd6465b86ff0b5b3",
      "value": "100% 143158/143158 [00:32&lt;00:00, 4470.68it/s]"
     }
    },
    "2a160c2e444e42d794a4325b8a1d1686": {
     "model_module": "@jupyter-widgets/controls",
     "model_name": "ProgressStyleModel",
     "state": {
      "_model_module": "@jupyter-widgets/controls",
      "_model_module_version": "1.5.0",
      "_model_name": "ProgressStyleModel",
      "_view_count": null,
      "_view_module": "@jupyter-widgets/base",
      "_view_module_version": "1.2.0",
      "_view_name": "StyleView",
      "bar_color": null,
      "description_width": ""
     }
    },
    "35abe59e8ebe4ce7acf9abf4173e0b30": {
     "model_module": "@jupyter-widgets/base",
     "model_name": "LayoutModel",
     "state": {
      "_model_module": "@jupyter-widgets/base",
      "_model_module_version": "1.2.0",
      "_model_name": "LayoutModel",
      "_view_count": null,
      "_view_module": "@jupyter-widgets/base",
      "_view_module_version": "1.2.0",
      "_view_name": "LayoutView",
      "align_content": null,
      "align_items": null,
      "align_self": null,
      "border": null,
      "bottom": null,
      "display": null,
      "flex": null,
      "flex_flow": null,
      "grid_area": null,
      "grid_auto_columns": null,
      "grid_auto_flow": null,
      "grid_auto_rows": null,
      "grid_column": null,
      "grid_gap": null,
      "grid_row": null,
      "grid_template_areas": null,
      "grid_template_columns": null,
      "grid_template_rows": null,
      "height": null,
      "justify_content": null,
      "justify_items": null,
      "left": null,
      "margin": null,
      "max_height": null,
      "max_width": null,
      "min_height": null,
      "min_width": null,
      "object_fit": null,
      "object_position": null,
      "order": null,
      "overflow": null,
      "overflow_x": null,
      "overflow_y": null,
      "padding": null,
      "right": null,
      "top": null,
      "visibility": null,
      "width": null
     }
    },
    "38c62d8d91e24da1b32c8c11e04ad4d7": {
     "model_module": "@jupyter-widgets/controls",
     "model_name": "DescriptionStyleModel",
     "state": {
      "_model_module": "@jupyter-widgets/controls",
      "_model_module_version": "1.5.0",
      "_model_name": "DescriptionStyleModel",
      "_view_count": null,
      "_view_module": "@jupyter-widgets/base",
      "_view_module_version": "1.2.0",
      "_view_name": "StyleView",
      "description_width": ""
     }
    },
    "4fd3a6d92a474ec98b02789a4baa843a": {
     "model_module": "@jupyter-widgets/controls",
     "model_name": "IntProgressModel",
     "state": {
      "_dom_classes": [],
      "_model_module": "@jupyter-widgets/controls",
      "_model_module_version": "1.5.0",
      "_model_name": "IntProgressModel",
      "_view_count": null,
      "_view_module": "@jupyter-widgets/controls",
      "_view_module_version": "1.5.0",
      "_view_name": "ProgressView",
      "bar_style": "success",
      "description": "",
      "description_tooltip": null,
      "layout": "IPY_MODEL_e7172bc76bf84d719f2b72b242b33562",
      "max": 143158,
      "min": 0,
      "orientation": "horizontal",
      "style": "IPY_MODEL_aee05e5ff075417aaff82b4f7cacf320",
      "value": 143158
     }
    },
    "5d268a644a974c88b379ad7b99ead145": {
     "model_module": "@jupyter-widgets/controls",
     "model_name": "HBoxModel",
     "state": {
      "_dom_classes": [],
      "_model_module": "@jupyter-widgets/controls",
      "_model_module_version": "1.5.0",
      "_model_name": "HBoxModel",
      "_view_count": null,
      "_view_module": "@jupyter-widgets/controls",
      "_view_module_version": "1.5.0",
      "_view_name": "HBoxView",
      "box_style": "",
      "children": [
       "IPY_MODEL_d2c5574130c3446f9ab5299307c69415",
       "IPY_MODEL_243abe449acb4955bf09a830cf8d49d2"
      ],
      "layout": "IPY_MODEL_35abe59e8ebe4ce7acf9abf4173e0b30"
     }
    },
    "947caa700c7a4746bf539b562853fec3": {
     "model_module": "@jupyter-widgets/base",
     "model_name": "LayoutModel",
     "state": {
      "_model_module": "@jupyter-widgets/base",
      "_model_module_version": "1.2.0",
      "_model_name": "LayoutModel",
      "_view_count": null,
      "_view_module": "@jupyter-widgets/base",
      "_view_module_version": "1.2.0",
      "_view_name": "LayoutView",
      "align_content": null,
      "align_items": null,
      "align_self": null,
      "border": null,
      "bottom": null,
      "display": null,
      "flex": null,
      "flex_flow": null,
      "grid_area": null,
      "grid_auto_columns": null,
      "grid_auto_flow": null,
      "grid_auto_rows": null,
      "grid_column": null,
      "grid_gap": null,
      "grid_row": null,
      "grid_template_areas": null,
      "grid_template_columns": null,
      "grid_template_rows": null,
      "height": null,
      "justify_content": null,
      "justify_items": null,
      "left": null,
      "margin": null,
      "max_height": null,
      "max_width": null,
      "min_height": null,
      "min_width": null,
      "object_fit": null,
      "object_position": null,
      "order": null,
      "overflow": null,
      "overflow_x": null,
      "overflow_y": null,
      "padding": null,
      "right": null,
      "top": null,
      "visibility": null,
      "width": null
     }
    },
    "aaa14a5eeae946099b8af5819ffccaa1": {
     "model_module": "@jupyter-widgets/base",
     "model_name": "LayoutModel",
     "state": {
      "_model_module": "@jupyter-widgets/base",
      "_model_module_version": "1.2.0",
      "_model_name": "LayoutModel",
      "_view_count": null,
      "_view_module": "@jupyter-widgets/base",
      "_view_module_version": "1.2.0",
      "_view_name": "LayoutView",
      "align_content": null,
      "align_items": null,
      "align_self": null,
      "border": null,
      "bottom": null,
      "display": null,
      "flex": null,
      "flex_flow": null,
      "grid_area": null,
      "grid_auto_columns": null,
      "grid_auto_flow": null,
      "grid_auto_rows": null,
      "grid_column": null,
      "grid_gap": null,
      "grid_row": null,
      "grid_template_areas": null,
      "grid_template_columns": null,
      "grid_template_rows": null,
      "height": null,
      "justify_content": null,
      "justify_items": null,
      "left": null,
      "margin": null,
      "max_height": null,
      "max_width": null,
      "min_height": null,
      "min_width": null,
      "object_fit": null,
      "object_position": null,
      "order": null,
      "overflow": null,
      "overflow_x": null,
      "overflow_y": null,
      "padding": null,
      "right": null,
      "top": null,
      "visibility": null,
      "width": null
     }
    },
    "ab0a5f2d217f4df887adc76eb55b79f1": {
     "model_module": "@jupyter-widgets/controls",
     "model_name": "HBoxModel",
     "state": {
      "_dom_classes": [],
      "_model_module": "@jupyter-widgets/controls",
      "_model_module_version": "1.5.0",
      "_model_name": "HBoxModel",
      "_view_count": null,
      "_view_module": "@jupyter-widgets/controls",
      "_view_module_version": "1.5.0",
      "_view_name": "HBoxView",
      "box_style": "",
      "children": [
       "IPY_MODEL_4fd3a6d92a474ec98b02789a4baa843a",
       "IPY_MODEL_c67f847bff79445791b5264acbdd6f3e"
      ],
      "layout": "IPY_MODEL_cce0f1299b9344f992dde27e110b3788"
     }
    },
    "aee05e5ff075417aaff82b4f7cacf320": {
     "model_module": "@jupyter-widgets/controls",
     "model_name": "ProgressStyleModel",
     "state": {
      "_model_module": "@jupyter-widgets/controls",
      "_model_module_version": "1.5.0",
      "_model_name": "ProgressStyleModel",
      "_view_count": null,
      "_view_module": "@jupyter-widgets/base",
      "_view_module_version": "1.2.0",
      "_view_name": "StyleView",
      "bar_color": null,
      "description_width": ""
     }
    },
    "c67f847bff79445791b5264acbdd6f3e": {
     "model_module": "@jupyter-widgets/controls",
     "model_name": "HTMLModel",
     "state": {
      "_dom_classes": [],
      "_model_module": "@jupyter-widgets/controls",
      "_model_module_version": "1.5.0",
      "_model_name": "HTMLModel",
      "_view_count": null,
      "_view_module": "@jupyter-widgets/controls",
      "_view_module_version": "1.5.0",
      "_view_name": "HTMLView",
      "description": "",
      "description_tooltip": null,
      "layout": "IPY_MODEL_aaa14a5eeae946099b8af5819ffccaa1",
      "placeholder": "​",
      "style": "IPY_MODEL_38c62d8d91e24da1b32c8c11e04ad4d7",
      "value": "100% 143158/143158 [00:14&lt;00:00, 9879.04it/s]"
     }
    },
    "cce0f1299b9344f992dde27e110b3788": {
     "model_module": "@jupyter-widgets/base",
     "model_name": "LayoutModel",
     "state": {
      "_model_module": "@jupyter-widgets/base",
      "_model_module_version": "1.2.0",
      "_model_name": "LayoutModel",
      "_view_count": null,
      "_view_module": "@jupyter-widgets/base",
      "_view_module_version": "1.2.0",
      "_view_name": "LayoutView",
      "align_content": null,
      "align_items": null,
      "align_self": null,
      "border": null,
      "bottom": null,
      "display": null,
      "flex": null,
      "flex_flow": null,
      "grid_area": null,
      "grid_auto_columns": null,
      "grid_auto_flow": null,
      "grid_auto_rows": null,
      "grid_column": null,
      "grid_gap": null,
      "grid_row": null,
      "grid_template_areas": null,
      "grid_template_columns": null,
      "grid_template_rows": null,
      "height": null,
      "justify_content": null,
      "justify_items": null,
      "left": null,
      "margin": null,
      "max_height": null,
      "max_width": null,
      "min_height": null,
      "min_width": null,
      "object_fit": null,
      "object_position": null,
      "order": null,
      "overflow": null,
      "overflow_x": null,
      "overflow_y": null,
      "padding": null,
      "right": null,
      "top": null,
      "visibility": null,
      "width": null
     }
    },
    "d2c5574130c3446f9ab5299307c69415": {
     "model_module": "@jupyter-widgets/controls",
     "model_name": "IntProgressModel",
     "state": {
      "_dom_classes": [],
      "_model_module": "@jupyter-widgets/controls",
      "_model_module_version": "1.5.0",
      "_model_name": "IntProgressModel",
      "_view_count": null,
      "_view_module": "@jupyter-widgets/controls",
      "_view_module_version": "1.5.0",
      "_view_name": "ProgressView",
      "bar_style": "success",
      "description": "",
      "description_tooltip": null,
      "layout": "IPY_MODEL_1087a2a6c378464798e3bfb3823f63a1",
      "max": 143158,
      "min": 0,
      "orientation": "horizontal",
      "style": "IPY_MODEL_2a160c2e444e42d794a4325b8a1d1686",
      "value": 143158
     }
    },
    "dd3f7a1f05554066bd6465b86ff0b5b3": {
     "model_module": "@jupyter-widgets/controls",
     "model_name": "DescriptionStyleModel",
     "state": {
      "_model_module": "@jupyter-widgets/controls",
      "_model_module_version": "1.5.0",
      "_model_name": "DescriptionStyleModel",
      "_view_count": null,
      "_view_module": "@jupyter-widgets/base",
      "_view_module_version": "1.2.0",
      "_view_name": "StyleView",
      "description_width": ""
     }
    },
    "e7172bc76bf84d719f2b72b242b33562": {
     "model_module": "@jupyter-widgets/base",
     "model_name": "LayoutModel",
     "state": {
      "_model_module": "@jupyter-widgets/base",
      "_model_module_version": "1.2.0",
      "_model_name": "LayoutModel",
      "_view_count": null,
      "_view_module": "@jupyter-widgets/base",
      "_view_module_version": "1.2.0",
      "_view_name": "LayoutView",
      "align_content": null,
      "align_items": null,
      "align_self": null,
      "border": null,
      "bottom": null,
      "display": null,
      "flex": null,
      "flex_flow": null,
      "grid_area": null,
      "grid_auto_columns": null,
      "grid_auto_flow": null,
      "grid_auto_rows": null,
      "grid_column": null,
      "grid_gap": null,
      "grid_row": null,
      "grid_template_areas": null,
      "grid_template_columns": null,
      "grid_template_rows": null,
      "height": null,
      "justify_content": null,
      "justify_items": null,
      "left": null,
      "margin": null,
      "max_height": null,
      "max_width": null,
      "min_height": null,
      "min_width": null,
      "object_fit": null,
      "object_position": null,
      "order": null,
      "overflow": null,
      "overflow_x": null,
      "overflow_y": null,
      "padding": null,
      "right": null,
      "top": null,
      "visibility": null,
      "width": null
     }
    }
   }
  }
 },
 "nbformat": 4,
 "nbformat_minor": 1
}
