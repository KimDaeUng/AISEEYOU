{
 "cells": [
  {
   "cell_type": "code",
   "execution_count": 1,
   "metadata": {},
   "outputs": [],
   "source": [
    "import requests\n",
    "import re\n",
    "from collections import OrderedDict\n",
    "from itertools import repeat\n",
    "from tqdm import tqdm_notebook\n",
    "import pandas as pd\n",
    "import lxml.html\n",
    "from selenium.webdriver import Chrome"
   ]
  },
  {
   "cell_type": "code",
   "execution_count": 3,
   "metadata": {},
   "outputs": [],
   "source": [
    "data = pd.read_csv('poetry_url.csv')"
   ]
  },
  {
   "cell_type": "code",
   "execution_count": 56,
   "metadata": {},
   "outputs": [
    {
     "data": {
      "text/html": [
       "<div>\n",
       "<style scoped>\n",
       "    .dataframe tbody tr th:only-of-type {\n",
       "        vertical-align: middle;\n",
       "    }\n",
       "\n",
       "    .dataframe tbody tr th {\n",
       "        vertical-align: top;\n",
       "    }\n",
       "\n",
       "    .dataframe thead th {\n",
       "        text-align: right;\n",
       "    }\n",
       "</style>\n",
       "<table border=\"1\" class=\"dataframe\">\n",
       "  <thead>\n",
       "    <tr style=\"text-align: right;\">\n",
       "      <th></th>\n",
       "      <th>url</th>\n",
       "      <th>title</th>\n",
       "      <th>writer</th>\n",
       "    </tr>\n",
       "  </thead>\n",
       "  <tbody>\n",
       "    <tr>\n",
       "      <th>0</th>\n",
       "      <td>http://poemlove.co.kr/m/bbs/board.php?bo_table...</td>\n",
       "      <td>동시/첫눈 오는 날.</td>\n",
       "      <td>장수남</td>\n",
       "    </tr>\n",
       "    <tr>\n",
       "      <th>1</th>\n",
       "      <td>http://poemlove.co.kr/m/bbs/board.php?bo_table...</td>\n",
       "      <td>그리움, 너는</td>\n",
       "      <td>고은영</td>\n",
       "    </tr>\n",
       "    <tr>\n",
       "      <th>2</th>\n",
       "      <td>http://poemlove.co.kr/m/bbs/board.php?bo_table...</td>\n",
       "      <td>비워내는 건 외로운 법이다</td>\n",
       "      <td>고은영</td>\n",
       "    </tr>\n",
       "    <tr>\n",
       "      <th>3</th>\n",
       "      <td>http://poemlove.co.kr/m/bbs/board.php?bo_table...</td>\n",
       "      <td>지극히 따뜻한 애혼(愛魂)에게</td>\n",
       "      <td>고은영</td>\n",
       "    </tr>\n",
       "    <tr>\n",
       "      <th>4</th>\n",
       "      <td>http://poemlove.co.kr/m/bbs/board.php?bo_table...</td>\n",
       "      <td>12월엔  설화(雪花)를 그리는 한 마리 노루이고 싶다</td>\n",
       "      <td>고은영</td>\n",
       "    </tr>\n",
       "  </tbody>\n",
       "</table>\n",
       "</div>"
      ],
      "text/plain": [
       "                                                 url  \\\n",
       "0  http://poemlove.co.kr/m/bbs/board.php?bo_table...   \n",
       "1  http://poemlove.co.kr/m/bbs/board.php?bo_table...   \n",
       "2  http://poemlove.co.kr/m/bbs/board.php?bo_table...   \n",
       "3  http://poemlove.co.kr/m/bbs/board.php?bo_table...   \n",
       "4  http://poemlove.co.kr/m/bbs/board.php?bo_table...   \n",
       "\n",
       "                            title writer  \n",
       "0                     동시/첫눈 오는 날.    장수남  \n",
       "1                         그리움, 너는    고은영  \n",
       "2                  비워내는 건 외로운 법이다    고은영  \n",
       "3                지극히 따뜻한 애혼(愛魂)에게    고은영  \n",
       "4  12월엔  설화(雪花)를 그리는 한 마리 노루이고 싶다    고은영  "
      ]
     },
     "execution_count": 56,
     "metadata": {},
     "output_type": "execute_result"
    }
   ],
   "source": [
    "data.head()"
   ]
  },
  {
   "cell_type": "code",
   "execution_count": 5,
   "metadata": {},
   "outputs": [],
   "source": [
    "urls = data.url"
   ]
  },
  {
   "cell_type": "code",
   "execution_count": 33,
   "metadata": {},
   "outputs": [
    {
     "data": {
      "text/plain": [
       "'http://poemlove.co.kr/m/bbs/board.php?bo_table=tb01&wr_id=254754'"
      ]
     },
     "execution_count": 33,
     "metadata": {},
     "output_type": "execute_result"
    }
   ],
   "source": [
    "urls[10]"
   ]
  },
  {
   "cell_type": "code",
   "execution_count": 74,
   "metadata": {
    "scrolled": true
   },
   "outputs": [
    {
     "data": {
      "application/vnd.jupyter.widget-view+json": {
       "model_id": "e69edfef3c1741629d79c2dec3e01564",
       "version_major": 2,
       "version_minor": 0
      },
      "text/plain": [
       "HBox(children=(IntProgress(value=0, max=144360), HTML(value='')))"
      ]
     },
     "metadata": {},
     "output_type": "display_data"
    }
   ],
   "source": [
    "contents = []\n",
    "for i in tqdm_notebook(urls):\n",
    "    try:\n",
    "        req = requests.get(i)\n",
    "        root = lxml.html.fromstring(req.text)\n",
    "        text = root.cssselect('span#writeContents')[0].text_content()\n",
    "        text = re.sub(\"[(\\xa0)]\", \"\", text)\n",
    "        text = re.sub('[(\\u3000)]',' ', text)\n",
    "        text = re.sub(\"[a-zA-Z]+ *?[a-zA-Z]+\", \"<ENG>\", text)\n",
    "        text = re.sub(\"[0-9]+ *?[0-9]+\", \"<NUM>\", text)\n",
    "        text = re.sub(\"[一-龥]+\", \"<CHI>\", text)\n",
    "        text = re.sub(\"[ぁ-ゔ]+|[ァ-ヴー]+\", \"<JAP>\", text)\n",
    "        contents.append([x.strip() for x in re.split(r\"[\\r]\", text) if len(x.strip()) > 1])\n",
    "    except:\n",
    "        contents.append(None)"
   ]
  },
  {
   "cell_type": "code",
   "execution_count": 75,
   "metadata": {},
   "outputs": [],
   "source": [
    "data['contents'] = contents"
   ]
  },
  {
   "cell_type": "code",
   "execution_count": 76,
   "metadata": {},
   "outputs": [],
   "source": [
    "data.to_csv('poetry.csv',encoding='UTF8',index=False)"
   ]
  },
  {
   "cell_type": "code",
   "execution_count": 2,
   "metadata": {
    "scrolled": true
   },
   "outputs": [],
   "source": [
    "poetry = pd.read_csv('poetry.csv')"
   ]
  },
  {
   "cell_type": "code",
   "execution_count": 3,
   "metadata": {},
   "outputs": [],
   "source": [
    "author = pd.read_csv('poetry_author.csv')"
   ]
  },
  {
   "cell_type": "code",
   "execution_count": 21,
   "metadata": {},
   "outputs": [],
   "source": [
    "poetry['writer'] = poetry.writer.apply(lambda x: 'poemlove' if x=='none' else x)"
   ]
  },
  {
   "cell_type": "code",
   "execution_count": 10,
   "metadata": {},
   "outputs": [],
   "source": [
    "author = author[52:-25]\n",
    "author = author.reset_index(drop = True)"
   ]
  },
  {
   "cell_type": "code",
   "execution_count": 47,
   "metadata": {},
   "outputs": [],
   "source": [
    "poetry = poetry.drop_duplicates(['url'],keep='first').reset_index(drop = True)"
   ]
  },
  {
   "cell_type": "code",
   "execution_count": 133,
   "metadata": {
    "scrolled": true
   },
   "outputs": [],
   "source": [
    "poetry_final = pd.concat([poetry,author],axis=1)\n",
    "poetry_final = poetry_final.iloc[:,[0,1,2,3,5]]"
   ]
  },
  {
   "cell_type": "code",
   "execution_count": 134,
   "metadata": {},
   "outputs": [
    {
     "data": {
      "text/plain": [
       "143736"
      ]
     },
     "execution_count": 134,
     "metadata": {},
     "output_type": "execute_result"
    }
   ],
   "source": [
    "poetry_final = poetry_final.drop_duplicates(['contents'],keep='first').reset_index(drop = True)\n",
    "len(poetry_final)"
   ]
  },
  {
   "cell_type": "code",
   "execution_count": 135,
   "metadata": {},
   "outputs": [
    {
     "data": {
      "text/html": [
       "<div>\n",
       "<style scoped>\n",
       "    .dataframe tbody tr th:only-of-type {\n",
       "        vertical-align: middle;\n",
       "    }\n",
       "\n",
       "    .dataframe tbody tr th {\n",
       "        vertical-align: top;\n",
       "    }\n",
       "\n",
       "    .dataframe thead th {\n",
       "        text-align: right;\n",
       "    }\n",
       "</style>\n",
       "<table border=\"1\" class=\"dataframe\">\n",
       "  <thead>\n",
       "    <tr style=\"text-align: right;\">\n",
       "      <th></th>\n",
       "      <th>url</th>\n",
       "      <th>title</th>\n",
       "      <th>writer</th>\n",
       "      <th>contents</th>\n",
       "      <th>author</th>\n",
       "    </tr>\n",
       "  </thead>\n",
       "  <tbody>\n",
       "    <tr>\n",
       "      <th>2053</th>\n",
       "      <td>http://poemlove.co.kr/m/bbs/board.php?bo_table...</td>\n",
       "      <td>특집/셸리 탄생 200주년 기념 특집 - 셸리(Percy Bysshe Shelly)...</td>\n",
       "      <td>poemlove</td>\n",
       "      <td>['‘시문학’ 지 &lt;NUM&gt;년 7월호:', '특집/셸리 탄생 &lt;NUM&gt;주년 기념 특...</td>\n",
       "      <td>NaN</td>\n",
       "    </tr>\n",
       "    <tr>\n",
       "      <th>12266</th>\n",
       "      <td>http://poemlove.co.kr/m/bbs/board.php?bo_table...</td>\n",
       "      <td>대작(對酌)</td>\n",
       "      <td>김안로</td>\n",
       "      <td>['대작&lt;CHI&gt;/김안로', '나는 막걸리를 들고', '하늘은 구름을 들이켰지', ...</td>\n",
       "      <td>NaN</td>\n",
       "    </tr>\n",
       "    <tr>\n",
       "      <th>15614</th>\n",
       "      <td>http://poemlove.co.kr/m/bbs/board.php?bo_table...</td>\n",
       "      <td>해운대 찬가(海雲臺, 讚歌)/李時明</td>\n",
       "      <td>이시명</td>\n",
       "      <td>['해운대 찬가&lt;CHI&gt;, &lt;CHI&gt;', '/李&lt;CHI&gt;', '국유 현묘지도와 \"천...</td>\n",
       "      <td>NaN</td>\n",
       "    </tr>\n",
       "    <tr>\n",
       "      <th>18130</th>\n",
       "      <td>http://poemlove.co.kr/m/bbs/board.php?bo_table...</td>\n",
       "      <td>겨울 그리고 봄</td>\n",
       "      <td>송정숙</td>\n",
       "      <td>['겨울 그리고 봄', '-송정숙-', '밑그림을 그린다', '너를 위해서', '꽃...</td>\n",
       "      <td>NaN</td>\n",
       "    </tr>\n",
       "    <tr>\n",
       "      <th>18132</th>\n",
       "      <td>http://poemlove.co.kr/m/bbs/board.php?bo_table...</td>\n",
       "      <td>창 밖에는 눈3</td>\n",
       "      <td>송정숙</td>\n",
       "      <td>['창 밖에는 눈3', '-송정숙-', '오전에는 봄', '오후에는 겨울 눈', '...</td>\n",
       "      <td>NaN</td>\n",
       "    </tr>\n",
       "    <tr>\n",
       "      <th>18133</th>\n",
       "      <td>http://poemlove.co.kr/m/bbs/board.php?bo_table...</td>\n",
       "      <td>창 밖에는 눈2</td>\n",
       "      <td>송정숙</td>\n",
       "      <td>['창 밖에는 눈2', '어찌하나요', '떠난다고 하는데', '이렇게 웃죠', '마...</td>\n",
       "      <td>NaN</td>\n",
       "    </tr>\n",
       "    <tr>\n",
       "      <th>18134</th>\n",
       "      <td>http://poemlove.co.kr/m/bbs/board.php?bo_table...</td>\n",
       "      <td>창 밖에는 눈1</td>\n",
       "      <td>송정숙</td>\n",
       "      <td>['창 밖에는 눈1', '-송정숙-', '햇살 뒷 걸음', '마지막 꽃이 되자', ...</td>\n",
       "      <td>NaN</td>\n",
       "    </tr>\n",
       "    <tr>\n",
       "      <th>18199</th>\n",
       "      <td>http://poemlove.co.kr/m/bbs/board.php?bo_table...</td>\n",
       "      <td>구름에 숨은 달</td>\n",
       "      <td>송정숙</td>\n",
       "      <td>['구름에 숨은 달', '-송정숙-', '직무유기다', '법원서 출두하래', '보름...</td>\n",
       "      <td>NaN</td>\n",
       "    </tr>\n",
       "    <tr>\n",
       "      <th>18200</th>\n",
       "      <td>http://poemlove.co.kr/m/bbs/board.php?bo_table...</td>\n",
       "      <td>빨간 신호등으로 멈추지 못 한다</td>\n",
       "      <td>송정숙</td>\n",
       "      <td>['빨간 신호등으로 멈추지 못 한다', '-송정숙-', '날개가 있어야', '날아 ...</td>\n",
       "      <td>NaN</td>\n",
       "    </tr>\n",
       "    <tr>\n",
       "      <th>18201</th>\n",
       "      <td>http://poemlove.co.kr/m/bbs/board.php?bo_table...</td>\n",
       "      <td>그믐달</td>\n",
       "      <td>송정숙</td>\n",
       "      <td>['그믐달', '-송정숙-', '주고 또 준다', '마지막은 자존심', '지키게 해...</td>\n",
       "      <td>NaN</td>\n",
       "    </tr>\n",
       "    <tr>\n",
       "      <th>18202</th>\n",
       "      <td>http://poemlove.co.kr/m/bbs/board.php?bo_table...</td>\n",
       "      <td>노숙자의 희망</td>\n",
       "      <td>송정숙</td>\n",
       "      <td>['노숙자의 희망', '-송정숙-', '파랗게 이끼가 끼어가는 고독은', '침묵의 ...</td>\n",
       "      <td>NaN</td>\n",
       "    </tr>\n",
       "    <tr>\n",
       "      <th>18204</th>\n",
       "      <td>http://poemlove.co.kr/m/bbs/board.php?bo_table...</td>\n",
       "      <td>정월 대보름</td>\n",
       "      <td>송정숙</td>\n",
       "      <td>['정월 대보름', '-송정숙-', '쟁반 달이다', '음식 담아 이웃줘', '넉넉...</td>\n",
       "      <td>NaN</td>\n",
       "    </tr>\n",
       "    <tr>\n",
       "      <th>18254</th>\n",
       "      <td>http://poemlove.co.kr/m/bbs/board.php?bo_table...</td>\n",
       "      <td>어느 봄1</td>\n",
       "      <td>송정숙</td>\n",
       "      <td>['어느 봄1', '-송정숙-', '개나리 핀다', '꼬마스님 볼우물', '관세음 ...</td>\n",
       "      <td>NaN</td>\n",
       "    </tr>\n",
       "    <tr>\n",
       "      <th>18255</th>\n",
       "      <td>http://poemlove.co.kr/m/bbs/board.php?bo_table...</td>\n",
       "      <td>그대가 멋있는 이유</td>\n",
       "      <td>송정숙</td>\n",
       "      <td>['그대가 멋있는 이유', '-송정숙-', '그대가 멋있는 이유는', '가끔 외로운...</td>\n",
       "      <td>NaN</td>\n",
       "    </tr>\n",
       "    <tr>\n",
       "      <th>18256</th>\n",
       "      <td>http://poemlove.co.kr/m/bbs/board.php?bo_table...</td>\n",
       "      <td>놀자</td>\n",
       "      <td>송정숙</td>\n",
       "      <td>['놀자', '-송정숙-', '사각 안 홀에', '봄,별,바람,들인다', '방법 충...</td>\n",
       "      <td>NaN</td>\n",
       "    </tr>\n",
       "    <tr>\n",
       "      <th>18269</th>\n",
       "      <td>http://poemlove.co.kr/m/bbs/board.php?bo_table...</td>\n",
       "      <td>아름다운 이유</td>\n",
       "      <td>송정숙</td>\n",
       "      <td>['-아름다운 이유', '오늘이 아름다운 이유는', '그대와 함께 공유하는', '하...</td>\n",
       "      <td>NaN</td>\n",
       "    </tr>\n",
       "    <tr>\n",
       "      <th>18281</th>\n",
       "      <td>http://poemlove.co.kr/m/bbs/board.php?bo_table...</td>\n",
       "      <td>문패</td>\n",
       "      <td>송정숙</td>\n",
       "      <td>['-문패', '섬진강 문패', '주인장 이름 매화', '초대 합니다', '뻐스를 ...</td>\n",
       "      <td>NaN</td>\n",
       "    </tr>\n",
       "    <tr>\n",
       "      <th>18282</th>\n",
       "      <td>http://poemlove.co.kr/m/bbs/board.php?bo_table...</td>\n",
       "      <td>봄 마중 가자꾸나</td>\n",
       "      <td>송정숙</td>\n",
       "      <td>['봄 마중 가자꾸나', '-송정숙-', '긴 겨울 등에 업고 아기야 가자', '배...</td>\n",
       "      <td>NaN</td>\n",
       "    </tr>\n",
       "    <tr>\n",
       "      <th>18301</th>\n",
       "      <td>http://poemlove.co.kr/m/bbs/board.php?bo_table...</td>\n",
       "      <td>비 오는 날에</td>\n",
       "      <td>송정숙</td>\n",
       "      <td>['_비 오는 날에', '한 잔 술 마셔', '그림자도 흔들려', '비오는 날에',...</td>\n",
       "      <td>NaN</td>\n",
       "    </tr>\n",
       "    <tr>\n",
       "      <th>18302</th>\n",
       "      <td>http://poemlove.co.kr/m/bbs/board.php?bo_table...</td>\n",
       "      <td>운명</td>\n",
       "      <td>송정숙</td>\n",
       "      <td>['_운명', '놓고싶구나', '운명은 안 놓아줘', '집착과 달라', '사연도 많...</td>\n",
       "      <td>NaN</td>\n",
       "    </tr>\n",
       "    <tr>\n",
       "      <th>18303</th>\n",
       "      <td>http://poemlove.co.kr/m/bbs/board.php?bo_table...</td>\n",
       "      <td>매화</td>\n",
       "      <td>송정숙</td>\n",
       "      <td>['매화', '버선발 사뿐', '매화타령 흥겹다', '찬치에 국수', '매화 곱구나...</td>\n",
       "      <td>NaN</td>\n",
       "    </tr>\n",
       "    <tr>\n",
       "      <th>18600</th>\n",
       "      <td>http://poemlove.co.kr/m/bbs/board.php?bo_table...</td>\n",
       "      <td>꽃 지고 사랑 떠나면</td>\n",
       "      <td>황현중</td>\n",
       "      <td>['꽃 지고 사랑 떠나면/ 황현중', '꽃 지면', '나무는 잊힐까 싶어', '더욱...</td>\n",
       "      <td>NaN</td>\n",
       "    </tr>\n",
       "    <tr>\n",
       "      <th>18654</th>\n",
       "      <td>http://poemlove.co.kr/m/bbs/board.php?bo_table...</td>\n",
       "      <td>송정숙 말! 말! 말!</td>\n",
       "      <td>송정숙</td>\n",
       "      <td>['_좋은 말을 입에 달고 살자', '_내가 먼저 행복하면 절로 배려심도 이해심도 ...</td>\n",
       "      <td>NaN</td>\n",
       "    </tr>\n",
       "    <tr>\n",
       "      <th>18655</th>\n",
       "      <td>http://poemlove.co.kr/m/bbs/board.php?bo_table...</td>\n",
       "      <td>창문 흔드는 바람소리</td>\n",
       "      <td>송정숙</td>\n",
       "      <td>['_창문 흔드는 바람소리', '밤달이 슬그머니 사라지고', '아파트 꼭대기', '...</td>\n",
       "      <td>NaN</td>\n",
       "    </tr>\n",
       "    <tr>\n",
       "      <th>18783</th>\n",
       "      <td>http://poemlove.co.kr/m/bbs/board.php?bo_table...</td>\n",
       "      <td>햇살</td>\n",
       "      <td>송정숙</td>\n",
       "      <td>['_햇살', '빛나는 조명', '세상이 웃음 바다', '양산든 여자', '뻥튀기 ...</td>\n",
       "      <td>NaN</td>\n",
       "    </tr>\n",
       "    <tr>\n",
       "      <th>18784</th>\n",
       "      <td>http://poemlove.co.kr/m/bbs/board.php?bo_table...</td>\n",
       "      <td>수요일</td>\n",
       "      <td>송정숙</td>\n",
       "      <td>['_수요일', '인사동 간다', '빈잔 채우는 사랑', '목젖이 울컥', '비가 ...</td>\n",
       "      <td>NaN</td>\n",
       "    </tr>\n",
       "    <tr>\n",
       "      <th>18785</th>\n",
       "      <td>http://poemlove.co.kr/m/bbs/board.php?bo_table...</td>\n",
       "      <td>산</td>\n",
       "      <td>송정숙</td>\n",
       "      <td>['_산', '석양을 본다', '새들을 불러야지', '빈 가지 구름', '오래 살았...</td>\n",
       "      <td>NaN</td>\n",
       "    </tr>\n",
       "    <tr>\n",
       "      <th>18863</th>\n",
       "      <td>http://poemlove.co.kr/m/bbs/board.php?bo_table...</td>\n",
       "      <td>예쁜 손</td>\n",
       "      <td>황현중</td>\n",
       "      <td>['예쁜 손/ 황현중', '상처 많은 손이 예쁘다', '네일샵에 값을 지불한 여자의...</td>\n",
       "      <td>NaN</td>\n",
       "    </tr>\n",
       "    <tr>\n",
       "      <th>18935</th>\n",
       "      <td>http://poemlove.co.kr/m/bbs/board.php?bo_table...</td>\n",
       "      <td>그리움</td>\n",
       "      <td>송정숙</td>\n",
       "      <td>['_그리움', '그리움 깊어', '된서리로 피어나', '여기저기 꽃', '기다림 ...</td>\n",
       "      <td>NaN</td>\n",
       "    </tr>\n",
       "    <tr>\n",
       "      <th>18936</th>\n",
       "      <td>http://poemlove.co.kr/m/bbs/board.php?bo_table...</td>\n",
       "      <td>자유</td>\n",
       "      <td>송정숙</td>\n",
       "      <td>['_자유', '갈증이 난다', '햇살 감옥의 하루', '구름을 잡다', '산마루 ...</td>\n",
       "      <td>NaN</td>\n",
       "    </tr>\n",
       "    <tr>\n",
       "      <th>...</th>\n",
       "      <td>...</td>\n",
       "      <td>...</td>\n",
       "      <td>...</td>\n",
       "      <td>...</td>\n",
       "      <td>...</td>\n",
       "    </tr>\n",
       "    <tr>\n",
       "      <th>47067</th>\n",
       "      <td>http://poemlove.co.kr/m/bbs/board.php?bo_table...</td>\n",
       "      <td>수직 주름살(박경현)</td>\n",
       "      <td>박경현</td>\n",
       "      <td>['위로', '더 위로 오르려던', '탐욕의 나이테가 파여져 있네.', '좌-악',...</td>\n",
       "      <td>NaN</td>\n",
       "    </tr>\n",
       "    <tr>\n",
       "      <th>101310</th>\n",
       "      <td>http://poemlove.co.kr/m/bbs/board.php?bo_table...</td>\n",
       "      <td>12월 끝자락에서 [ 중복 ]</td>\n",
       "      <td>목필균</td>\n",
       "      <td>['&lt;NUM&gt;월 끝자락에서', '한줄기 바람으로 흐른다.', '멈출 수없이 날아다닌...</td>\n",
       "      <td>NaN</td>\n",
       "    </tr>\n",
       "    <tr>\n",
       "      <th>107150</th>\n",
       "      <td>http://poemlove.co.kr/m/bbs/board.php?bo_table...</td>\n",
       "      <td>가을밤</td>\n",
       "      <td>손두선</td>\n",
       "      <td>['가을 밤', '말갛던 햇덩이 내려진', '깊지만 어둡지 않은', '가을밤', '...</td>\n",
       "      <td>NaN</td>\n",
       "    </tr>\n",
       "    <tr>\n",
       "      <th>128327</th>\n",
       "      <td>http://poemlove.co.kr/m/bbs/board.php?bo_table...</td>\n",
       "      <td>동행</td>\n",
       "      <td>정해철</td>\n",
       "      <td>['동행 &amp;&lt;ENG&gt;;&amp;&lt;ENG&gt;;&amp;&lt;ENG&gt;;&amp;&lt;ENG&gt;;&amp;&lt;ENG&gt;;&amp;&lt;ENG&gt;...</td>\n",
       "      <td>NaN</td>\n",
       "    </tr>\n",
       "    <tr>\n",
       "      <th>128345</th>\n",
       "      <td>http://poemlove.co.kr/m/bbs/board.php?bo_table...</td>\n",
       "      <td>사랑이 그리울때.....</td>\n",
       "      <td>정해철</td>\n",
       "      <td>['사랑이 그리울때.....&amp;&lt;ENG&gt;;&amp;&lt;ENG&gt;;오늘같이 햇볕 고운날&amp;&lt;ENG&gt;...</td>\n",
       "      <td>NaN</td>\n",
       "    </tr>\n",
       "    <tr>\n",
       "      <th>128481</th>\n",
       "      <td>http://poemlove.co.kr/m/bbs/board.php?bo_table...</td>\n",
       "      <td>바보사랑(짝사랑)</td>\n",
       "      <td>이향숙</td>\n",
       "      <td>['바보사랑짝사랑 글. 이향숙 마음이 문을 열고 들어서는 빛을 차단한다. 내안에 있...</td>\n",
       "      <td>NaN</td>\n",
       "    </tr>\n",
       "    <tr>\n",
       "      <th>128525</th>\n",
       "      <td>http://poemlove.co.kr/m/bbs/board.php?bo_table...</td>\n",
       "      <td>&lt;신작시조&gt;강강술래</td>\n",
       "      <td>송명</td>\n",
       "      <td>['숨겨둔 짝사랑을 가슴으로 삭히면서 저고리 끈 풀어질듯 마당도는 체온이여 모으고 ...</td>\n",
       "      <td>NaN</td>\n",
       "    </tr>\n",
       "    <tr>\n",
       "      <th>128586</th>\n",
       "      <td>http://poemlove.co.kr/m/bbs/board.php?bo_table...</td>\n",
       "      <td>사랑을 위한 기도문&lt;한 나무&gt;</td>\n",
       "      <td>노홍균</td>\n",
       "      <td>['사랑이 만약 꽃이라면어디, 한 철이나 버텨 내겠습니까사랑이 만약 잎이라면또,&amp;&lt;...</td>\n",
       "      <td>NaN</td>\n",
       "    </tr>\n",
       "    <tr>\n",
       "      <th>128587</th>\n",
       "      <td>http://poemlove.co.kr/m/bbs/board.php?bo_table...</td>\n",
       "      <td>여운</td>\n",
       "      <td>노홍균</td>\n",
       "      <td>['작은 새 한 마리 솟구쳐도 앉았던 나뭇가지 파르르 흔들림은 남는 법 아니냐 너와...</td>\n",
       "      <td>NaN</td>\n",
       "    </tr>\n",
       "    <tr>\n",
       "      <th>128608</th>\n",
       "      <td>http://poemlove.co.kr/m/bbs/board.php?bo_table...</td>\n",
       "      <td>낙엽</td>\n",
       "      <td>노홍균</td>\n",
       "      <td>['잎 진 오솔길을 걸어봐요.밟히는 낙엽은 통증이 없대요.외려, 밟고 지나가는 이들...</td>\n",
       "      <td>NaN</td>\n",
       "    </tr>\n",
       "    <tr>\n",
       "      <th>128611</th>\n",
       "      <td>http://poemlove.co.kr/m/bbs/board.php?bo_table...</td>\n",
       "      <td>오늘이 아름다웠다.</td>\n",
       "      <td>노홍균</td>\n",
       "      <td>['지는 꽃이 있는가 하면 피는 꽃이 있어 주었고가는 이가 있는가 하면 오는 이가 ...</td>\n",
       "      <td>NaN</td>\n",
       "    </tr>\n",
       "    <tr>\n",
       "      <th>128736</th>\n",
       "      <td>http://poemlove.co.kr/m/bbs/board.php?bo_table...</td>\n",
       "      <td>너를 가슴에 묻고.</td>\n",
       "      <td>이향숙</td>\n",
       "      <td>['너를 가슴에 묻고 글. 이향숙 가을과 함께 너도 떠나는구나. 피어 보지도 못한 ...</td>\n",
       "      <td>NaN</td>\n",
       "    </tr>\n",
       "    <tr>\n",
       "      <th>128753</th>\n",
       "      <td>http://poemlove.co.kr/m/bbs/board.php?bo_table...</td>\n",
       "      <td>겨울밤</td>\n",
       "      <td>노홍균</td>\n",
       "      <td>['겨울밤/ 노홍균어떠한 난로가 겨울 찬바람 다 밀어낼 수 있겠는가겨울 밤에는 사람...</td>\n",
       "      <td>NaN</td>\n",
       "    </tr>\n",
       "    <tr>\n",
       "      <th>128756</th>\n",
       "      <td>http://poemlove.co.kr/m/bbs/board.php?bo_table...</td>\n",
       "      <td>마이너로 흐르는 밤</td>\n",
       "      <td>노홍균</td>\n",
       "      <td>['마이너로 흐르는 밤 /&amp;&lt;ENG&gt;;&amp;&lt;ENG&gt;;노홍균 &amp;&lt;ENG&gt;;&amp;&lt;ENG&gt;;...</td>\n",
       "      <td>NaN</td>\n",
       "    </tr>\n",
       "    <tr>\n",
       "      <th>128759</th>\n",
       "      <td>http://poemlove.co.kr/m/bbs/board.php?bo_table...</td>\n",
       "      <td>편지</td>\n",
       "      <td>노홍균</td>\n",
       "      <td>['편지/ 노홍균 &amp;&lt;ENG&gt;;&amp;&lt;ENG&gt;; 그에게 보내기 위해얼마나 많은 편지지를...</td>\n",
       "      <td>NaN</td>\n",
       "    </tr>\n",
       "    <tr>\n",
       "      <th>128762</th>\n",
       "      <td>http://poemlove.co.kr/m/bbs/board.php?bo_table...</td>\n",
       "      <td>찬비 내린 후에</td>\n",
       "      <td>노홍균</td>\n",
       "      <td>['찬비 내린 후에/ 노홍균불 밝히면 달아나 버리는 어둠 같은 사랑아너를 밝히 보고...</td>\n",
       "      <td>NaN</td>\n",
       "    </tr>\n",
       "    <tr>\n",
       "      <th>128803</th>\n",
       "      <td>http://poemlove.co.kr/m/bbs/board.php?bo_table...</td>\n",
       "      <td>버려진 벽시계의 침묵</td>\n",
       "      <td>노홍균</td>\n",
       "      <td>['버려진 벽시계의 침묵 /&amp;&lt;ENG&gt;;&amp;&lt;ENG&gt;;노홍균 &amp;&lt;ENG&gt;;&amp;&lt;ENG&gt;...</td>\n",
       "      <td>NaN</td>\n",
       "    </tr>\n",
       "    <tr>\n",
       "      <th>128804</th>\n",
       "      <td>http://poemlove.co.kr/m/bbs/board.php?bo_table...</td>\n",
       "      <td>바람의 발자국</td>\n",
       "      <td>노홍균</td>\n",
       "      <td>['바람의 발자국&amp;&lt;ENG&gt;;&amp;&lt;ENG&gt;;노홍균 &amp;&lt;ENG&gt;;&amp;&lt;ENG&gt;; &amp;&lt;EN...</td>\n",
       "      <td>NaN</td>\n",
       "    </tr>\n",
       "    <tr>\n",
       "      <th>128805</th>\n",
       "      <td>http://poemlove.co.kr/m/bbs/board.php?bo_table...</td>\n",
       "      <td>블랙커피</td>\n",
       "      <td>노홍균</td>\n",
       "      <td>['블랙커피&amp;&lt;ENG&gt;;&amp;&lt;ENG&gt;;노홍균 &amp;&lt;ENG&gt;;&amp;&lt;ENG&gt;; &amp;&lt;ENG&gt;;...</td>\n",
       "      <td>NaN</td>\n",
       "    </tr>\n",
       "    <tr>\n",
       "      <th>128819</th>\n",
       "      <td>http://poemlove.co.kr/m/bbs/board.php?bo_table...</td>\n",
       "      <td>아버지의 지게</td>\n",
       "      <td>이향숙</td>\n",
       "      <td>['아버지의 지게 이향숙 일군 밭과 들에 서서 미소를 짓는 당신은 지게 만큼이나 풍...</td>\n",
       "      <td>NaN</td>\n",
       "    </tr>\n",
       "    <tr>\n",
       "      <th>129096</th>\n",
       "      <td>http://poemlove.co.kr/m/bbs/board.php?bo_table...</td>\n",
       "      <td>저녁 스며드네..허수경</td>\n",
       "      <td>김혜련</td>\n",
       "      <td>['저녁 스며드네허수경잎들은 와르르 빛 아래 저녁 빛 아래 물방울은 동그르 꽃 밑에...</td>\n",
       "      <td>NaN</td>\n",
       "    </tr>\n",
       "    <tr>\n",
       "      <th>129375</th>\n",
       "      <td>http://poemlove.co.kr/m/bbs/board.php?bo_table...</td>\n",
       "      <td>글줍는거지 - 한종남</td>\n",
       "      <td>한종남</td>\n",
       "      <td>['***글줍는거지***&lt;CHI&gt;.한종남가을이면 보랏빛 나팔꽃 곱게 피어있는 담장밑...</td>\n",
       "      <td>NaN</td>\n",
       "    </tr>\n",
       "    <tr>\n",
       "      <th>129376</th>\n",
       "      <td>http://poemlove.co.kr/m/bbs/board.php?bo_table...</td>\n",
       "      <td>갈대밭엔 - 한종남</td>\n",
       "      <td>한종남</td>\n",
       "      <td>['***갈대밭엔*** &lt;CHI&gt;.한종남 갈대가 사는곳에 바람도 함께 살았다 얼기설...</td>\n",
       "      <td>NaN</td>\n",
       "    </tr>\n",
       "    <tr>\n",
       "      <th>129377</th>\n",
       "      <td>http://poemlove.co.kr/m/bbs/board.php?bo_table...</td>\n",
       "      <td>잔인한 시월아 - 한종남</td>\n",
       "      <td>한종남</td>\n",
       "      <td>['***잔인한 시월아***&lt;CHI&gt;.한종남시월아 모든걸 가져가는구나 푸르른 날들도...</td>\n",
       "      <td>NaN</td>\n",
       "    </tr>\n",
       "    <tr>\n",
       "      <th>129404</th>\n",
       "      <td>http://poemlove.co.kr/m/bbs/board.php?bo_table...</td>\n",
       "      <td>내탓이로구나 - 한종남</td>\n",
       "      <td>한종남</td>\n",
       "      <td>['***내탓이로구나***&lt;CHI&gt;.한종남세상이 밝지 못하다고 원망만 하였더니 그게...</td>\n",
       "      <td>NaN</td>\n",
       "    </tr>\n",
       "    <tr>\n",
       "      <th>129410</th>\n",
       "      <td>http://poemlove.co.kr/m/bbs/board.php?bo_table...</td>\n",
       "      <td>이런 저녁엔 - 이명구</td>\n",
       "      <td>poemlove</td>\n",
       "      <td>['이런 저녁엔 &amp;&lt;ENG&gt;;이명구&amp;&lt;ENG&gt;; 노란 가로수 길 가을비 곱게 내리는...</td>\n",
       "      <td>NaN</td>\n",
       "    </tr>\n",
       "    <tr>\n",
       "      <th>129412</th>\n",
       "      <td>http://poemlove.co.kr/m/bbs/board.php?bo_table...</td>\n",
       "      <td>첫새벽을 깨우며 - 한종남</td>\n",
       "      <td>한종남</td>\n",
       "      <td>['***첫새벽을 깨우며***&lt;CHI&gt;.한종남어둠은 아직도 뒤척이는데 기린처럼 긴~...</td>\n",
       "      <td>NaN</td>\n",
       "    </tr>\n",
       "    <tr>\n",
       "      <th>129501</th>\n",
       "      <td>http://poemlove.co.kr/m/bbs/board.php?bo_table...</td>\n",
       "      <td>그리움.. - 한종남</td>\n",
       "      <td>한종남</td>\n",
       "      <td>['~그리움~그리워서그저 그리워서까만 밤하늘의 별들을 헤아려 본다별 하나 사랑별 둘...</td>\n",
       "      <td>NaN</td>\n",
       "    </tr>\n",
       "    <tr>\n",
       "      <th>129502</th>\n",
       "      <td>http://poemlove.co.kr/m/bbs/board.php?bo_table...</td>\n",
       "      <td>향내 잃은 아카시아 / 이지영</td>\n",
       "      <td>정선주</td>\n",
       "      <td>['향내 잃은 아카시아 / 이지영찬란한 금빛 우수여그리 저리도록반란과 몸살을 앓고 ...</td>\n",
       "      <td>NaN</td>\n",
       "    </tr>\n",
       "    <tr>\n",
       "      <th>129553</th>\n",
       "      <td>http://poemlove.co.kr/m/bbs/board.php?bo_table...</td>\n",
       "      <td>상사화 - 이향숙</td>\n",
       "      <td>이향숙</td>\n",
       "      <td>['&lt;&lt;ENG&gt;=&lt;ENG&gt;://&lt;ENG&gt;.&lt;ENG&gt;.&lt;ENG&gt;/&lt;ENG&gt;&lt;NUM&gt;/...</td>\n",
       "      <td>NaN</td>\n",
       "    </tr>\n",
       "  </tbody>\n",
       "</table>\n",
       "<p>111 rows × 5 columns</p>\n",
       "</div>"
      ],
      "text/plain": [
       "                                                      url  \\\n",
       "2053    http://poemlove.co.kr/m/bbs/board.php?bo_table...   \n",
       "12266   http://poemlove.co.kr/m/bbs/board.php?bo_table...   \n",
       "15614   http://poemlove.co.kr/m/bbs/board.php?bo_table...   \n",
       "18130   http://poemlove.co.kr/m/bbs/board.php?bo_table...   \n",
       "18132   http://poemlove.co.kr/m/bbs/board.php?bo_table...   \n",
       "...                                                   ...   \n",
       "129410  http://poemlove.co.kr/m/bbs/board.php?bo_table...   \n",
       "129412  http://poemlove.co.kr/m/bbs/board.php?bo_table...   \n",
       "129501  http://poemlove.co.kr/m/bbs/board.php?bo_table...   \n",
       "129502  http://poemlove.co.kr/m/bbs/board.php?bo_table...   \n",
       "129553  http://poemlove.co.kr/m/bbs/board.php?bo_table...   \n",
       "\n",
       "                                                    title    writer  \\\n",
       "2053    특집/셸리 탄생 200주년 기념 특집 - 셸리(Percy Bysshe Shelly)...  poemlove   \n",
       "12266                                              대작(對酌)       김안로   \n",
       "15614                                 해운대 찬가(海雲臺, 讚歌)/李時明       이시명   \n",
       "18130                                            겨울 그리고 봄       송정숙   \n",
       "18132                                            창 밖에는 눈3       송정숙   \n",
       "...                                                   ...       ...   \n",
       "129410                                       이런 저녁엔 - 이명구  poemlove   \n",
       "129412                                     첫새벽을 깨우며 - 한종남       한종남   \n",
       "129501                                        그리움.. - 한종남       한종남   \n",
       "129502                                   향내 잃은 아카시아 / 이지영       정선주   \n",
       "129553                                          상사화 - 이향숙       이향숙   \n",
       "\n",
       "                                                 contents author  \n",
       "2053    ['‘시문학’ 지 <NUM>년 7월호:', '특집/셸리 탄생 <NUM>주년 기념 특...    NaN  \n",
       "12266   ['대작<CHI>/김안로', '나는 막걸리를 들고', '하늘은 구름을 들이켰지', ...    NaN  \n",
       "15614   ['해운대 찬가<CHI>, <CHI>', '/李<CHI>', '국유 현묘지도와 \"천...    NaN  \n",
       "18130   ['겨울 그리고 봄', '-송정숙-', '밑그림을 그린다', '너를 위해서', '꽃...    NaN  \n",
       "18132   ['창 밖에는 눈3', '-송정숙-', '오전에는 봄', '오후에는 겨울 눈', '...    NaN  \n",
       "...                                                   ...    ...  \n",
       "129410  ['이런 저녁엔 &<ENG>;이명구&<ENG>; 노란 가로수 길 가을비 곱게 내리는...    NaN  \n",
       "129412  ['***첫새벽을 깨우며***<CHI>.한종남어둠은 아직도 뒤척이는데 기린처럼 긴~...    NaN  \n",
       "129501  ['~그리움~그리워서그저 그리워서까만 밤하늘의 별들을 헤아려 본다별 하나 사랑별 둘...    NaN  \n",
       "129502  ['향내 잃은 아카시아 / 이지영찬란한 금빛 우수여그리 저리도록반란과 몸살을 앓고 ...    NaN  \n",
       "129553  ['<<ENG>=<ENG>://<ENG>.<ENG>.<ENG>/<ENG><NUM>/...    NaN  \n",
       "\n",
       "[111 rows x 5 columns]"
      ]
     },
     "execution_count": 135,
     "metadata": {},
     "output_type": "execute_result"
    }
   ],
   "source": [
    "poetry_final[poetry_final.author.isnull() == True]"
   ]
  },
  {
   "cell_type": "code",
   "execution_count": 136,
   "metadata": {},
   "outputs": [
    {
     "data": {
      "text/plain": [
       "url           0\n",
       "title        13\n",
       "writer        0\n",
       "contents      1\n",
       "author      111\n",
       "dtype: int64"
      ]
     },
     "execution_count": 136,
     "metadata": {},
     "output_type": "execute_result"
    }
   ],
   "source": [
    "poetry_final.isnull().sum()"
   ]
  },
  {
   "cell_type": "code",
   "execution_count": 137,
   "metadata": {},
   "outputs": [],
   "source": [
    "poetry_final = poetry_final[poetry_final.title.isnull() == False].reset_index(drop = True)\n",
    "poetry_final = poetry_final[poetry_final.contents.isnull() == False].reset_index(drop = True)\n",
    "poetry_final = poetry_final[poetry_final.author.isnull() == False].reset_index(drop = True)"
   ]
  },
  {
   "cell_type": "code",
   "execution_count": 138,
   "metadata": {},
   "outputs": [],
   "source": [
    "poetry_final['title'] = poetry_final.title.apply(lambda x: x.split(' - '))"
   ]
  },
  {
   "cell_type": "code",
   "execution_count": 139,
   "metadata": {},
   "outputs": [
    {
     "data": {
      "text/plain": [
       "0                            [동시/첫눈 오는 날.]\n",
       "1                                [그리움, 너는]\n",
       "2                         [비워내는 건 외로운 법이다]\n",
       "3                       [지극히 따뜻한 애혼(愛魂)에게]\n",
       "4         [12월엔  설화(雪花)를 그리는 한 마리 노루이고 싶다]\n",
       "                        ...               \n",
       "143717                         [가죽나무, 도종환]\n",
       "143718                       [당신의 나라, 서주홍]\n",
       "143719                       [물먹는 하마, 강문숙]\n",
       "143720             [혼자 일 수 밖에 없었던 이유, 이용채]\n",
       "143721                          [한사람, 이정하]\n",
       "Name: title, Length: 143722, dtype: object"
      ]
     },
     "execution_count": 139,
     "metadata": {},
     "output_type": "execute_result"
    }
   ],
   "source": [
    "poetry_final['title']"
   ]
  },
  {
   "cell_type": "code",
   "execution_count": 140,
   "metadata": {
    "scrolled": true
   },
   "outputs": [],
   "source": [
    "a = []\n",
    "for i in range(len(poetry_final.title)):\n",
    "    if len(poetry_final.title[i]) > 2:\n",
    "        a.append(i)"
   ]
  },
  {
   "cell_type": "code",
   "execution_count": null,
   "metadata": {},
   "outputs": [],
   "source": []
  },
  {
   "cell_type": "code",
   "execution_count": null,
   "metadata": {},
   "outputs": [],
   "source": []
  },
  {
   "cell_type": "code",
   "execution_count": 141,
   "metadata": {},
   "outputs": [
    {
     "data": {
      "text/plain": [
       "453"
      ]
     },
     "execution_count": 141,
     "metadata": {},
     "output_type": "execute_result"
    }
   ],
   "source": [
    "len(a)"
   ]
  },
  {
   "cell_type": "code",
   "execution_count": 142,
   "metadata": {
    "scrolled": true
   },
   "outputs": [],
   "source": [
    "poetry_final = poetry_final.drop(a,0).reset_index(drop = True)"
   ]
  },
  {
   "cell_type": "code",
   "execution_count": 149,
   "metadata": {
    "scrolled": true
   },
   "outputs": [
    {
     "data": {
      "text/plain": [
       "url         0\n",
       "title       0\n",
       "writer      0\n",
       "contents    0\n",
       "author      0\n",
       "dtype: int64"
      ]
     },
     "execution_count": 149,
     "metadata": {},
     "output_type": "execute_result"
    }
   ],
   "source": [
    "poetry_final.isnull().sum()"
   ]
  },
  {
   "cell_type": "code",
   "execution_count": 128,
   "metadata": {},
   "outputs": [],
   "source": [
    "b = []\n",
    "for i in range(len(poetry_final.title)):\n",
    "    if len(poetry_final.title[i]) == 2:\n",
    "        b.append([poetry_final.title[i][0]])\n",
    "    else:\n",
    "        b.append(poetry_final.title[i])"
   ]
  },
  {
   "cell_type": "code",
   "execution_count": 148,
   "metadata": {},
   "outputs": [
    {
     "data": {
      "text/plain": [
       "143269"
      ]
     },
     "execution_count": 148,
     "metadata": {},
     "output_type": "execute_result"
    }
   ],
   "source": [
    "len(b)"
   ]
  },
  {
   "cell_type": "code",
   "execution_count": null,
   "metadata": {},
   "outputs": [],
   "source": []
  }
 ],
 "metadata": {
  "kernelspec": {
   "display_name": "Python 3",
   "language": "python",
   "name": "python3"
  },
  "language_info": {
   "codemirror_mode": {
    "name": "ipython",
    "version": 3
   },
   "file_extension": ".py",
   "mimetype": "text/x-python",
   "name": "python",
   "nbconvert_exporter": "python",
   "pygments_lexer": "ipython3",
   "version": "3.6.5"
  }
 },
 "nbformat": 4,
 "nbformat_minor": 2
}
