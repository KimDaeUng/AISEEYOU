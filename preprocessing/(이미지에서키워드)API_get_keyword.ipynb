{
 "cells": [
  {
   "cell_type": "code",
   "execution_count": 1,
   "metadata": {},
   "outputs": [],
   "source": [
    "CLARIFAI_API_KEY = \"cc546dd5ab3c4e5a82b97aeaf7a4bc7d\""
   ]
  },
  {
   "cell_type": "code",
   "execution_count": 2,
   "metadata": {},
   "outputs": [],
   "source": [
    "from clarifai.rest import ClarifaiApp\n",
    "app = ClarifaiApp(api_key=CLARIFAI_API_KEY)"
   ]
  },
  {
   "cell_type": "code",
   "execution_count": 3,
   "metadata": {},
   "outputs": [],
   "source": [
    "model = app.public_models.general_model\n",
    "# response = model.predict_by_url(url='https://samples.clarifai.com/metro-north.jpg')\n",
    "\n",
    "response = model.predict_by_filename(filename='C:/Users/ehj14/Desktop/TOBIGS/1year/project/Korean-Tourist-Spot-Dataset-master/data/kts/resized/person-made/park/images/1.jpg')"
   ]
  },
  {
   "cell_type": "code",
   "execution_count": 4,
   "metadata": {},
   "outputs": [
    {
     "name": "stdout",
     "output_type": "stream",
     "text": [
      "garden 0.9989428520202637\n",
      "flower 0.9981387257575989\n",
      "flora 0.9910210371017456\n",
      "nature 0.985654354095459\n",
      "guidance 0.9826502203941345\n",
      "lawn 0.9816524386405945\n",
      "park 0.9815218448638916\n",
      "footpath 0.979296088218689\n",
      "summer 0.9716213345527649\n",
      "grass 0.9618512392044067\n",
      "tree 0.9551855325698853\n",
      "no person 0.9519137144088745\n",
      "topiary 0.9512618780136108\n",
      "yard 0.9480197429656982\n",
      "leaf 0.9383869171142578\n",
      "season 0.9355883598327637\n",
      "hedge 0.9323424100875854\n",
      "formal 0.9259995222091675\n",
      "growth 0.9259612560272217\n",
      "flowerbed 0.9258822202682495\n"
     ]
    }
   ],
   "source": [
    "concepts = response['outputs'][0]['data']['concepts']\n",
    "for concept in concepts:\n",
    "    print(concept['name'], concept['value'])"
   ]
  },
  {
   "cell_type": "code",
   "execution_count": 5,
   "metadata": {},
   "outputs": [],
   "source": [
    "category = {\"nature-scene\": [\"beach\", \"cave\", \"island\", \"lake\", \"mountain\"],\n",
    "            \"person-made\": [\"amusement park\", \"palace\", \"park\", \"restaurant\", \"tower\"]}"
   ]
  },
  {
   "cell_type": "code",
   "execution_count": 6,
   "metadata": {},
   "outputs": [],
   "source": [
    "from collections import defaultdict"
   ]
  },
  {
   "cell_type": "code",
   "execution_count": 7,
   "metadata": {},
   "outputs": [],
   "source": [
    "img_keyword = defaultdict(dict)"
   ]
  },
  {
   "cell_type": "code",
   "execution_count": 8,
   "metadata": {},
   "outputs": [
    {
     "data": {
      "text/plain": [
       "dict_items([('nature-scene', ['beach', 'cave', 'island', 'lake', 'mountain']), ('person-made', ['amusement park', 'palace', 'park', 'restaurant', 'tower'])])"
      ]
     },
     "execution_count": 8,
     "metadata": {},
     "output_type": "execute_result"
    }
   ],
   "source": [
    "category.items()"
   ]
  },
  {
   "cell_type": "code",
   "execution_count": 9,
   "metadata": {},
   "outputs": [],
   "source": [
    "from tqdm import tqdm"
   ]
  },
  {
   "cell_type": "code",
   "execution_count": 10,
   "metadata": {},
   "outputs": [
    {
     "name": "stdout",
     "output_type": "stream",
     "text": [
      "Categ :  restaurant\n"
     ]
    },
    {
     "name": "stderr",
     "output_type": "stream",
     "text": [
      "100%|██████████████████████████████████████████████████████████████████████████████| 1000/1000 [08:57<00:00,  1.86it/s]\n"
     ]
    },
    {
     "name": "stdout",
     "output_type": "stream",
     "text": [
      "Categ :  tower\n"
     ]
    },
    {
     "name": "stderr",
     "output_type": "stream",
     "text": [
      "100%|██████████████████████████████████████████████████████████████████████████████| 1000/1000 [09:25<00:00,  1.77it/s]\n"
     ]
    }
   ],
   "source": [
    "for key, val in category.items():\n",
    "    if key == 'person-made':\n",
    "        for v in val[3:]:\n",
    "            image_path = \"C:/Users/ehj14/Desktop/TOBIGS/1year/project/Korean-Tourist-Spot-Dataset-master/data/kts/total/\"\n",
    "            img_dir = image_path + key + \"/\" + v + \"/images/\"\n",
    "            print(\"Categ : \", v)\n",
    "            for cnt in tqdm(range(1, 1001)):\n",
    "                filename = img_dir + str(cnt) + \".jpg\"\n",
    "                try:\n",
    "                    response = model.predict_by_filename(filename=filename)    \n",
    "                except:\n",
    "                    continue\n",
    "                concepts = response['outputs'][0]['data']['concepts']\n",
    "                con = []\n",
    "                for concept in concepts:\n",
    "#                     print(concept['name'], concept['value'])\n",
    "                    con.append(concept['name'])\n",
    "                img_keyword[v][cnt] = con\n"
   ]
  },
  {
   "cell_type": "code",
   "execution_count": 11,
   "metadata": {},
   "outputs": [
    {
     "data": {
      "text/plain": [
       "1000"
      ]
     },
     "execution_count": 11,
     "metadata": {},
     "output_type": "execute_result"
    }
   ],
   "source": [
    "len(img_keyword['restaurant'])"
   ]
  },
  {
   "cell_type": "code",
   "execution_count": 12,
   "metadata": {},
   "outputs": [
    {
     "data": {
      "text/plain": [
       "1000"
      ]
     },
     "execution_count": 12,
     "metadata": {},
     "output_type": "execute_result"
    }
   ],
   "source": [
    "len(img_keyword['tower'])"
   ]
  },
  {
   "cell_type": "code",
   "execution_count": 13,
   "metadata": {},
   "outputs": [
    {
     "data": {
      "text/plain": [
       "['sweet',\n",
       " 'food',\n",
       " 'cake',\n",
       " 'tart',\n",
       " 'pie',\n",
       " 'pastry',\n",
       " 'homemade',\n",
       " 'no person',\n",
       " 'delicious',\n",
       " 'sugar',\n",
       " 'fruit',\n",
       " 'custard',\n",
       " 'baking',\n",
       " 'refreshment',\n",
       " 'bakery',\n",
       " 'breakfast',\n",
       " 'meal',\n",
       " 'cooking',\n",
       " 'pudding',\n",
       " 'dish']"
      ]
     },
     "execution_count": 13,
     "metadata": {},
     "output_type": "execute_result"
    }
   ],
   "source": [
    "img_keyword['restaurant'][1]"
   ]
  },
  {
   "cell_type": "markdown",
   "metadata": {},
   "source": [
    "### pickle file로 저장"
   ]
  },
  {
   "cell_type": "code",
   "execution_count": 14,
   "metadata": {},
   "outputs": [],
   "source": [
    "import pickle"
   ]
  },
  {
   "cell_type": "code",
   "execution_count": 15,
   "metadata": {},
   "outputs": [],
   "source": [
    "with open('key_en_restaurant', 'wb') as f:\n",
    "    pickle.dump(img_keyword['restaurant'], f)"
   ]
  },
  {
   "cell_type": "code",
   "execution_count": 16,
   "metadata": {},
   "outputs": [],
   "source": [
    "with open('key_en_tower.pkl', 'wb') as f:\n",
    "    pickle.dump(img_keyword['tower'], f)"
   ]
  },
  {
   "cell_type": "code",
   "execution_count": 17,
   "metadata": {},
   "outputs": [],
   "source": [
    "with open('restaurant_keyword.pkl', 'rb') as f:\n",
    "    test1 = pickle.load(f)"
   ]
  },
  {
   "cell_type": "code",
   "execution_count": 18,
   "metadata": {},
   "outputs": [],
   "source": [
    "with open('tower_keyword.pkl', 'rb') as f:\n",
    "    test2 = pickle.load(f)"
   ]
  },
  {
   "cell_type": "code",
   "execution_count": 19,
   "metadata": {},
   "outputs": [
    {
     "data": {
      "text/plain": [
       "1000"
      ]
     },
     "execution_count": 19,
     "metadata": {},
     "output_type": "execute_result"
    }
   ],
   "source": [
    "len(test1)"
   ]
  },
  {
   "cell_type": "code",
   "execution_count": 20,
   "metadata": {},
   "outputs": [
    {
     "data": {
      "text/plain": [
       "1000"
      ]
     },
     "execution_count": 20,
     "metadata": {},
     "output_type": "execute_result"
    }
   ],
   "source": [
    "len(test2)"
   ]
  },
  {
   "cell_type": "code",
   "execution_count": null,
   "metadata": {},
   "outputs": [],
   "source": []
  },
  {
   "cell_type": "markdown",
   "metadata": {},
   "source": [
    "### json file"
   ]
  },
  {
   "cell_type": "markdown",
   "metadata": {},
   "source": [
    "#### 1. try 'restaurant' file"
   ]
  },
  {
   "cell_type": "code",
   "execution_count": 23,
   "metadata": {},
   "outputs": [],
   "source": [
    "import json"
   ]
  },
  {
   "cell_type": "code",
   "execution_count": 24,
   "metadata": {},
   "outputs": [],
   "source": [
    "file_path = 'C:/Users/ehj14/Desktop/TOBIGS/1year/project/Korean-Tourist-Spot-Dataset-master/data/kts/resized/person-made/restaurant/restaurant.json'"
   ]
  },
  {
   "cell_type": "code",
   "execution_count": 25,
   "metadata": {},
   "outputs": [],
   "source": [
    "with open(file_path, 'rb') as f:\n",
    "    json_data = json.load(f)"
   ]
  },
  {
   "cell_type": "code",
   "execution_count": 26,
   "metadata": {},
   "outputs": [
    {
     "data": {
      "text/plain": [
       "1000"
      ]
     },
     "execution_count": 26,
     "metadata": {},
     "output_type": "execute_result"
    }
   ],
   "source": [
    "len(json_data)"
   ]
  },
  {
   "cell_type": "code",
   "execution_count": 27,
   "metadata": {},
   "outputs": [
    {
     "data": {
      "text/plain": [
       "{'img_name': '1',\n",
       " 'label': 'restaurant',\n",
       " 'likes': '55',\n",
       " 'text': '열려있어요',\n",
       " 'hashtag': ['#간식', '#쉐아라']}"
      ]
     },
     "execution_count": 27,
     "metadata": {},
     "output_type": "execute_result"
    }
   ],
   "source": [
    "json_data[0]"
   ]
  },
  {
   "cell_type": "code",
   "execution_count": 30,
   "metadata": {},
   "outputs": [
    {
     "data": {
      "text/plain": [
       "['디저트',\n",
       " '식품',\n",
       " '케이크',\n",
       " '파이',\n",
       " '원형 (평면)',\n",
       " '과자',\n",
       " '집에서 만든',\n",
       " '어떤 사람도 없다',\n",
       " '아름다운',\n",
       " '설탕',\n",
       " '과일',\n",
       " '커스터드',\n",
       " '베이킹',\n",
       " '간식',\n",
       " '빵집',\n",
       " '아침 식사',\n",
       " '식사',\n",
       " '조리',\n",
       " '푸딩',\n",
       " '요리 전문']"
      ]
     },
     "execution_count": 30,
     "metadata": {},
     "output_type": "execute_result"
    }
   ],
   "source": [
    "test1[1]"
   ]
  },
  {
   "cell_type": "code",
   "execution_count": 85,
   "metadata": {},
   "outputs": [
    {
     "name": "stderr",
     "output_type": "stream",
     "text": [
      "100%|██████████████████████████████████████████████████████████████████████████| 1000/1000 [00:00<00:00, 250825.50it/s]\n"
     ]
    }
   ],
   "source": [
    "for i in tqdm(range(len(json_data))):\n",
    "    json_data[i]['keyword'] = 0\n",
    "    json_data[i]['keyword'] = test1[i+1]"
   ]
  },
  {
   "cell_type": "code",
   "execution_count": 86,
   "metadata": {},
   "outputs": [
    {
     "data": {
      "text/plain": [
       "{'img_name': '4',\n",
       " 'label': 'restaurant',\n",
       " 'likes': '92',\n",
       " 'text': '지루해',\n",
       " 'hashtag': ['#간식', '#바닐라스위트', '#신촌카페'],\n",
       " 'keyword': ['케이크',\n",
       "  '크림',\n",
       "  '컵 (용기)',\n",
       "  '초콜릿',\n",
       "  'fragaria × ananassa',\n",
       "  '디저트',\n",
       "  '커피',\n",
       "  '차',\n",
       "  '판',\n",
       "  '아침 식사',\n",
       "  '설탕',\n",
       "  '생일',\n",
       "  '과자',\n",
       "  '식품',\n",
       "  '우유',\n",
       "  '아름다운',\n",
       "  '크림색의',\n",
       "  '베이킹',\n",
       "  '크래커',\n",
       "  '장과']}"
      ]
     },
     "execution_count": 86,
     "metadata": {},
     "output_type": "execute_result"
    }
   ],
   "source": [
    "json_data[3]"
   ]
  },
  {
   "cell_type": "code",
   "execution_count": 87,
   "metadata": {},
   "outputs": [
    {
     "data": {
      "text/plain": [
       "'77'"
      ]
     },
     "execution_count": 87,
     "metadata": {},
     "output_type": "execute_result"
    }
   ],
   "source": [
    "json_data[1]['likes']"
   ]
  },
  {
   "cell_type": "code",
   "execution_count": 88,
   "metadata": {},
   "outputs": [],
   "source": [
    "copy = json_data"
   ]
  },
  {
   "cell_type": "code",
   "execution_count": 89,
   "metadata": {},
   "outputs": [],
   "source": [
    "for i in range(len(copy)):\n",
    "    del copy[i]['likes']"
   ]
  },
  {
   "cell_type": "code",
   "execution_count": 90,
   "metadata": {},
   "outputs": [],
   "source": [
    "for i in range(len(copy)):\n",
    "    del copy[i]['text']"
   ]
  },
  {
   "cell_type": "code",
   "execution_count": 91,
   "metadata": {},
   "outputs": [
    {
     "data": {
      "text/plain": [
       "{'img_name': '2',\n",
       " 'label': 'restaurant',\n",
       " 'hashtag': ['#간식', '#도토리다방'],\n",
       " 'keyword': ['양초',\n",
       "  '테이블 (가구)',\n",
       "  '포도주',\n",
       "  '유리 (컨테이너)',\n",
       "  '커피',\n",
       "  '한잔',\n",
       "  '식품',\n",
       "  '정물화',\n",
       "  '칼',\n",
       "  '유리',\n",
       "  '차',\n",
       "  '꽃',\n",
       "  '나무',\n",
       "  '아침 식사',\n",
       "  '과일',\n",
       "  '컵 (용기)',\n",
       "  '레스토랑',\n",
       "  '빵',\n",
       "  '결혼 (의식)',\n",
       "  '병']}"
      ]
     },
     "execution_count": 91,
     "metadata": {},
     "output_type": "execute_result"
    }
   ],
   "source": [
    "copy[1]"
   ]
  },
  {
   "cell_type": "code",
   "execution_count": 113,
   "metadata": {},
   "outputs": [],
   "source": [
    "with open('key_restaurant.json', 'w', encoding='utf-8') as f:\n",
    "    json.dump(copy,f)"
   ]
  },
  {
   "cell_type": "markdown",
   "metadata": {},
   "source": [
    "#### 2. try 'tower' file"
   ]
  },
  {
   "cell_type": "code",
   "execution_count": 96,
   "metadata": {},
   "outputs": [],
   "source": [
    "file_path = 'C:/Users/ehj14/Desktop/TOBIGS/1year/project/Korean-Tourist-Spot-Dataset-master/data/kts/resized/person-made/tower/tower.json'"
   ]
  },
  {
   "cell_type": "code",
   "execution_count": 97,
   "metadata": {},
   "outputs": [],
   "source": [
    "with open(file_path, 'rb') as f:\n",
    "    json_data = json.load(f)"
   ]
  },
  {
   "cell_type": "code",
   "execution_count": 98,
   "metadata": {},
   "outputs": [
    {
     "data": {
      "text/plain": [
       "{'img_name': '1',\n",
       " 'label': 'tower',\n",
       " 'likes': '2',\n",
       " 'text': '나주 빛가람전망대에서 모노레일을 탔는데 정말 시원했다!',\n",
       " 'hashtag': ['#나주', '#빛가람전망대', '#모노레일']}"
      ]
     },
     "execution_count": 98,
     "metadata": {},
     "output_type": "execute_result"
    }
   ],
   "source": [
    "json_data[0]"
   ]
  },
  {
   "cell_type": "code",
   "execution_count": 99,
   "metadata": {},
   "outputs": [
    {
     "data": {
      "text/plain": [
       "1000"
      ]
     },
     "execution_count": 99,
     "metadata": {},
     "output_type": "execute_result"
    }
   ],
   "source": [
    "len(json_data)"
   ]
  },
  {
   "cell_type": "code",
   "execution_count": 100,
   "metadata": {},
   "outputs": [
    {
     "data": {
      "text/plain": [
       "['구조',\n",
       " '사업',\n",
       " '여행',\n",
       " '어떤 사람도 없다',\n",
       " '천국',\n",
       " '유리',\n",
       " '현대',\n",
       " '건물',\n",
       " '도시',\n",
       " '거리',\n",
       " '옥외',\n",
       " '비행장',\n",
       " '기차',\n",
       " '비즈니스 지구',\n",
       " '도시 지역',\n",
       " '현대의',\n",
       " '미래',\n",
       " '기차',\n",
       " '재원',\n",
       " '창문']"
      ]
     },
     "execution_count": 100,
     "metadata": {},
     "output_type": "execute_result"
    }
   ],
   "source": [
    "test2[1]"
   ]
  },
  {
   "cell_type": "code",
   "execution_count": 101,
   "metadata": {},
   "outputs": [
    {
     "name": "stderr",
     "output_type": "stream",
     "text": [
      "100%|██████████████████████████████████████████████████████████████████████████| 1000/1000 [00:00<00:00, 624338.20it/s]\n"
     ]
    }
   ],
   "source": [
    "for i in tqdm(range(len(json_data))):\n",
    "    json_data[i]['keyword'] = 0\n",
    "    json_data[i]['keyword'] = test2[i+1]"
   ]
  },
  {
   "cell_type": "code",
   "execution_count": 102,
   "metadata": {},
   "outputs": [
    {
     "data": {
      "text/plain": [
       "{'img_name': '1',\n",
       " 'label': 'tower',\n",
       " 'likes': '2',\n",
       " 'text': '나주 빛가람전망대에서 모노레일을 탔는데 정말 시원했다!',\n",
       " 'hashtag': ['#나주', '#빛가람전망대', '#모노레일'],\n",
       " 'keyword': ['구조',\n",
       "  '사업',\n",
       "  '여행',\n",
       "  '어떤 사람도 없다',\n",
       "  '천국',\n",
       "  '유리',\n",
       "  '현대',\n",
       "  '건물',\n",
       "  '도시',\n",
       "  '거리',\n",
       "  '옥외',\n",
       "  '비행장',\n",
       "  '기차',\n",
       "  '비즈니스 지구',\n",
       "  '도시 지역',\n",
       "  '현대의',\n",
       "  '미래',\n",
       "  '기차',\n",
       "  '재원',\n",
       "  '창문']}"
      ]
     },
     "execution_count": 102,
     "metadata": {},
     "output_type": "execute_result"
    }
   ],
   "source": [
    "json_data[0]"
   ]
  },
  {
   "cell_type": "code",
   "execution_count": 103,
   "metadata": {},
   "outputs": [],
   "source": [
    "copy2 = json_data"
   ]
  },
  {
   "cell_type": "code",
   "execution_count": 104,
   "metadata": {},
   "outputs": [],
   "source": [
    "for i in range(len(copy2)):\n",
    "    del copy2[i]['likes']"
   ]
  },
  {
   "cell_type": "code",
   "execution_count": 105,
   "metadata": {},
   "outputs": [],
   "source": [
    "for i in range(len(copy2)):\n",
    "    del copy2[i]['text']"
   ]
  },
  {
   "cell_type": "code",
   "execution_count": 106,
   "metadata": {},
   "outputs": [
    {
     "data": {
      "text/plain": [
       "{'img_name': '2',\n",
       " 'label': 'tower',\n",
       " 'hashtag': ['#땅끝',\n",
       "  '#땅끝전망대',\n",
       "  '#해남',\n",
       "  '#땅끝마을해남',\n",
       "  '#해남여행',\n",
       "  '#해남땅끝마을전망대',\n",
       "  '#해남땅끝',\n",
       "  '#해남땅끝마을',\n",
       "  '#땅끝탑',\n",
       "  '#최남단',\n",
       "  '#땅끝비',\n",
       "  '#땅끝모노레일',\n",
       "  '#더이상갈데가없다',\n",
       "  '#여기가끝',\n",
       "  '#진짜끝'],\n",
       " 'keyword': ['구조',\n",
       "  '천국',\n",
       "  '건물',\n",
       "  '탑',\n",
       "  '여행',\n",
       "  '도시',\n",
       "  '구조',\n",
       "  '어떤 사람도 없다',\n",
       "  '현대',\n",
       "  '높은',\n",
       "  '관찰',\n",
       "  '키가 큰',\n",
       "  '일광',\n",
       "  '옥외',\n",
       "  '도시 지역',\n",
       "  '경계표',\n",
       "  '비콘 (항해)',\n",
       "  '빛',\n",
       "  '카지노',\n",
       "  '강철']}"
      ]
     },
     "execution_count": 106,
     "metadata": {},
     "output_type": "execute_result"
    }
   ],
   "source": [
    "copy2[1]"
   ]
  },
  {
   "cell_type": "code",
   "execution_count": 110,
   "metadata": {},
   "outputs": [],
   "source": [
    "with open('key_tower.json', 'w', encoding='utf-8') as f:\n",
    "    json.dump(copy2, f)"
   ]
  },
  {
   "cell_type": "code",
   "execution_count": 111,
   "metadata": {},
   "outputs": [],
   "source": [
    "with open('key_tower.json', 'rb') as f:\n",
    "    our_data = json.load(f)"
   ]
  },
  {
   "cell_type": "code",
   "execution_count": null,
   "metadata": {},
   "outputs": [],
   "source": []
  }
 ],
 "metadata": {
  "kernelspec": {
   "display_name": "Python 3",
   "language": "python",
   "name": "python3"
  },
  "language_info": {
   "codemirror_mode": {
    "name": "ipython",
    "version": 3
   },
   "file_extension": ".py",
   "mimetype": "text/x-python",
   "name": "python",
   "nbconvert_exporter": "python",
   "pygments_lexer": "ipython3",
   "version": "3.7.4"
  }
 },
 "nbformat": 4,
 "nbformat_minor": 4
}
