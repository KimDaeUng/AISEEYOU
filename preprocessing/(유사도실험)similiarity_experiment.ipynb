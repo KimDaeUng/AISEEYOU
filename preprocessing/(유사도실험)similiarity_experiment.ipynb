{
 "cells": [
  {
   "cell_type": "markdown",
   "metadata": {},
   "source": [
    "### Data Loading"
   ]
  },
  {
   "cell_type": "code",
   "execution_count": 1,
   "metadata": {},
   "outputs": [],
   "source": [
    "import numpy as np\n",
    "import pandas as pd\n",
    "import pickle\n",
    "from tqdm import tqdm"
   ]
  },
  {
   "cell_type": "code",
   "execution_count": 2,
   "metadata": {},
   "outputs": [],
   "source": [
    "data = pd.read_csv(\"data.csv\")"
   ]
  },
  {
   "cell_type": "code",
   "execution_count": 3,
   "metadata": {},
   "outputs": [
    {
     "data": {
      "text/html": [
       "<div>\n",
       "<style scoped>\n",
       "    .dataframe tbody tr th:only-of-type {\n",
       "        vertical-align: middle;\n",
       "    }\n",
       "\n",
       "    .dataframe tbody tr th {\n",
       "        vertical-align: top;\n",
       "    }\n",
       "\n",
       "    .dataframe thead th {\n",
       "        text-align: right;\n",
       "    }\n",
       "</style>\n",
       "<table border=\"1\" class=\"dataframe\">\n",
       "  <thead>\n",
       "    <tr style=\"text-align: right;\">\n",
       "      <th></th>\n",
       "      <th>Unnamed: 0</th>\n",
       "      <th>url</th>\n",
       "      <th>title</th>\n",
       "      <th>writer</th>\n",
       "      <th>contents</th>\n",
       "      <th>author</th>\n",
       "    </tr>\n",
       "  </thead>\n",
       "  <tbody>\n",
       "    <tr>\n",
       "      <th>0</th>\n",
       "      <td>0</td>\n",
       "      <td>http://poemlove.co.kr/m/bbs/board.php?bo_table...</td>\n",
       "      <td>동시/첫눈 오는 날.</td>\n",
       "      <td>장수남</td>\n",
       "      <td>['은빛하늘 하얀 꿈', '하얀 둥지 틀고', '아장아장 작은 설렘', '첫눈이 내...</td>\n",
       "      <td>장수남</td>\n",
       "    </tr>\n",
       "    <tr>\n",
       "      <th>1</th>\n",
       "      <td>1</td>\n",
       "      <td>http://poemlove.co.kr/m/bbs/board.php?bo_table...</td>\n",
       "      <td>그리움, 너는</td>\n",
       "      <td>고은영</td>\n",
       "      <td>['비 오는 저 들녘', '눈 내리는 어둑한 골목', '바람부는 환장할 공터', '...</td>\n",
       "      <td>고은영</td>\n",
       "    </tr>\n",
       "    <tr>\n",
       "      <th>2</th>\n",
       "      <td>2</td>\n",
       "      <td>http://poemlove.co.kr/m/bbs/board.php?bo_table...</td>\n",
       "      <td>감잎을 쓸어 모으며</td>\n",
       "      <td>김동기</td>\n",
       "      <td>['가을이란 이름으로', '이 땅에 내려와 나뒹굴던', '빛 짠한 낙엽의 상처를 보...</td>\n",
       "      <td>김동기</td>\n",
       "    </tr>\n",
       "    <tr>\n",
       "      <th>3</th>\n",
       "      <td>3</td>\n",
       "      <td>http://poemlove.co.kr/m/bbs/board.php?bo_table...</td>\n",
       "      <td>겨울행 열차</td>\n",
       "      <td>임영준</td>\n",
       "      <td>['우리 중에 누가', '홀가분한 왕복표를', '끊을 수 있을까', '돌아오지 못할...</td>\n",
       "      <td>임영준</td>\n",
       "    </tr>\n",
       "    <tr>\n",
       "      <th>4</th>\n",
       "      <td>4</td>\n",
       "      <td>http://poemlove.co.kr/m/bbs/board.php?bo_table...</td>\n",
       "      <td>착각</td>\n",
       "      <td>이남일</td>\n",
       "      <td>['나는 나를 볼 수 없고', '너는 너를 볼 수 없다', '언제나 마주 보아야',...</td>\n",
       "      <td>이남일</td>\n",
       "    </tr>\n",
       "  </tbody>\n",
       "</table>\n",
       "</div>"
      ],
      "text/plain": [
       "   Unnamed: 0                                                url        title  \\\n",
       "0           0  http://poemlove.co.kr/m/bbs/board.php?bo_table...  동시/첫눈 오는 날.   \n",
       "1           1  http://poemlove.co.kr/m/bbs/board.php?bo_table...      그리움, 너는   \n",
       "2           2  http://poemlove.co.kr/m/bbs/board.php?bo_table...   감잎을 쓸어 모으며   \n",
       "3           3  http://poemlove.co.kr/m/bbs/board.php?bo_table...       겨울행 열차   \n",
       "4           4  http://poemlove.co.kr/m/bbs/board.php?bo_table...           착각   \n",
       "\n",
       "  writer                                           contents author  \n",
       "0    장수남  ['은빛하늘 하얀 꿈', '하얀 둥지 틀고', '아장아장 작은 설렘', '첫눈이 내...    장수남  \n",
       "1    고은영  ['비 오는 저 들녘', '눈 내리는 어둑한 골목', '바람부는 환장할 공터', '...    고은영  \n",
       "2    김동기  ['가을이란 이름으로', '이 땅에 내려와 나뒹굴던', '빛 짠한 낙엽의 상처를 보...    김동기  \n",
       "3    임영준  ['우리 중에 누가', '홀가분한 왕복표를', '끊을 수 있을까', '돌아오지 못할...    임영준  \n",
       "4    이남일  ['나는 나를 볼 수 없고', '너는 너를 볼 수 없다', '언제나 마주 보아야',...    이남일  "
      ]
     },
     "execution_count": 3,
     "metadata": {},
     "output_type": "execute_result"
    }
   ],
   "source": [
    "data[:5]"
   ]
  },
  {
   "cell_type": "code",
   "execution_count": 4,
   "metadata": {},
   "outputs": [
    {
     "data": {
      "text/plain": [
       "86963"
      ]
     },
     "execution_count": 4,
     "metadata": {},
     "output_type": "execute_result"
    }
   ],
   "source": [
    "len(data)"
   ]
  },
  {
   "cell_type": "code",
   "execution_count": 5,
   "metadata": {},
   "outputs": [
    {
     "data": {
      "text/plain": [
       "2916"
      ]
     },
     "execution_count": 5,
     "metadata": {},
     "output_type": "execute_result"
    }
   ],
   "source": [
    "len(data['author'].unique())"
   ]
  },
  {
   "cell_type": "code",
   "execution_count": 6,
   "metadata": {},
   "outputs": [],
   "source": [
    "copy = data"
   ]
  },
  {
   "cell_type": "code",
   "execution_count": 7,
   "metadata": {},
   "outputs": [
    {
     "data": {
      "text/plain": [
       "str"
      ]
     },
     "execution_count": 7,
     "metadata": {},
     "output_type": "execute_result"
    }
   ],
   "source": [
    "type(copy['contents'][0])"
   ]
  },
  {
   "cell_type": "code",
   "execution_count": 8,
   "metadata": {},
   "outputs": [
    {
     "data": {
      "text/plain": [
       "\"['은빛하늘 하얀 꿈'\""
      ]
     },
     "execution_count": 8,
     "metadata": {},
     "output_type": "execute_result"
    }
   ],
   "source": [
    "copy['contents'][0].split(\",\")[0].strip()"
   ]
  },
  {
   "cell_type": "code",
   "execution_count": 9,
   "metadata": {},
   "outputs": [
    {
     "data": {
      "text/plain": [
       "'하얀 둥지 틀고'"
      ]
     },
     "execution_count": 9,
     "metadata": {},
     "output_type": "execute_result"
    }
   ],
   "source": [
    "copy['contents'][0].split(\",\")[1].strip()[1:-1]"
   ]
  },
  {
   "cell_type": "code",
   "execution_count": 10,
   "metadata": {},
   "outputs": [
    {
     "name": "stderr",
     "output_type": "stream",
     "text": [
      "100%|█████████████████████████████████████████████████████████████████████████| 86963/86963 [00:03<00:00, 27233.39it/s]\n"
     ]
    }
   ],
   "source": [
    "contents = []\n",
    "for i in tqdm(range(len(copy['contents']))):\n",
    "    split_data = copy['contents'][i].split(',')\n",
    "    content = []\n",
    "    contents.append(content)\n",
    "    for j in range(len(split_data)):\n",
    "        if j == 0:\n",
    "            j = split_data[j].strip()[2:-1]\n",
    "            content.append(j)\n",
    "        elif j == len(split_data)-1:\n",
    "            j = split_data[j].strip()[1:-2]\n",
    "        \n",
    "        else:\n",
    "            j = split_data[j].strip()[1:-1]\n",
    "            content.append(j)\n",
    "        "
   ]
  },
  {
   "cell_type": "code",
   "execution_count": 11,
   "metadata": {},
   "outputs": [
    {
     "data": {
      "text/plain": [
       "86963"
      ]
     },
     "execution_count": 11,
     "metadata": {},
     "output_type": "execute_result"
    }
   ],
   "source": [
    "len(contents)"
   ]
  },
  {
   "cell_type": "code",
   "execution_count": 12,
   "metadata": {},
   "outputs": [
    {
     "data": {
      "text/plain": [
       "['은빛하늘 하얀 꿈',\n",
       " '하얀 둥지 틀고',\n",
       " '아장아장 작은 설렘',\n",
       " '첫눈이 내린다',\n",
       " '소복소복 너와의',\n",
       " '초롱불 외할머니의',\n",
       " '긴 옛이야기',\n",
       " '앞마당 눈사람',\n",
       " '콧수염 우리할아버지',\n",
       " '내가 그리 생겼냐']"
      ]
     },
     "execution_count": 12,
     "metadata": {},
     "output_type": "execute_result"
    }
   ],
   "source": [
    "contents[0]"
   ]
  },
  {
   "cell_type": "code",
   "execution_count": 13,
   "metadata": {},
   "outputs": [],
   "source": [
    "contents = pd.Series(contents)\n",
    "contents.name = \"new_contents\""
   ]
  },
  {
   "cell_type": "code",
   "execution_count": 14,
   "metadata": {},
   "outputs": [],
   "source": [
    "copy = pd.concat([copy, contents], axis =1)"
   ]
  },
  {
   "cell_type": "code",
   "execution_count": 15,
   "metadata": {},
   "outputs": [
    {
     "data": {
      "text/plain": [
       "0        [은빛하늘 하얀 꿈, 하얀 둥지 틀고, 아장아장 작은 설렘, 첫눈이 내린다, 소복소...\n",
       "1        [비 오는 저 들녘, 눈 내리는 어둑한 골목, 바람부는 환장할 공터, 펄럭이는 깃발...\n",
       "2        [가을이란 이름으로, 이 땅에 내려와 나뒹굴던, 빛 짠한 낙엽의 상처를 보듬어서, ...\n",
       "3        [우리 중에 누가, 홀가분한 왕복표를, 끊을 수 있을까, 돌아오지 못할 가을을, 예...\n",
       "4        [나는 나를 볼 수 없고, 너는 너를 볼 수 없다, 언제나 마주 보아야, 볼 수 있...\n",
       "                               ...                        \n",
       "86958    [빛고운 날 은빛 세상속으로 그대 고운 웃음을 파닥입니다 이 세상 모든 아름다운 것...\n",
       "86959    [나는 내가 부족한 나무라는 걸 안다 내딴에는 곧게 자란다 생각했지만 어떤 나무는 ...\n",
       "86960    [어서 하마를 치워야 할텐데 저 하마를 밖으로 끌어내야 할텐데 늦장마 끝나고 서늘한...\n",
       "86961    [돌아보면 언제나 혼자였다, 나에게서 물러선 그대에게, 다시 다가가면, 그가 부담스...\n",
       "86962    [살아가면서 많은 것이 묻혀지고 잊혀진다 하더라도 그대 이름만은 내 가슴에 남아 있...\n",
       "Name: new_contents, Length: 86963, dtype: object"
      ]
     },
     "execution_count": 15,
     "metadata": {},
     "output_type": "execute_result"
    }
   ],
   "source": [
    "copy['new_contents']"
   ]
  },
  {
   "cell_type": "code",
   "execution_count": 16,
   "metadata": {},
   "outputs": [],
   "source": [
    "with open('restaurant_keyword.pkl', 'rb') as f:\n",
    "    keyword_list = pickle.load(f)"
   ]
  },
  {
   "cell_type": "code",
   "execution_count": null,
   "metadata": {},
   "outputs": [],
   "source": []
  },
  {
   "cell_type": "markdown",
   "metadata": {},
   "source": [
    "### Ex1: Jaccard Similarity"
   ]
  },
  {
   "cell_type": "code",
   "execution_count": 17,
   "metadata": {},
   "outputs": [],
   "source": [
    "def Jaccard_similarity(doc1, doc2):\n",
    "    doc1 = set(doc1)\n",
    "    doc2 = set(doc2)\n",
    "    return len(doc1 & doc2) / len(doc1 | doc2)"
   ]
  },
  {
   "cell_type": "code",
   "execution_count": 18,
   "metadata": {},
   "outputs": [
    {
     "name": "stdout",
     "output_type": "stream",
     "text": [
      "0.037037037037037035\n"
     ]
    }
   ],
   "source": [
    "scores = []\n",
    "max_index = []\n",
    "for i in range(len(copy['new_contents'])):\n",
    "    score = Jaccard_similarity(keyword_list[4], copy['new_contents'][i])\n",
    "    scores.append(score)\n",
    "\n",
    "print(max(scores))"
   ]
  },
  {
   "cell_type": "code",
   "execution_count": 19,
   "metadata": {},
   "outputs": [
    {
     "data": {
      "text/plain": [
       "56690"
      ]
     },
     "execution_count": 19,
     "metadata": {},
     "output_type": "execute_result"
    }
   ],
   "source": [
    "scores.index(0.037037037037037035)"
   ]
  },
  {
   "cell_type": "markdown",
   "metadata": {},
   "source": [
    "#### (결과) Keyword와 시 내용 "
   ]
  },
  {
   "cell_type": "code",
   "execution_count": 20,
   "metadata": {},
   "outputs": [
    {
     "data": {
      "text/plain": [
       "['케이크',\n",
       " '크림',\n",
       " '컵 (용기)',\n",
       " '초콜릿',\n",
       " 'fragaria × ananassa',\n",
       " '디저트',\n",
       " '커피',\n",
       " '차',\n",
       " '판',\n",
       " '아침 식사',\n",
       " '설탕',\n",
       " '생일',\n",
       " '과자',\n",
       " '식품',\n",
       " '우유',\n",
       " '아름다운',\n",
       " '크림색의',\n",
       " '베이킹',\n",
       " '크래커',\n",
       " '장과']"
      ]
     },
     "execution_count": 20,
     "metadata": {},
     "output_type": "execute_result"
    }
   ],
   "source": [
    "keyword_list[4]"
   ]
  },
  {
   "cell_type": "code",
   "execution_count": 21,
   "metadata": {},
   "outputs": [
    {
     "data": {
      "text/plain": [
       "\"['아침 식사', '상 위에 그릇 가득 담겨 있는', '상쾌한 출렁임', '여기가 내 바다였구나', '날아와 부유하는 나의 은어', '햇빛 오려 접은 배 위에', '그윽한 고동 소리 깃발로 세우고', '가는 곳은 어디나', '따뜻한 항구였구나']\""
      ]
     },
     "execution_count": 21,
     "metadata": {},
     "output_type": "execute_result"
    }
   ],
   "source": [
    "copy['contents'][56690]"
   ]
  },
  {
   "cell_type": "markdown",
   "metadata": {},
   "source": [
    ": 생각보다 비슷한데...??"
   ]
  },
  {
   "cell_type": "code",
   "execution_count": 22,
   "metadata": {},
   "outputs": [
    {
     "name": "stdout",
     "output_type": "stream",
     "text": [
      "0.041666666666666664\n"
     ]
    }
   ],
   "source": [
    "scores = []\n",
    "max_index = []\n",
    "for i in range(len(copy['new_contents'])):\n",
    "    score = Jaccard_similarity(keyword_list[500], copy['new_contents'][i])\n",
    "    scores.append(score)\n",
    "\n",
    "print(max(scores))"
   ]
  },
  {
   "cell_type": "code",
   "execution_count": 23,
   "metadata": {},
   "outputs": [
    {
     "data": {
      "text/plain": [
       "62134"
      ]
     },
     "execution_count": 23,
     "metadata": {},
     "output_type": "execute_result"
    }
   ],
   "source": [
    "scores.index(0.041666666666666664)"
   ]
  },
  {
   "cell_type": "markdown",
   "metadata": {},
   "source": [
    "#### (결과) Keyword와 시 내용 "
   ]
  },
  {
   "cell_type": "code",
   "execution_count": 178,
   "metadata": {},
   "outputs": [
    {
     "data": {
      "text/plain": [
       "['과일',\n",
       " '식품',\n",
       " '크리스마스',\n",
       " '어떤 사람도 없다',\n",
       " 'fragaria × ananassa',\n",
       " '디저트',\n",
       " '초콜릿',\n",
       " '장식 (예술)',\n",
       " '설탕',\n",
       " '아름다운',\n",
       " '장과',\n",
       " '아침 식사',\n",
       " '우유',\n",
       " '크림',\n",
       " '겨울',\n",
       " '정물화',\n",
       " '케이크',\n",
       " '인테리어 장식',\n",
       " '옥내에서',\n",
       " '사탕']"
      ]
     },
     "execution_count": 178,
     "metadata": {},
     "output_type": "execute_result"
    }
   ],
   "source": [
    "keyword_list[500]"
   ]
  },
  {
   "cell_type": "code",
   "execution_count": 24,
   "metadata": {},
   "outputs": [
    {
     "data": {
      "text/plain": [
       "\"['작은 엽서', '겨울', '팽팽한 전깃줄에 멱살을 잡힌 채', '겨우내 몸서리치며 떨고 있는 너', '날아오를 수 없는 헛된 절망이여', '다시 산등성일 타고 눈보라가 달려온다']\""
      ]
     },
     "execution_count": 24,
     "metadata": {},
     "output_type": "execute_result"
    }
   ],
   "source": [
    "copy['contents'][62134]"
   ]
  },
  {
   "cell_type": "markdown",
   "metadata": {},
   "source": [
    ": 이것은 살짝 무리인듯 싶다.."
   ]
  },
  {
   "cell_type": "code",
   "execution_count": null,
   "metadata": {},
   "outputs": [],
   "source": []
  },
  {
   "cell_type": "markdown",
   "metadata": {},
   "source": [
    "### Ex2: Jaccard Similarity"
   ]
  },
  {
   "cell_type": "code",
   "execution_count": 25,
   "metadata": {},
   "outputs": [
    {
     "data": {
      "text/plain": [
       "['하얀', '둥지', '틀고']"
      ]
     },
     "execution_count": 25,
     "metadata": {},
     "output_type": "execute_result"
    }
   ],
   "source": [
    "copy['new_contents'][0][1].split(\" \")"
   ]
  },
  {
   "cell_type": "code",
   "execution_count": 26,
   "metadata": {},
   "outputs": [
    {
     "name": "stdout",
     "output_type": "stream",
     "text": [
      "[['은빛하늘', '하얀', '꿈'], ['하얀', '둥지', '틀고'], ['아장아장', '작은', '설렘'], ['첫눈이', '내린다'], ['소복소복', '너와의'], ['초롱불', '외할머니의'], ['긴', '옛이야기'], ['앞마당', '눈사람'], ['콧수염', '우리할아버지'], ['내가', '그리', '생겼냐']]\n"
     ]
    }
   ],
   "source": [
    "split_contents = []\n",
    "for i in range(len(copy['new_contents'][0])):\n",
    "    split_content = copy['new_contents'][0][i].split(\" \")\n",
    "    split_contents.append(split_content)\n",
    "print(split_contents)"
   ]
  },
  {
   "cell_type": "code",
   "execution_count": 27,
   "metadata": {},
   "outputs": [
    {
     "name": "stderr",
     "output_type": "stream",
     "text": [
      "100%|█████████████████████████████████████████████████████████████████████████| 86963/86963 [00:04<00:00, 20064.68it/s]\n"
     ]
    }
   ],
   "source": [
    "split_contents = []\n",
    "for i in tqdm(range(len(copy['new_contents']))):\n",
    "    split_data = copy['new_contents'][i]\n",
    "    split_content = []\n",
    "    split_contents.append(split_content)\n",
    "    for j in range(len(split_data)):\n",
    "        j = split_data[j].split(\" \")\n",
    "        split_content.append(j)\n",
    "        \n",
    "    "
   ]
  },
  {
   "cell_type": "code",
   "execution_count": 28,
   "metadata": {},
   "outputs": [],
   "source": [
    "split_contents = pd.Series(split_contents)\n",
    "split_contents.name = \"split_contents\""
   ]
  },
  {
   "cell_type": "code",
   "execution_count": 29,
   "metadata": {},
   "outputs": [],
   "source": [
    "copy = pd.concat([copy, split_contents], axis =1)"
   ]
  },
  {
   "cell_type": "code",
   "execution_count": 30,
   "metadata": {},
   "outputs": [
    {
     "name": "stderr",
     "output_type": "stream",
     "text": [
      "  0%|                                                                                        | 0/86963 [00:00<?, ?it/s]c:\\users\\ehj14\\appdata\\local\\programs\\python\\python37\\lib\\site-packages\\ipykernel_launcher.py:2: SettingWithCopyWarning: \n",
      "A value is trying to be set on a copy of a slice from a DataFrame\n",
      "\n",
      "See the caveats in the documentation: http://pandas.pydata.org/pandas-docs/stable/user_guide/indexing.html#returning-a-view-versus-a-copy\n",
      "  \n",
      "100%|███████████████████████████████████████████████████████████████████████████| 86963/86963 [02:37<00:00, 551.70it/s]\n"
     ]
    }
   ],
   "source": [
    "for i in tqdm(range(len(copy))):\n",
    "    copy['split_contents'][i] = sum(copy['split_contents'][i], [])"
   ]
  },
  {
   "cell_type": "code",
   "execution_count": 31,
   "metadata": {},
   "outputs": [
    {
     "name": "stdout",
     "output_type": "stream",
     "text": [
      "0.05555555555555555\n"
     ]
    }
   ],
   "source": [
    "scores = []\n",
    "for i in range(len(copy['split_contents'])):\n",
    "    score = Jaccard_similarity(keyword_list[4], copy['split_contents'][i])\n",
    "    scores.append(score)\n",
    "\n",
    "print(max(scores))"
   ]
  },
  {
   "cell_type": "code",
   "execution_count": 32,
   "metadata": {},
   "outputs": [
    {
     "data": {
      "text/plain": [
       "410"
      ]
     },
     "execution_count": 32,
     "metadata": {},
     "output_type": "execute_result"
    }
   ],
   "source": [
    "scores.index(0.05555555555555555)"
   ]
  },
  {
   "cell_type": "markdown",
   "metadata": {},
   "source": [
    "#### (결과) Keyword와 시 내용 "
   ]
  },
  {
   "cell_type": "code",
   "execution_count": 33,
   "metadata": {},
   "outputs": [
    {
     "data": {
      "text/plain": [
       "['케이크',\n",
       " '크림',\n",
       " '컵 (용기)',\n",
       " '초콜릿',\n",
       " 'fragaria × ananassa',\n",
       " '디저트',\n",
       " '커피',\n",
       " '차',\n",
       " '판',\n",
       " '아침 식사',\n",
       " '설탕',\n",
       " '생일',\n",
       " '과자',\n",
       " '식품',\n",
       " '우유',\n",
       " '아름다운',\n",
       " '크림색의',\n",
       " '베이킹',\n",
       " '크래커',\n",
       " '장과']"
      ]
     },
     "execution_count": 33,
     "metadata": {},
     "output_type": "execute_result"
    }
   ],
   "source": [
    "keyword_list[4]"
   ]
  },
  {
   "cell_type": "code",
   "execution_count": 34,
   "metadata": {},
   "outputs": [
    {
     "data": {
      "text/plain": [
       "\"['나를 훔치는 예쁜 도둑', '음악이 크면 뜨거움으로', '소리 작으면 잔잔함으로', '사발 커피 엄마 생각', '설탕 커피 아버지 생각', '이런 저런', '나를 보는 앙큼한 도둑']\""
      ]
     },
     "execution_count": 34,
     "metadata": {},
     "output_type": "execute_result"
    }
   ],
   "source": [
    "copy['contents'][410]"
   ]
  },
  {
   "cell_type": "markdown",
   "metadata": {},
   "source": [
    ": 위에 것보다 훨씬 더 비슷한거 같은데...?"
   ]
  },
  {
   "cell_type": "markdown",
   "metadata": {},
   "source": [
    "#### (결과) Keyword와 시 내용 "
   ]
  },
  {
   "cell_type": "code",
   "execution_count": 35,
   "metadata": {},
   "outputs": [
    {
     "name": "stdout",
     "output_type": "stream",
     "text": [
      "0.06666666666666667\n"
     ]
    }
   ],
   "source": [
    "scores = []\n",
    "max_index = []\n",
    "for i in range(len(copy['split_contents'])):\n",
    "    score = Jaccard_similarity(keyword_list[500], copy['split_contents'][i])\n",
    "    scores.append(score)\n",
    "\n",
    "print(max(scores))"
   ]
  },
  {
   "cell_type": "code",
   "execution_count": 36,
   "metadata": {},
   "outputs": [
    {
     "data": {
      "text/plain": [
       "63130"
      ]
     },
     "execution_count": 36,
     "metadata": {},
     "output_type": "execute_result"
    }
   ],
   "source": [
    "scores.index(0.06666666666666667)"
   ]
  },
  {
   "cell_type": "code",
   "execution_count": 177,
   "metadata": {},
   "outputs": [
    {
     "data": {
      "text/plain": [
       "['과일',\n",
       " '식품',\n",
       " '크리스마스',\n",
       " '어떤 사람도 없다',\n",
       " 'fragaria × ananassa',\n",
       " '디저트',\n",
       " '초콜릿',\n",
       " '장식 (예술)',\n",
       " '설탕',\n",
       " '아름다운',\n",
       " '장과',\n",
       " '아침 식사',\n",
       " '우유',\n",
       " '크림',\n",
       " '겨울',\n",
       " '정물화',\n",
       " '케이크',\n",
       " '인테리어 장식',\n",
       " '옥내에서',\n",
       " '사탕']"
      ]
     },
     "execution_count": 177,
     "metadata": {},
     "output_type": "execute_result"
    }
   ],
   "source": [
    "keyword_list[500]"
   ]
  },
  {
   "cell_type": "code",
   "execution_count": 37,
   "metadata": {},
   "outputs": [
    {
     "data": {
      "text/plain": [
       "\"['겨울 파도치는 날', '혼자서 홍도를 차지하니', '아름다운 것뿐이다', '아름다운 것 보고 나니', '쓸쓸한 것뿐이다', '쓸쓸한 것 보고 나니', '그리운 것뿐이다']\""
      ]
     },
     "execution_count": 37,
     "metadata": {},
     "output_type": "execute_result"
    }
   ],
   "source": [
    "copy['contents'][63130]"
   ]
  },
  {
   "cell_type": "markdown",
   "metadata": {},
   "source": [
    ": 이것은 대충 끼워맞추면 맞는듯...? "
   ]
  },
  {
   "cell_type": "code",
   "execution_count": null,
   "metadata": {},
   "outputs": [],
   "source": []
  },
  {
   "cell_type": "code",
   "execution_count": null,
   "metadata": {},
   "outputs": [],
   "source": []
  },
  {
   "cell_type": "markdown",
   "metadata": {},
   "source": [
    "### Ex3 : Cossine Similarity"
   ]
  },
  {
   "cell_type": "markdown",
   "metadata": {},
   "source": [
    "#### TF-IDF 사용하기 "
   ]
  },
  {
   "cell_type": "code",
   "execution_count": 38,
   "metadata": {},
   "outputs": [
    {
     "name": "stderr",
     "output_type": "stream",
     "text": [
      "100%|█████████████████████████████████████████████████████████████████████████| 86963/86963 [00:04<00:00, 20035.65it/s]\n"
     ]
    }
   ],
   "source": [
    "str_contents = []\n",
    "for i in tqdm(range(len(copy['split_contents']))):\n",
    "    str_content = \" \".join(copy['split_contents'][i])\n",
    "    str_contents.append(str_content)"
   ]
  },
  {
   "cell_type": "code",
   "execution_count": 39,
   "metadata": {},
   "outputs": [
    {
     "data": {
      "text/plain": [
       "'은빛하늘 하얀 꿈 하얀 둥지 틀고 아장아장 작은 설렘 첫눈이 내린다 소복소복 너와의 초롱불 외할머니의 긴 옛이야기 앞마당 눈사람 콧수염 우리할아버지 내가 그리 생겼냐'"
      ]
     },
     "execution_count": 39,
     "metadata": {},
     "output_type": "execute_result"
    }
   ],
   "source": [
    "str_contents[0]"
   ]
  },
  {
   "cell_type": "code",
   "execution_count": 40,
   "metadata": {},
   "outputs": [],
   "source": [
    "str_contents = pd.Series(str_contents)\n",
    "str_contents.name = \"str_contents\""
   ]
  },
  {
   "cell_type": "code",
   "execution_count": 41,
   "metadata": {},
   "outputs": [],
   "source": [
    "copy = pd.concat([copy, str_contents], axis =1)"
   ]
  },
  {
   "cell_type": "code",
   "execution_count": 42,
   "metadata": {},
   "outputs": [],
   "source": [
    "from sklearn.feature_extraction.text import TfidfVectorizer"
   ]
  },
  {
   "cell_type": "code",
   "execution_count": 43,
   "metadata": {},
   "outputs": [],
   "source": [
    "tfidf_vectorizer = TfidfVectorizer(stop_words='english') # stop_words 바꾸기"
   ]
  },
  {
   "cell_type": "code",
   "execution_count": 44,
   "metadata": {},
   "outputs": [],
   "source": [
    "keywords_str = []\n",
    "for i in range(len(list(keyword_list.values()))):\n",
    "    keyword_str = \" \".join(list(keyword_list.values())[i])\n",
    "    keywords_str.append(keyword_str)"
   ]
  },
  {
   "cell_type": "code",
   "execution_count": 45,
   "metadata": {},
   "outputs": [],
   "source": [
    "all_data =keywords_str"
   ]
  },
  {
   "cell_type": "code",
   "execution_count": 46,
   "metadata": {},
   "outputs": [],
   "source": [
    "for i in range(len(copy['str_contents'])):\n",
    "    all_data.append(copy['str_contents'][i])"
   ]
  },
  {
   "cell_type": "code",
   "execution_count": 47,
   "metadata": {},
   "outputs": [
    {
     "data": {
      "text/plain": [
       "87963"
      ]
     },
     "execution_count": 47,
     "metadata": {},
     "output_type": "execute_result"
    }
   ],
   "source": [
    "len(all_data)"
   ]
  },
  {
   "cell_type": "code",
   "execution_count": 48,
   "metadata": {},
   "outputs": [
    {
     "data": {
      "text/plain": [
       "86963"
      ]
     },
     "execution_count": 48,
     "metadata": {},
     "output_type": "execute_result"
    }
   ],
   "source": [
    "len(copy['split_contents'])"
   ]
  },
  {
   "cell_type": "code",
   "execution_count": 49,
   "metadata": {},
   "outputs": [
    {
     "data": {
      "text/plain": [
       "1000"
      ]
     },
     "execution_count": 49,
     "metadata": {},
     "output_type": "execute_result"
    }
   ],
   "source": [
    "len(all_data) - len(copy['split_contents'])"
   ]
  },
  {
   "cell_type": "code",
   "execution_count": 51,
   "metadata": {},
   "outputs": [],
   "source": [
    "tfidfv_matrix = tfidf_vectorizer.fit_transform(all_data)"
   ]
  },
  {
   "cell_type": "code",
   "execution_count": 52,
   "metadata": {},
   "outputs": [
    {
     "data": {
      "text/plain": [
       "(87963, 556911)"
      ]
     },
     "execution_count": 52,
     "metadata": {},
     "output_type": "execute_result"
    }
   ],
   "source": [
    "tfidfv_matrix.shape"
   ]
  },
  {
   "cell_type": "code",
   "execution_count": 53,
   "metadata": {},
   "outputs": [],
   "source": [
    "keyword_matrix = tfidfv_matrix[:1000]"
   ]
  },
  {
   "cell_type": "code",
   "execution_count": 54,
   "metadata": {},
   "outputs": [],
   "source": [
    "contents_matrix = tfidfv_matrix[1000:]"
   ]
  },
  {
   "cell_type": "code",
   "execution_count": 55,
   "metadata": {},
   "outputs": [
    {
     "data": {
      "text/plain": [
       "(86963, 556911)"
      ]
     },
     "execution_count": 55,
     "metadata": {},
     "output_type": "execute_result"
    }
   ],
   "source": [
    "contents_matrix.shape"
   ]
  },
  {
   "cell_type": "markdown",
   "metadata": {},
   "source": [
    "### Cosine Similiarity "
   ]
  },
  {
   "cell_type": "code",
   "execution_count": 56,
   "metadata": {},
   "outputs": [],
   "source": [
    "from numpy import dot\n",
    "from numpy.linalg import norm\n",
    "import numpy as np"
   ]
  },
  {
   "cell_type": "code",
   "execution_count": 88,
   "metadata": {},
   "outputs": [
    {
     "data": {
      "text/plain": [
       "<1x1 sparse matrix of type '<class 'numpy.float64'>'\n",
       "\twith 1 stored elements in Compressed Sparse Row format>"
      ]
     },
     "execution_count": 88,
     "metadata": {},
     "output_type": "execute_result"
    }
   ],
   "source": [
    "np.array(np.sqrt(dot(keyword_matrix[4], keyword_matrix[4].T))).item()"
   ]
  },
  {
   "cell_type": "code",
   "execution_count": 67,
   "metadata": {},
   "outputs": [
    {
     "data": {
      "text/plain": [
       "<1x1 sparse matrix of type '<class 'numpy.float64'>'\n",
       "\twith 0 stored elements in Compressed Sparse Row format>"
      ]
     },
     "execution_count": 67,
     "metadata": {},
     "output_type": "execute_result"
    }
   ],
   "source": [
    "np.sqrt(dot(keyword_matrix[4], contents_matrix[0].T))"
   ]
  },
  {
   "cell_type": "code",
   "execution_count": 93,
   "metadata": {},
   "outputs": [],
   "source": [
    "def cos_sim(A,B):\n",
    "    d_matrix = dot(A,B.T)\n",
    "    a_matrix = np.sqrt(dot(A,A.T))\n",
    "    b_matrix = np.sqrt(dot(B,B.T))\n",
    "    \n",
    "    result = (d_matrix / (a_matrix * b_matrix))\n",
    "    \n",
    "    return result.item()\n",
    "    \n",
    "    "
   ]
  },
  {
   "cell_type": "code",
   "execution_count": 94,
   "metadata": {},
   "outputs": [
    {
     "name": "stderr",
     "output_type": "stream",
     "text": [
      "100%|████████████████████████████████████████████████████████████████████████████| 86963/86963 [24:31<00:00, 59.09it/s]\n"
     ]
    },
    {
     "name": "stdout",
     "output_type": "stream",
     "text": [
      "0.16504181955431263\n"
     ]
    }
   ],
   "source": [
    "scores = []\n",
    "for i in tqdm(range(86963)):\n",
    "    score = cos_sim(keyword_matrix[4], contents_matrix[i])\n",
    "    scores.append(score)\n",
    "    \n",
    "print(max(scores))"
   ]
  },
  {
   "cell_type": "code",
   "execution_count": 96,
   "metadata": {},
   "outputs": [
    {
     "data": {
      "text/plain": [
       "43404"
      ]
     },
     "execution_count": 96,
     "metadata": {},
     "output_type": "execute_result"
    }
   ],
   "source": [
    "scores.index(0.16504181955431263)"
   ]
  },
  {
   "cell_type": "markdown",
   "metadata": {},
   "source": [
    "#### (결과) Keyword와 시 내용 "
   ]
  },
  {
   "cell_type": "code",
   "execution_count": 98,
   "metadata": {},
   "outputs": [
    {
     "data": {
      "text/plain": [
       "['케이크',\n",
       " '크림',\n",
       " '컵 (용기)',\n",
       " '초콜릿',\n",
       " 'fragaria × ananassa',\n",
       " '디저트',\n",
       " '커피',\n",
       " '차',\n",
       " '판',\n",
       " '아침 식사',\n",
       " '설탕',\n",
       " '생일',\n",
       " '과자',\n",
       " '식품',\n",
       " '우유',\n",
       " '아름다운',\n",
       " '크림색의',\n",
       " '베이킹',\n",
       " '크래커',\n",
       " '장과']"
      ]
     },
     "execution_count": 98,
     "metadata": {},
     "output_type": "execute_result"
    }
   ],
   "source": [
    "keyword_list[4]"
   ]
  },
  {
   "cell_type": "code",
   "execution_count": 97,
   "metadata": {},
   "outputs": [
    {
     "data": {
      "text/plain": [
       "\"['  ', '빈 가지에 대롱대롱', '까치밥 하나', '곧추선 허기', '살째기 다가서면', '돌팍 위에 파삭', '바스러지는 하늘', '이 게시물은 님에 의해  시등록없는 시 올리기으로 부터 이동됨']\""
      ]
     },
     "execution_count": 97,
     "metadata": {},
     "output_type": "execute_result"
    }
   ],
   "source": [
    "copy['contents'][43404]"
   ]
  },
  {
   "cell_type": "markdown",
   "metadata": {},
   "source": [
    ": 결과가 참담하다... 시간도 오래 걸리고 자카드 유사도보다 못한거 같다."
   ]
  },
  {
   "cell_type": "markdown",
   "metadata": {},
   "source": [
    "### TextRank Summariser"
   ]
  },
  {
   "cell_type": "markdown",
   "metadata": {},
   "source": [
    " 쓰기 위해서 한문장 초과해야 한다. '.'으로 구분되어 있어야 한다."
   ]
  },
  {
   "cell_type": "markdown",
   "metadata": {},
   "source": [
    ": 잘 생각해보면 '해당 시의 Keyword'를 추출하여 '이미지의 Keyword'와 비교하는 것은 결국에 유사도 기반의 모델을 하나 더 사용해야한다는 것인데, Jaccard 유사도의 경우, 공통된 값들이 죽어 오히려 정보의 손실이 많이 발생하여 좋지 않은 결과가 발생할 것이다. 또한 '해당 시의 전체 내용을 고려하는 것이 감정적인 부분과 단어들을 모두 포함하여 Key_word 간의 유사도를 더 잘 파악할 수 있을 것이다. 따라서 이 경우 Jaccard 유사도를 배제하는 것이 좋다. "
   ]
  },
  {
   "cell_type": "code",
   "execution_count": 100,
   "metadata": {},
   "outputs": [
    {
     "name": "stdout",
     "output_type": "stream",
     "text": [
      "Requirement already satisfied: gensim in c:\\users\\ehj14\\appdata\\local\\programs\\python\\python37\\lib\\site-packages (3.8.0)\n",
      "Requirement already satisfied: newspaper3k in c:\\users\\ehj14\\appdata\\local\\programs\\python\\python37\\lib\\site-packages (0.2.8)\n",
      "Requirement already satisfied: scipy>=0.18.1 in c:\\users\\ehj14\\appdata\\local\\programs\\python\\python37\\lib\\site-packages (from gensim) (1.3.0)\n",
      "Requirement already satisfied: six>=1.5.0 in c:\\users\\ehj14\\appdata\\local\\programs\\python\\python37\\lib\\site-packages (from gensim) (1.12.0)\n",
      "Requirement already satisfied: smart-open>=1.7.0 in c:\\users\\ehj14\\appdata\\local\\programs\\python\\python37\\lib\\site-packages (from gensim) (1.8.4)\n",
      "Requirement already satisfied: numpy>=1.11.3 in c:\\users\\ehj14\\appdata\\local\\programs\\python\\python37\\lib\\site-packages (from gensim) (1.18.1)\n",
      "Requirement already satisfied: nltk>=3.2.1 in c:\\users\\ehj14\\appdata\\local\\programs\\python\\python37\\lib\\site-packages (from newspaper3k) (3.4.5)\n",
      "Requirement already satisfied: Pillow>=3.3.0 in c:\\users\\ehj14\\appdata\\local\\programs\\python\\python37\\lib\\site-packages (from newspaper3k) (6.1.0)\n",
      "Requirement already satisfied: feedfinder2>=0.0.4 in c:\\users\\ehj14\\appdata\\local\\programs\\python\\python37\\lib\\site-packages (from newspaper3k) (0.0.4)\n",
      "Requirement already satisfied: requests>=2.10.0 in c:\\users\\ehj14\\appdata\\local\\programs\\python\\python37\\lib\\site-packages (from newspaper3k) (2.22.0)\n",
      "Requirement already satisfied: PyYAML>=3.11 in c:\\users\\ehj14\\appdata\\local\\programs\\python\\python37\\lib\\site-packages (from newspaper3k) (5.1.2)\n",
      "Requirement already satisfied: jieba3k>=0.35.1 in c:\\users\\ehj14\\appdata\\local\\programs\\python\\python37\\lib\\site-packages (from newspaper3k) (0.35.1)\n",
      "Requirement already satisfied: lxml>=3.6.0 in c:\\users\\ehj14\\appdata\\local\\programs\\python\\python37\\lib\\site-packages (from newspaper3k) (4.4.2)\n",
      "Requirement already satisfied: python-dateutil>=2.5.3 in c:\\users\\ehj14\\appdata\\local\\programs\\python\\python37\\lib\\site-packages (from newspaper3k) (2.8.0)\n",
      "Requirement already satisfied: cssselect>=0.9.2 in c:\\users\\ehj14\\appdata\\local\\programs\\python\\python37\\lib\\site-packages (from newspaper3k) (1.1.0)\n",
      "Requirement already satisfied: tinysegmenter==0.3 in c:\\users\\ehj14\\appdata\\local\\programs\\python\\python37\\lib\\site-packages (from newspaper3k) (0.3)\n",
      "Requirement already satisfied: tldextract>=2.0.1 in c:\\users\\ehj14\\appdata\\local\\programs\\python\\python37\\lib\\site-packages (from newspaper3k) (2.2.2)\n",
      "Requirement already satisfied: beautifulsoup4>=4.4.1 in c:\\users\\ehj14\\appdata\\local\\programs\\python\\python37\\lib\\site-packages (from newspaper3k) (4.8.0)\n",
      "Requirement already satisfied: feedparser>=5.2.1 in c:\\users\\ehj14\\appdata\\local\\programs\\python\\python37\\lib\\site-packages (from newspaper3k) (5.2.1)\n",
      "Requirement already satisfied: boto3 in c:\\users\\ehj14\\appdata\\local\\programs\\python\\python37\\lib\\site-packages (from smart-open>=1.7.0->gensim) (1.9.221)\n",
      "Requirement already satisfied: boto>=2.32 in c:\\users\\ehj14\\appdata\\local\\programs\\python\\python37\\lib\\site-packages (from smart-open>=1.7.0->gensim) (2.49.0)\n",
      "Requirement already satisfied: urllib3!=1.25.0,!=1.25.1,<1.26,>=1.21.1 in c:\\users\\ehj14\\appdata\\local\\programs\\python\\python37\\lib\\site-packages (from requests>=2.10.0->newspaper3k) (1.25.3)\n",
      "Requirement already satisfied: certifi>=2017.4.17 in c:\\users\\ehj14\\appdata\\local\\programs\\python\\python37\\lib\\site-packages (from requests>=2.10.0->newspaper3k) (2019.6.16)\n",
      "Requirement already satisfied: idna<2.9,>=2.5 in c:\\users\\ehj14\\appdata\\local\\programs\\python\\python37\\lib\\site-packages (from requests>=2.10.0->newspaper3k) (2.8)\n",
      "Requirement already satisfied: chardet<3.1.0,>=3.0.2 in c:\\users\\ehj14\\appdata\\local\\programs\\python\\python37\\lib\\site-packages (from requests>=2.10.0->newspaper3k) (3.0.4)\n",
      "Requirement already satisfied: setuptools in c:\\users\\ehj14\\appdata\\local\\programs\\python\\python37\\lib\\site-packages (from tldextract>=2.0.1->newspaper3k) (41.2.0)\n",
      "Requirement already satisfied: requests-file>=1.4 in c:\\users\\ehj14\\appdata\\local\\programs\\python\\python37\\lib\\site-packages (from tldextract>=2.0.1->newspaper3k) (1.4.3)\n",
      "Requirement already satisfied: soupsieve>=1.2 in c:\\users\\ehj14\\appdata\\local\\programs\\python\\python37\\lib\\site-packages (from beautifulsoup4>=4.4.1->newspaper3k) (1.9.3)\n",
      "Requirement already satisfied: jmespath<1.0.0,>=0.7.1 in c:\\users\\ehj14\\appdata\\local\\programs\\python\\python37\\lib\\site-packages (from boto3->smart-open>=1.7.0->gensim) (0.9.4)\n",
      "Requirement already satisfied: botocore<1.13.0,>=1.12.221 in c:\\users\\ehj14\\appdata\\local\\programs\\python\\python37\\lib\\site-packages (from boto3->smart-open>=1.7.0->gensim) (1.12.221)\n",
      "Requirement already satisfied: s3transfer<0.3.0,>=0.2.0 in c:\\users\\ehj14\\appdata\\local\\programs\\python\\python37\\lib\\site-packages (from boto3->smart-open>=1.7.0->gensim) (0.2.1)\n",
      "Requirement already satisfied: docutils<0.16,>=0.10 in c:\\users\\ehj14\\appdata\\local\\programs\\python\\python37\\lib\\site-packages (from botocore<1.13.0,>=1.12.221->boto3->smart-open>=1.7.0->gensim) (0.15.2)\n"
     ]
    }
   ],
   "source": [
    "!pip install gensim newspaper3k"
   ]
  },
  {
   "cell_type": "code",
   "execution_count": 101,
   "metadata": {},
   "outputs": [],
   "source": [
    "from gensim.summarization.summarizer import summarize\n",
    "from newspaper import Article"
   ]
  },
  {
   "cell_type": "code",
   "execution_count": 107,
   "metadata": {},
   "outputs": [
    {
     "data": {
      "text/html": [
       "<div>\n",
       "<style scoped>\n",
       "    .dataframe tbody tr th:only-of-type {\n",
       "        vertical-align: middle;\n",
       "    }\n",
       "\n",
       "    .dataframe tbody tr th {\n",
       "        vertical-align: top;\n",
       "    }\n",
       "\n",
       "    .dataframe thead th {\n",
       "        text-align: right;\n",
       "    }\n",
       "</style>\n",
       "<table border=\"1\" class=\"dataframe\">\n",
       "  <thead>\n",
       "    <tr style=\"text-align: right;\">\n",
       "      <th></th>\n",
       "      <th>Unnamed: 0</th>\n",
       "      <th>url</th>\n",
       "      <th>title</th>\n",
       "      <th>writer</th>\n",
       "      <th>contents</th>\n",
       "      <th>author</th>\n",
       "      <th>new_contents</th>\n",
       "      <th>split_contents</th>\n",
       "      <th>str_contents</th>\n",
       "    </tr>\n",
       "  </thead>\n",
       "  <tbody>\n",
       "    <tr>\n",
       "      <th>0</th>\n",
       "      <td>0</td>\n",
       "      <td>http://poemlove.co.kr/m/bbs/board.php?bo_table...</td>\n",
       "      <td>동시/첫눈 오는 날.</td>\n",
       "      <td>장수남</td>\n",
       "      <td>['은빛하늘 하얀 꿈', '하얀 둥지 틀고', '아장아장 작은 설렘', '첫눈이 내...</td>\n",
       "      <td>장수남</td>\n",
       "      <td>[은빛하늘 하얀 꿈, 하얀 둥지 틀고, 아장아장 작은 설렘, 첫눈이 내린다, 소복소...</td>\n",
       "      <td>[은빛하늘, 하얀, 꿈, 하얀, 둥지, 틀고, 아장아장, 작은, 설렘, 첫눈이, 내...</td>\n",
       "      <td>은빛하늘 하얀 꿈 하얀 둥지 틀고 아장아장 작은 설렘 첫눈이 내린다 소복소복 너와의...</td>\n",
       "    </tr>\n",
       "    <tr>\n",
       "      <th>1</th>\n",
       "      <td>1</td>\n",
       "      <td>http://poemlove.co.kr/m/bbs/board.php?bo_table...</td>\n",
       "      <td>그리움, 너는</td>\n",
       "      <td>고은영</td>\n",
       "      <td>['비 오는 저 들녘', '눈 내리는 어둑한 골목', '바람부는 환장할 공터', '...</td>\n",
       "      <td>고은영</td>\n",
       "      <td>[비 오는 저 들녘, 눈 내리는 어둑한 골목, 바람부는 환장할 공터, 펄럭이는 깃발...</td>\n",
       "      <td>[비, 오는, 저, 들녘, 눈, 내리는, 어둑한, 골목, 바람부는, 환장할, 공터,...</td>\n",
       "      <td>비 오는 저 들녘 눈 내리는 어둑한 골목 바람부는 환장할 공터 펄럭이는 깃발이여 너...</td>\n",
       "    </tr>\n",
       "    <tr>\n",
       "      <th>2</th>\n",
       "      <td>2</td>\n",
       "      <td>http://poemlove.co.kr/m/bbs/board.php?bo_table...</td>\n",
       "      <td>감잎을 쓸어 모으며</td>\n",
       "      <td>김동기</td>\n",
       "      <td>['가을이란 이름으로', '이 땅에 내려와 나뒹굴던', '빛 짠한 낙엽의 상처를 보...</td>\n",
       "      <td>김동기</td>\n",
       "      <td>[가을이란 이름으로, 이 땅에 내려와 나뒹굴던, 빛 짠한 낙엽의 상처를 보듬어서, ...</td>\n",
       "      <td>[가을이란, 이름으로, 이, 땅에, 내려와, 나뒹굴던, 빛, 짠한, 낙엽의, 상처를...</td>\n",
       "      <td>가을이란 이름으로 이 땅에 내려와 나뒹굴던 빛 짠한 낙엽의 상처를 보듬어서 한쪽 구...</td>\n",
       "    </tr>\n",
       "    <tr>\n",
       "      <th>3</th>\n",
       "      <td>3</td>\n",
       "      <td>http://poemlove.co.kr/m/bbs/board.php?bo_table...</td>\n",
       "      <td>겨울행 열차</td>\n",
       "      <td>임영준</td>\n",
       "      <td>['우리 중에 누가', '홀가분한 왕복표를', '끊을 수 있을까', '돌아오지 못할...</td>\n",
       "      <td>임영준</td>\n",
       "      <td>[우리 중에 누가, 홀가분한 왕복표를, 끊을 수 있을까, 돌아오지 못할 가을을, 예...</td>\n",
       "      <td>[우리, 중에, 누가, 홀가분한, 왕복표를, 끊을, 수, 있을까, 돌아오지, 못할,...</td>\n",
       "      <td>우리 중에 누가 홀가분한 왕복표를 끊을 수 있을까 돌아오지 못할 가을을 예감하고 있...</td>\n",
       "    </tr>\n",
       "    <tr>\n",
       "      <th>4</th>\n",
       "      <td>4</td>\n",
       "      <td>http://poemlove.co.kr/m/bbs/board.php?bo_table...</td>\n",
       "      <td>착각</td>\n",
       "      <td>이남일</td>\n",
       "      <td>['나는 나를 볼 수 없고', '너는 너를 볼 수 없다', '언제나 마주 보아야',...</td>\n",
       "      <td>이남일</td>\n",
       "      <td>[나는 나를 볼 수 없고, 너는 너를 볼 수 없다, 언제나 마주 보아야, 볼 수 있...</td>\n",
       "      <td>[나는, 나를, 볼, 수, 없고, 너는, 너를, 볼, 수, 없다, 언제나, 마주, ...</td>\n",
       "      <td>나는 나를 볼 수 없고 너는 너를 볼 수 없다 언제나 마주 보아야 볼 수 있는 우리...</td>\n",
       "    </tr>\n",
       "  </tbody>\n",
       "</table>\n",
       "</div>"
      ],
      "text/plain": [
       "   Unnamed: 0                                                url        title  \\\n",
       "0           0  http://poemlove.co.kr/m/bbs/board.php?bo_table...  동시/첫눈 오는 날.   \n",
       "1           1  http://poemlove.co.kr/m/bbs/board.php?bo_table...      그리움, 너는   \n",
       "2           2  http://poemlove.co.kr/m/bbs/board.php?bo_table...   감잎을 쓸어 모으며   \n",
       "3           3  http://poemlove.co.kr/m/bbs/board.php?bo_table...       겨울행 열차   \n",
       "4           4  http://poemlove.co.kr/m/bbs/board.php?bo_table...           착각   \n",
       "\n",
       "  writer                                           contents author  \\\n",
       "0    장수남  ['은빛하늘 하얀 꿈', '하얀 둥지 틀고', '아장아장 작은 설렘', '첫눈이 내...    장수남   \n",
       "1    고은영  ['비 오는 저 들녘', '눈 내리는 어둑한 골목', '바람부는 환장할 공터', '...    고은영   \n",
       "2    김동기  ['가을이란 이름으로', '이 땅에 내려와 나뒹굴던', '빛 짠한 낙엽의 상처를 보...    김동기   \n",
       "3    임영준  ['우리 중에 누가', '홀가분한 왕복표를', '끊을 수 있을까', '돌아오지 못할...    임영준   \n",
       "4    이남일  ['나는 나를 볼 수 없고', '너는 너를 볼 수 없다', '언제나 마주 보아야',...    이남일   \n",
       "\n",
       "                                        new_contents  \\\n",
       "0  [은빛하늘 하얀 꿈, 하얀 둥지 틀고, 아장아장 작은 설렘, 첫눈이 내린다, 소복소...   \n",
       "1  [비 오는 저 들녘, 눈 내리는 어둑한 골목, 바람부는 환장할 공터, 펄럭이는 깃발...   \n",
       "2  [가을이란 이름으로, 이 땅에 내려와 나뒹굴던, 빛 짠한 낙엽의 상처를 보듬어서, ...   \n",
       "3  [우리 중에 누가, 홀가분한 왕복표를, 끊을 수 있을까, 돌아오지 못할 가을을, 예...   \n",
       "4  [나는 나를 볼 수 없고, 너는 너를 볼 수 없다, 언제나 마주 보아야, 볼 수 있...   \n",
       "\n",
       "                                      split_contents  \\\n",
       "0  [은빛하늘, 하얀, 꿈, 하얀, 둥지, 틀고, 아장아장, 작은, 설렘, 첫눈이, 내...   \n",
       "1  [비, 오는, 저, 들녘, 눈, 내리는, 어둑한, 골목, 바람부는, 환장할, 공터,...   \n",
       "2  [가을이란, 이름으로, 이, 땅에, 내려와, 나뒹굴던, 빛, 짠한, 낙엽의, 상처를...   \n",
       "3  [우리, 중에, 누가, 홀가분한, 왕복표를, 끊을, 수, 있을까, 돌아오지, 못할,...   \n",
       "4  [나는, 나를, 볼, 수, 없고, 너는, 너를, 볼, 수, 없다, 언제나, 마주, ...   \n",
       "\n",
       "                                        str_contents  \n",
       "0  은빛하늘 하얀 꿈 하얀 둥지 틀고 아장아장 작은 설렘 첫눈이 내린다 소복소복 너와의...  \n",
       "1  비 오는 저 들녘 눈 내리는 어둑한 골목 바람부는 환장할 공터 펄럭이는 깃발이여 너...  \n",
       "2  가을이란 이름으로 이 땅에 내려와 나뒹굴던 빛 짠한 낙엽의 상처를 보듬어서 한쪽 구...  \n",
       "3  우리 중에 누가 홀가분한 왕복표를 끊을 수 있을까 돌아오지 못할 가을을 예감하고 있...  \n",
       "4  나는 나를 볼 수 없고 너는 너를 볼 수 없다 언제나 마주 보아야 볼 수 있는 우리...  "
      ]
     },
     "execution_count": 107,
     "metadata": {},
     "output_type": "execute_result"
    }
   ],
   "source": [
    "copy.head()"
   ]
  },
  {
   "cell_type": "code",
   "execution_count": 112,
   "metadata": {},
   "outputs": [
    {
     "name": "stderr",
     "output_type": "stream",
     "text": [
      "100%|██████████████████████████████████████████████████████████████████████████| 86963/86963 [00:49<00:00, 1767.02it/s]\n"
     ]
    }
   ],
   "source": [
    "dot_contents = []\n",
    "for i in tqdm(range(len(copy['new_contents']))):\n",
    "    dot_content = []\n",
    "    dot_contents.append(dot_content)\n",
    "    for j in range(len(copy['new_contents'][i])):\n",
    "        j = copy['new_contents'][i][j] + \".\"\n",
    "        dot_content.append(j)"
   ]
  },
  {
   "cell_type": "code",
   "execution_count": 114,
   "metadata": {},
   "outputs": [
    {
     "name": "stderr",
     "output_type": "stream",
     "text": [
      "100%|████████████████████████████████████████████████████████████████████████| 86963/86963 [00:00<00:00, 350538.43it/s]\n"
     ]
    }
   ],
   "source": [
    "dot_str_contents = []\n",
    "for i in tqdm(range(len(dot_contents))):\n",
    "    dot_str_content = \" \".join(dot_contents[i])\n",
    "    dot_str_contents.append(dot_str_content)"
   ]
  },
  {
   "cell_type": "code",
   "execution_count": 116,
   "metadata": {},
   "outputs": [],
   "source": [
    "dot_contents = pd.Series(dot_str_contents)\n",
    "dot_contents.name = \"dot_contents\""
   ]
  },
  {
   "cell_type": "code",
   "execution_count": 118,
   "metadata": {},
   "outputs": [],
   "source": [
    "copy = pd.concat([copy, dot_contents], axis =1)"
   ]
  },
  {
   "cell_type": "code",
   "execution_count": 121,
   "metadata": {},
   "outputs": [
    {
     "data": {
      "text/plain": [
       "'은빛하늘 하얀 꿈. 하얀 둥지 틀고. 아장아장 작은 설렘. 첫눈이 내린다. 소복소복 너와의. 초롱불 외할머니의. 긴 옛이야기. 앞마당 눈사람. 콧수염 우리할아버지. 내가 그리 생겼냐.'"
      ]
     },
     "execution_count": 121,
     "metadata": {},
     "output_type": "execute_result"
    }
   ],
   "source": [
    "copy['dot_contents'][0]"
   ]
  },
  {
   "cell_type": "code",
   "execution_count": 142,
   "metadata": {},
   "outputs": [
    {
     "name": "stdout",
     "output_type": "stream",
     "text": [
      "은빛하늘 하얀 꿈.\n",
      "아장아장 작은 설렘.\n",
      "긴 옛이야기.\n"
     ]
    }
   ],
   "source": [
    "print(summarize(copy['dot_contents'][0], word_count=7, ratio=0.5))"
   ]
  },
  {
   "cell_type": "code",
   "execution_count": 144,
   "metadata": {},
   "outputs": [],
   "source": [
    "summary_contents = []\n",
    "for i in range(len(dot_contents)):\n",
    "    try:\n",
    "        summary_content = summarize(dot_contents[i], word_count=7, ratio=0.5)\n",
    "        summary_contents.append(summary_content)\n",
    "    except: # 문장길이가 1개일 때 오류\n",
    "        summary_contents.append(dot_contents[i])"
   ]
  },
  {
   "cell_type": "code",
   "execution_count": 146,
   "metadata": {},
   "outputs": [
    {
     "data": {
      "text/plain": [
       "['아장아장 작은 설렘.\\n초롱불 외할머니의.\\n긴 옛이야기.',\n",
       " '',\n",
       " '바람에 밀리는 낡은 손풍금 같지만.\\n꽃도 받쳐주고 씨앗를 안아주던.',\n",
       " '홀가분한 왕복표를.\\n예감하고 있지는 않은 지.',\n",
       " '']"
      ]
     },
     "execution_count": 146,
     "metadata": {},
     "output_type": "execute_result"
    }
   ],
   "source": [
    "summary_contents[:5]"
   ]
  },
  {
   "cell_type": "code",
   "execution_count": 168,
   "metadata": {},
   "outputs": [
    {
     "name": "stdout",
     "output_type": "stream",
     "text": [
      "\n"
     ]
    }
   ],
   "source": [
    "print(summarize(copy['dot_contents'][1],word_count=, ratio=0.1))"
   ]
  },
  {
   "cell_type": "markdown",
   "metadata": {},
   "source": [
    "#### 정규표현식을 통해 다 날리자!"
   ]
  },
  {
   "cell_type": "code",
   "execution_count": 149,
   "metadata": {},
   "outputs": [
    {
     "data": {
      "text/plain": [
       "'아장아장 작은 설렘초롱불 외할머니의긴 옛이야기'"
      ]
     },
     "execution_count": 149,
     "metadata": {},
     "output_type": "execute_result"
    }
   ],
   "source": [
    "import re\n",
    "text = '아장아장 작은 설렘.\\n초롱불 외할머니의.\\n긴 옛이야기.'\n",
    "re.compile('[^ ㄱ-ㅣ가-힣]+').sub('',text)"
   ]
  },
  {
   "cell_type": "code",
   "execution_count": 154,
   "metadata": {},
   "outputs": [],
   "source": [
    "summaries = []\n",
    "for i in range(len(summary_contents)):\n",
    "    summary = re.compile('[^ ㄱ-ㅣ가-힣]+').sub(' ',summary_contents[i]).strip()\n",
    "    summaries.append(summary)\n",
    "    "
   ]
  },
  {
   "cell_type": "code",
   "execution_count": 170,
   "metadata": {},
   "outputs": [
    {
     "data": {
      "text/plain": [
       "['아장아장 작은 설렘 초롱불 외할머니의 긴 옛이야기',\n",
       " '',\n",
       " '바람에 밀리는 낡은 손풍금 같지만 꽃도 받쳐주고 씨앗를 안아주던',\n",
       " '홀가분한 왕복표를 예감하고 있지는 않은 지',\n",
       " '']"
      ]
     },
     "execution_count": 170,
     "metadata": {},
     "output_type": "execute_result"
    }
   ],
   "source": [
    "summaries[:5]"
   ]
  },
  {
   "cell_type": "code",
   "execution_count": 171,
   "metadata": {},
   "outputs": [],
   "source": [
    "summaries_contents = pd.Series(summaries)\n",
    "summaries_contents.name = \"summaries_contents\""
   ]
  },
  {
   "cell_type": "code",
   "execution_count": 174,
   "metadata": {},
   "outputs": [
    {
     "data": {
      "text/html": [
       "<div>\n",
       "<style scoped>\n",
       "    .dataframe tbody tr th:only-of-type {\n",
       "        vertical-align: middle;\n",
       "    }\n",
       "\n",
       "    .dataframe tbody tr th {\n",
       "        vertical-align: top;\n",
       "    }\n",
       "\n",
       "    .dataframe thead th {\n",
       "        text-align: right;\n",
       "    }\n",
       "</style>\n",
       "<table border=\"1\" class=\"dataframe\">\n",
       "  <thead>\n",
       "    <tr style=\"text-align: right;\">\n",
       "      <th></th>\n",
       "      <th>Unnamed: 0</th>\n",
       "      <th>url</th>\n",
       "      <th>title</th>\n",
       "      <th>writer</th>\n",
       "      <th>contents</th>\n",
       "      <th>author</th>\n",
       "      <th>new_contents</th>\n",
       "      <th>split_contents</th>\n",
       "      <th>str_contents</th>\n",
       "      <th>str_contents</th>\n",
       "      <th>dot_contents</th>\n",
       "      <th>summaries_contents</th>\n",
       "    </tr>\n",
       "  </thead>\n",
       "  <tbody>\n",
       "    <tr>\n",
       "      <th>0</th>\n",
       "      <td>0</td>\n",
       "      <td>http://poemlove.co.kr/m/bbs/board.php?bo_table...</td>\n",
       "      <td>동시/첫눈 오는 날.</td>\n",
       "      <td>장수남</td>\n",
       "      <td>['은빛하늘 하얀 꿈', '하얀 둥지 틀고', '아장아장 작은 설렘', '첫눈이 내...</td>\n",
       "      <td>장수남</td>\n",
       "      <td>[은빛하늘 하얀 꿈, 하얀 둥지 틀고, 아장아장 작은 설렘, 첫눈이 내린다, 소복소...</td>\n",
       "      <td>[은빛하늘, 하얀, 꿈, 하얀, 둥지, 틀고, 아장아장, 작은, 설렘, 첫눈이, 내...</td>\n",
       "      <td>은빛하늘 하얀 꿈 하얀 둥지 틀고 아장아장 작은 설렘 첫눈이 내린다 소복소복 너와의...</td>\n",
       "      <td>은빛하늘 하얀 꿈 하얀 둥지 틀고 아장아장 작은 설렘 첫눈이 내린다 소복소복 너와의...</td>\n",
       "      <td>은빛하늘 하얀 꿈. 하얀 둥지 틀고. 아장아장 작은 설렘. 첫눈이 내린다. 소복소복...</td>\n",
       "      <td>아장아장 작은 설렘 초롱불 외할머니의 긴 옛이야기</td>\n",
       "    </tr>\n",
       "    <tr>\n",
       "      <th>1</th>\n",
       "      <td>1</td>\n",
       "      <td>http://poemlove.co.kr/m/bbs/board.php?bo_table...</td>\n",
       "      <td>그리움, 너는</td>\n",
       "      <td>고은영</td>\n",
       "      <td>['비 오는 저 들녘', '눈 내리는 어둑한 골목', '바람부는 환장할 공터', '...</td>\n",
       "      <td>고은영</td>\n",
       "      <td>[비 오는 저 들녘, 눈 내리는 어둑한 골목, 바람부는 환장할 공터, 펄럭이는 깃발...</td>\n",
       "      <td>[비, 오는, 저, 들녘, 눈, 내리는, 어둑한, 골목, 바람부는, 환장할, 공터,...</td>\n",
       "      <td>비 오는 저 들녘 눈 내리는 어둑한 골목 바람부는 환장할 공터 펄럭이는 깃발이여 너...</td>\n",
       "      <td>비 오는 저 들녘 눈 내리는 어둑한 골목 바람부는 환장할 공터 펄럭이는 깃발이여 너...</td>\n",
       "      <td>비 오는 저 들녘. 눈 내리는 어둑한 골목. 바람부는 환장할 공터. 펄럭이는 깃발이...</td>\n",
       "      <td></td>\n",
       "    </tr>\n",
       "    <tr>\n",
       "      <th>2</th>\n",
       "      <td>2</td>\n",
       "      <td>http://poemlove.co.kr/m/bbs/board.php?bo_table...</td>\n",
       "      <td>감잎을 쓸어 모으며</td>\n",
       "      <td>김동기</td>\n",
       "      <td>['가을이란 이름으로', '이 땅에 내려와 나뒹굴던', '빛 짠한 낙엽의 상처를 보...</td>\n",
       "      <td>김동기</td>\n",
       "      <td>[가을이란 이름으로, 이 땅에 내려와 나뒹굴던, 빛 짠한 낙엽의 상처를 보듬어서, ...</td>\n",
       "      <td>[가을이란, 이름으로, 이, 땅에, 내려와, 나뒹굴던, 빛, 짠한, 낙엽의, 상처를...</td>\n",
       "      <td>가을이란 이름으로 이 땅에 내려와 나뒹굴던 빛 짠한 낙엽의 상처를 보듬어서 한쪽 구...</td>\n",
       "      <td>가을이란 이름으로 이 땅에 내려와 나뒹굴던 빛 짠한 낙엽의 상처를 보듬어서 한쪽 구...</td>\n",
       "      <td>가을이란 이름으로. 이 땅에 내려와 나뒹굴던. 빛 짠한 낙엽의 상처를 보듬어서. 한...</td>\n",
       "      <td>바람에 밀리는 낡은 손풍금 같지만 꽃도 받쳐주고 씨앗를 안아주던</td>\n",
       "    </tr>\n",
       "    <tr>\n",
       "      <th>3</th>\n",
       "      <td>3</td>\n",
       "      <td>http://poemlove.co.kr/m/bbs/board.php?bo_table...</td>\n",
       "      <td>겨울행 열차</td>\n",
       "      <td>임영준</td>\n",
       "      <td>['우리 중에 누가', '홀가분한 왕복표를', '끊을 수 있을까', '돌아오지 못할...</td>\n",
       "      <td>임영준</td>\n",
       "      <td>[우리 중에 누가, 홀가분한 왕복표를, 끊을 수 있을까, 돌아오지 못할 가을을, 예...</td>\n",
       "      <td>[우리, 중에, 누가, 홀가분한, 왕복표를, 끊을, 수, 있을까, 돌아오지, 못할,...</td>\n",
       "      <td>우리 중에 누가 홀가분한 왕복표를 끊을 수 있을까 돌아오지 못할 가을을 예감하고 있...</td>\n",
       "      <td>우리 중에 누가 홀가분한 왕복표를 끊을 수 있을까 돌아오지 못할 가을을 예감하고 있...</td>\n",
       "      <td>우리 중에 누가. 홀가분한 왕복표를. 끊을 수 있을까. 돌아오지 못할 가을을. 예감...</td>\n",
       "      <td>홀가분한 왕복표를 예감하고 있지는 않은 지</td>\n",
       "    </tr>\n",
       "    <tr>\n",
       "      <th>4</th>\n",
       "      <td>4</td>\n",
       "      <td>http://poemlove.co.kr/m/bbs/board.php?bo_table...</td>\n",
       "      <td>착각</td>\n",
       "      <td>이남일</td>\n",
       "      <td>['나는 나를 볼 수 없고', '너는 너를 볼 수 없다', '언제나 마주 보아야',...</td>\n",
       "      <td>이남일</td>\n",
       "      <td>[나는 나를 볼 수 없고, 너는 너를 볼 수 없다, 언제나 마주 보아야, 볼 수 있...</td>\n",
       "      <td>[나는, 나를, 볼, 수, 없고, 너는, 너를, 볼, 수, 없다, 언제나, 마주, ...</td>\n",
       "      <td>나는 나를 볼 수 없고 너는 너를 볼 수 없다 언제나 마주 보아야 볼 수 있는 우리...</td>\n",
       "      <td>나는 나를 볼 수 없고 너는 너를 볼 수 없다 언제나 마주 보아야 볼 수 있는 우리...</td>\n",
       "      <td>나는 나를 볼 수 없고. 너는 너를 볼 수 없다. 언제나 마주 보아야. 볼 수 있는...</td>\n",
       "      <td></td>\n",
       "    </tr>\n",
       "  </tbody>\n",
       "</table>\n",
       "</div>"
      ],
      "text/plain": [
       "   Unnamed: 0                                                url        title  \\\n",
       "0           0  http://poemlove.co.kr/m/bbs/board.php?bo_table...  동시/첫눈 오는 날.   \n",
       "1           1  http://poemlove.co.kr/m/bbs/board.php?bo_table...      그리움, 너는   \n",
       "2           2  http://poemlove.co.kr/m/bbs/board.php?bo_table...   감잎을 쓸어 모으며   \n",
       "3           3  http://poemlove.co.kr/m/bbs/board.php?bo_table...       겨울행 열차   \n",
       "4           4  http://poemlove.co.kr/m/bbs/board.php?bo_table...           착각   \n",
       "\n",
       "  writer                                           contents author  \\\n",
       "0    장수남  ['은빛하늘 하얀 꿈', '하얀 둥지 틀고', '아장아장 작은 설렘', '첫눈이 내...    장수남   \n",
       "1    고은영  ['비 오는 저 들녘', '눈 내리는 어둑한 골목', '바람부는 환장할 공터', '...    고은영   \n",
       "2    김동기  ['가을이란 이름으로', '이 땅에 내려와 나뒹굴던', '빛 짠한 낙엽의 상처를 보...    김동기   \n",
       "3    임영준  ['우리 중에 누가', '홀가분한 왕복표를', '끊을 수 있을까', '돌아오지 못할...    임영준   \n",
       "4    이남일  ['나는 나를 볼 수 없고', '너는 너를 볼 수 없다', '언제나 마주 보아야',...    이남일   \n",
       "\n",
       "                                        new_contents  \\\n",
       "0  [은빛하늘 하얀 꿈, 하얀 둥지 틀고, 아장아장 작은 설렘, 첫눈이 내린다, 소복소...   \n",
       "1  [비 오는 저 들녘, 눈 내리는 어둑한 골목, 바람부는 환장할 공터, 펄럭이는 깃발...   \n",
       "2  [가을이란 이름으로, 이 땅에 내려와 나뒹굴던, 빛 짠한 낙엽의 상처를 보듬어서, ...   \n",
       "3  [우리 중에 누가, 홀가분한 왕복표를, 끊을 수 있을까, 돌아오지 못할 가을을, 예...   \n",
       "4  [나는 나를 볼 수 없고, 너는 너를 볼 수 없다, 언제나 마주 보아야, 볼 수 있...   \n",
       "\n",
       "                                      split_contents  \\\n",
       "0  [은빛하늘, 하얀, 꿈, 하얀, 둥지, 틀고, 아장아장, 작은, 설렘, 첫눈이, 내...   \n",
       "1  [비, 오는, 저, 들녘, 눈, 내리는, 어둑한, 골목, 바람부는, 환장할, 공터,...   \n",
       "2  [가을이란, 이름으로, 이, 땅에, 내려와, 나뒹굴던, 빛, 짠한, 낙엽의, 상처를...   \n",
       "3  [우리, 중에, 누가, 홀가분한, 왕복표를, 끊을, 수, 있을까, 돌아오지, 못할,...   \n",
       "4  [나는, 나를, 볼, 수, 없고, 너는, 너를, 볼, 수, 없다, 언제나, 마주, ...   \n",
       "\n",
       "                                        str_contents  \\\n",
       "0  은빛하늘 하얀 꿈 하얀 둥지 틀고 아장아장 작은 설렘 첫눈이 내린다 소복소복 너와의...   \n",
       "1  비 오는 저 들녘 눈 내리는 어둑한 골목 바람부는 환장할 공터 펄럭이는 깃발이여 너...   \n",
       "2  가을이란 이름으로 이 땅에 내려와 나뒹굴던 빛 짠한 낙엽의 상처를 보듬어서 한쪽 구...   \n",
       "3  우리 중에 누가 홀가분한 왕복표를 끊을 수 있을까 돌아오지 못할 가을을 예감하고 있...   \n",
       "4  나는 나를 볼 수 없고 너는 너를 볼 수 없다 언제나 마주 보아야 볼 수 있는 우리...   \n",
       "\n",
       "                                        str_contents  \\\n",
       "0  은빛하늘 하얀 꿈 하얀 둥지 틀고 아장아장 작은 설렘 첫눈이 내린다 소복소복 너와의...   \n",
       "1  비 오는 저 들녘 눈 내리는 어둑한 골목 바람부는 환장할 공터 펄럭이는 깃발이여 너...   \n",
       "2  가을이란 이름으로 이 땅에 내려와 나뒹굴던 빛 짠한 낙엽의 상처를 보듬어서 한쪽 구...   \n",
       "3  우리 중에 누가 홀가분한 왕복표를 끊을 수 있을까 돌아오지 못할 가을을 예감하고 있...   \n",
       "4  나는 나를 볼 수 없고 너는 너를 볼 수 없다 언제나 마주 보아야 볼 수 있는 우리...   \n",
       "\n",
       "                                        dot_contents  \\\n",
       "0  은빛하늘 하얀 꿈. 하얀 둥지 틀고. 아장아장 작은 설렘. 첫눈이 내린다. 소복소복...   \n",
       "1  비 오는 저 들녘. 눈 내리는 어둑한 골목. 바람부는 환장할 공터. 펄럭이는 깃발이...   \n",
       "2  가을이란 이름으로. 이 땅에 내려와 나뒹굴던. 빛 짠한 낙엽의 상처를 보듬어서. 한...   \n",
       "3  우리 중에 누가. 홀가분한 왕복표를. 끊을 수 있을까. 돌아오지 못할 가을을. 예감...   \n",
       "4  나는 나를 볼 수 없고. 너는 너를 볼 수 없다. 언제나 마주 보아야. 볼 수 있는...   \n",
       "\n",
       "                    summaries_contents  \n",
       "0          아장아장 작은 설렘 초롱불 외할머니의 긴 옛이야기  \n",
       "1                                       \n",
       "2  바람에 밀리는 낡은 손풍금 같지만 꽃도 받쳐주고 씨앗를 안아주던  \n",
       "3              홀가분한 왕복표를 예감하고 있지는 않은 지  \n",
       "4                                       "
      ]
     },
     "execution_count": 174,
     "metadata": {},
     "output_type": "execute_result"
    }
   ],
   "source": [
    "copy.head()"
   ]
  },
  {
   "cell_type": "markdown",
   "metadata": {},
   "source": [
    "#### key_word를 통한 Jaccard Similarity"
   ]
  },
  {
   "cell_type": "code",
   "execution_count": 175,
   "metadata": {},
   "outputs": [],
   "source": [
    "def Jaccard_similarity(doc1, doc2):\n",
    "    doc1 = set(doc1)\n",
    "    doc2 = set(doc2)\n",
    "    return len(doc1 & doc2) / len(doc1 | doc2)"
   ]
  },
  {
   "cell_type": "code",
   "execution_count": null,
   "metadata": {},
   "outputs": [],
   "source": [
    "scores = []\n",
    "max_index = []\n",
    "for i in range(len(copy['new_contents'])):\n",
    "    score = Jaccard_similarity(keyword_list[4], copy['new_contents'][i])\n",
    "    scores.append(score)\n",
    "\n",
    "print(max(scores))"
   ]
  }
 ],
 "metadata": {
  "kernelspec": {
   "display_name": "Python 3",
   "language": "python",
   "name": "python3"
  },
  "language_info": {
   "codemirror_mode": {
    "name": "ipython",
    "version": 3
   },
   "file_extension": ".py",
   "mimetype": "text/x-python",
   "name": "python",
   "nbconvert_exporter": "python",
   "pygments_lexer": "ipython3",
   "version": "3.7.4"
  }
 },
 "nbformat": 4,
 "nbformat_minor": 4
}
