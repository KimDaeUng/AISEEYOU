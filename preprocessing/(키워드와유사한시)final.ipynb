{
 "cells": [
  {
   "cell_type": "code",
   "execution_count": 4,
   "metadata": {},
   "outputs": [],
   "source": [
    "import numpy as np\n",
    "import pandas as pd\n",
    "import pickle\n",
    "import json\n",
    "from tqdm import tqdm"
   ]
  },
  {
   "cell_type": "code",
   "execution_count": 7,
   "metadata": {},
   "outputs": [],
   "source": [
    "with open('final_poem_token.pkl', 'rb') as f:\n",
    "    ctk_pkl = pickle.load(f)"
   ]
  },
  {
   "cell_type": "code",
   "execution_count": 9,
   "metadata": {},
   "outputs": [],
   "source": [
    "data = pd.read_csv(\"final_poem.csv\")"
   ]
  },
  {
   "cell_type": "code",
   "execution_count": 10,
   "metadata": {},
   "outputs": [
    {
     "data": {
      "text/html": [
       "<div>\n",
       "<style scoped>\n",
       "    .dataframe tbody tr th:only-of-type {\n",
       "        vertical-align: middle;\n",
       "    }\n",
       "\n",
       "    .dataframe tbody tr th {\n",
       "        vertical-align: top;\n",
       "    }\n",
       "\n",
       "    .dataframe thead th {\n",
       "        text-align: right;\n",
       "    }\n",
       "</style>\n",
       "<table border=\"1\" class=\"dataframe\">\n",
       "  <thead>\n",
       "    <tr style=\"text-align: right;\">\n",
       "      <th></th>\n",
       "      <th>Unnamed: 0</th>\n",
       "      <th>title</th>\n",
       "      <th>author</th>\n",
       "      <th>contents_re</th>\n",
       "      <th>new_contents</th>\n",
       "    </tr>\n",
       "  </thead>\n",
       "  <tbody>\n",
       "    <tr>\n",
       "      <th>0</th>\n",
       "      <td>0</td>\n",
       "      <td>아주 작은사람</td>\n",
       "      <td>김낙필</td>\n",
       "      <td>['성실함이나 근면함도글쎄', '별로인것 같다', '그져 정직하고 솔직한 삶을 사랑...</td>\n",
       "      <td>[['성실/NNG_', '하/XSA_', 'ㅁ/ETN_', '이나/JC_', '근면...</td>\n",
       "    </tr>\n",
       "    <tr>\n",
       "      <th>1</th>\n",
       "      <td>1</td>\n",
       "      <td>가린다.</td>\n",
       "      <td>정용섭</td>\n",
       "      <td>['무모하게 달린다 첨 부터 그랬다 발길이먼져였지 눈이먼져였던가 눈은 귀가가리고',...</td>\n",
       "      <td>[['무모/NNG_', '하/XSA_', '게/EC_', '달리/VV_', 'ㄴ다/...</td>\n",
       "    </tr>\n",
       "    <tr>\n",
       "      <th>2</th>\n",
       "      <td>2</td>\n",
       "      <td>달을 건지다</td>\n",
       "      <td>배현순</td>\n",
       "      <td>['건지려하니 가시가 노려 본다밧줄을 내려 보낸다', '달을 메야 할 텐데달이 점점...</td>\n",
       "      <td>[['건/VV_', '지/NNG_', '려/EC_', '하/VX_', '니/EC_'...</td>\n",
       "    </tr>\n",
       "    <tr>\n",
       "      <th>3</th>\n",
       "      <td>3</td>\n",
       "      <td>춘분</td>\n",
       "      <td>이성교</td>\n",
       "      <td>['해야 해야 나오너라', '구름 타고물 건느고복빗개 들고나오너라', '구름다리 넘...</td>\n",
       "      <td>[['하/VV_', '여야/EC_', '하/VV_', '여야/EC_', '나오/VV...</td>\n",
       "    </tr>\n",
       "    <tr>\n",
       "      <th>4</th>\n",
       "      <td>4</td>\n",
       "      <td>마음, 마음</td>\n",
       "      <td>김귀녀</td>\n",
       "      <td>['파도처럼 울렁대는 변덕스러운 마음 안에서 난 아무것도 할 수가 없구나', '마른...</td>\n",
       "      <td>[['파도/NNG_', '처럼/JKB_', '울렁대/VV_', '는/ETM_', '...</td>\n",
       "    </tr>\n",
       "  </tbody>\n",
       "</table>\n",
       "</div>"
      ],
      "text/plain": [
       "   Unnamed: 0    title author  \\\n",
       "0           0  아주 작은사람    김낙필   \n",
       "1           1     가린다.    정용섭   \n",
       "2           2   달을 건지다    배현순   \n",
       "3           3       춘분    이성교   \n",
       "4           4   마음, 마음    김귀녀   \n",
       "\n",
       "                                         contents_re  \\\n",
       "0  ['성실함이나 근면함도글쎄', '별로인것 같다', '그져 정직하고 솔직한 삶을 사랑...   \n",
       "1  ['무모하게 달린다 첨 부터 그랬다 발길이먼져였지 눈이먼져였던가 눈은 귀가가리고',...   \n",
       "2  ['건지려하니 가시가 노려 본다밧줄을 내려 보낸다', '달을 메야 할 텐데달이 점점...   \n",
       "3  ['해야 해야 나오너라', '구름 타고물 건느고복빗개 들고나오너라', '구름다리 넘...   \n",
       "4  ['파도처럼 울렁대는 변덕스러운 마음 안에서 난 아무것도 할 수가 없구나', '마른...   \n",
       "\n",
       "                                        new_contents  \n",
       "0  [['성실/NNG_', '하/XSA_', 'ㅁ/ETN_', '이나/JC_', '근면...  \n",
       "1  [['무모/NNG_', '하/XSA_', '게/EC_', '달리/VV_', 'ㄴ다/...  \n",
       "2  [['건/VV_', '지/NNG_', '려/EC_', '하/VX_', '니/EC_'...  \n",
       "3  [['하/VV_', '여야/EC_', '하/VV_', '여야/EC_', '나오/VV...  \n",
       "4  [['파도/NNG_', '처럼/JKB_', '울렁대/VV_', '는/ETM_', '...  "
      ]
     },
     "execution_count": 10,
     "metadata": {},
     "output_type": "execute_result"
    }
   ],
   "source": [
    "data[:5]"
   ]
  },
  {
   "cell_type": "code",
   "execution_count": 11,
   "metadata": {},
   "outputs": [
    {
     "data": {
      "text/plain": [
       "74554"
      ]
     },
     "execution_count": 11,
     "metadata": {},
     "output_type": "execute_result"
    }
   ],
   "source": [
    "len(ctk_pkl)"
   ]
  },
  {
   "cell_type": "code",
   "execution_count": 12,
   "metadata": {},
   "outputs": [],
   "source": [
    "data['new_contents'] = ctk_pkl"
   ]
  },
  {
   "cell_type": "code",
   "execution_count": 13,
   "metadata": {},
   "outputs": [
    {
     "data": {
      "text/plain": [
       "0    [[성실/NNG_, 하/XSA_, ㅁ/ETN_, 이나/JC_, 근면/NNG_, 하/...\n",
       "1    [[무모/NNG_, 하/XSA_, 게/EC_, 달리/VV_, ㄴ다/EC_, 첨/NN...\n",
       "2    [[건/VV_, 지/NNG_, 려/EC_, 하/VX_, 니/EC_, 가시/NNG_,...\n",
       "3    [[하/VV_, 여야/EC_, 하/VV_, 여야/EC_, 나오/VV_, 너라/EC_...\n",
       "4    [[파도/NNG_, 처럼/JKB_, 울렁대/VV_, 는/ETM_, 변덕/NNG_, ...\n",
       "Name: new_contents, dtype: object"
      ]
     },
     "execution_count": 13,
     "metadata": {},
     "output_type": "execute_result"
    }
   ],
   "source": [
    "data['new_contents'][:5]"
   ]
  },
  {
   "cell_type": "code",
   "execution_count": 14,
   "metadata": {},
   "outputs": [],
   "source": [
    "data['new_contents'] = data['new_contents'].apply(lambda i: [y for x in i for y in x])"
   ]
  },
  {
   "cell_type": "code",
   "execution_count": 15,
   "metadata": {},
   "outputs": [],
   "source": [
    "def select_noun_va(x):\n",
    "    new_a = []\n",
    "    for j in tqdm(x):\n",
    "        aa = []\n",
    "        for i in j:        \n",
    "            if 'NNG' in i:\n",
    "                aa.append(i)\n",
    "        new_a.append(aa)\n",
    "    return new_a"
   ]
  },
  {
   "cell_type": "code",
   "execution_count": 16,
   "metadata": {},
   "outputs": [],
   "source": [
    "def only_words(x):\n",
    "    a = []\n",
    "    for i in tqdm(x):\n",
    "        b = []\n",
    "        for j in i:\n",
    "            b.append(j.split('/')[0])\n",
    "        a.append(b)\n",
    "    return a"
   ]
  },
  {
   "cell_type": "code",
   "execution_count": 17,
   "metadata": {},
   "outputs": [],
   "source": [
    "def select_noun_va(x):\n",
    "    new_a = []\n",
    "    for j in tqdm(x):\n",
    "        aa = []\n",
    "        for i in j:        \n",
    "            if 'NNG' in i:\n",
    "                aa.append(i)\n",
    "        new_a.append(aa)\n",
    "    return new_a"
   ]
  },
  {
   "cell_type": "code",
   "execution_count": 18,
   "metadata": {},
   "outputs": [],
   "source": [
    "def only_words(x):\n",
    "    a = []\n",
    "    for i in tqdm(x):\n",
    "        b = []\n",
    "        for j in i:\n",
    "            b.append(j.split('/')[0])\n",
    "        a.append(b)\n",
    "    return a"
   ]
  },
  {
   "cell_type": "code",
   "execution_count": 19,
   "metadata": {},
   "outputs": [],
   "source": [
    "def del_none(x):\n",
    "    d = []\n",
    "    for j in tqdm(x):\n",
    "        c = []\n",
    "        for i in j:\n",
    "            if i == None:\n",
    "                pass\n",
    "            else:\n",
    "                c.append(i)\n",
    "        d.append(c)\n",
    "    return d"
   ]
  },
  {
   "cell_type": "code",
   "execution_count": 20,
   "metadata": {},
   "outputs": [],
   "source": [
    "new_contents = data['new_contents']"
   ]
  },
  {
   "cell_type": "code",
   "execution_count": 21,
   "metadata": {},
   "outputs": [
    {
     "name": "stderr",
     "output_type": "stream",
     "text": [
      "100%|█████████████████████████████████████████████████████████████████████████| 74554/74554 [00:01<00:00, 65069.04it/s]\n"
     ]
    }
   ],
   "source": [
    "new_contents = del_none(new_contents)"
   ]
  },
  {
   "cell_type": "code",
   "execution_count": 22,
   "metadata": {},
   "outputs": [
    {
     "name": "stderr",
     "output_type": "stream",
     "text": [
      "100%|█████████████████████████████████████████████████████████████████████████| 74554/74554 [00:01<00:00, 57286.43it/s]\n"
     ]
    }
   ],
   "source": [
    "new_contents = select_noun_va(new_contents)"
   ]
  },
  {
   "cell_type": "code",
   "execution_count": 23,
   "metadata": {},
   "outputs": [
    {
     "name": "stderr",
     "output_type": "stream",
     "text": [
      "100%|█████████████████████████████████████████████████████████████████████████| 74554/74554 [00:00<00:00, 93554.29it/s]\n"
     ]
    }
   ],
   "source": [
    "new_contents = only_words(new_contents)"
   ]
  },
  {
   "cell_type": "code",
   "execution_count": 24,
   "metadata": {},
   "outputs": [
    {
     "data": {
      "text/plain": [
       "74554"
      ]
     },
     "execution_count": 24,
     "metadata": {},
     "output_type": "execute_result"
    }
   ],
   "source": [
    "len(new_contents)"
   ]
  },
  {
   "cell_type": "code",
   "execution_count": 25,
   "metadata": {},
   "outputs": [
    {
     "data": {
      "text/plain": [
       "['성실',\n",
       " '근면',\n",
       " '도',\n",
       " '로',\n",
       " '정직',\n",
       " '삶',\n",
       " '사랑',\n",
       " '때',\n",
       " '때',\n",
       " '답',\n",
       " '때',\n",
       " '작은사람',\n",
       " '사랑',\n",
       " '안',\n",
       " '키',\n",
       " '사람',\n",
       " '숲']"
      ]
     },
     "execution_count": 25,
     "metadata": {},
     "output_type": "execute_result"
    }
   ],
   "source": [
    "new_contents[0]"
   ]
  },
  {
   "cell_type": "code",
   "execution_count": 29,
   "metadata": {},
   "outputs": [],
   "source": [
    "with open('final_noun_poem.pkl', 'wb') as f:\n",
    "    pickle.dump(new_contents, f)"
   ]
  },
  {
   "cell_type": "code",
   "execution_count": 39,
   "metadata": {},
   "outputs": [
    {
     "name": "stdout",
     "output_type": "stream",
     "text": [
      "---------------------------------------------------------------------------------------------------\n"
     ]
    }
   ],
   "source": [
    "print(\"-\"*99)"
   ]
  },
  {
   "cell_type": "markdown",
   "metadata": {},
   "source": [
    "### Insert poetry into json data"
   ]
  },
  {
   "cell_type": "code",
   "execution_count": 5,
   "metadata": {},
   "outputs": [],
   "source": [
    "with open('final_poem_token.pkl', 'rb') as f:\n",
    "    poem = pickle.load(f)"
   ]
  },
  {
   "cell_type": "code",
   "execution_count": 6,
   "metadata": {},
   "outputs": [
    {
     "data": {
      "text/plain": [
       "[['우리/NP_'],\n",
       " ['멀리/MAG_', '바라보/VV_', '면/EC_', '너무/MAG_', '멀/VA_', '어/EC_'],\n",
       " ['가까이/MAG_', '자주/MAG_', '보/VV_', '면/EC_'],\n",
       " ['귀하/VA_', 'ㄴ/ETM_', '것/NNB_', '도/JX_', '잠깐/MAG_', '잠시/MAG_'],\n",
       " ['둥둥/MAG_', '떠돌/VV_', '는/ETM_']]"
      ]
     },
     "execution_count": 6,
     "metadata": {},
     "output_type": "execute_result"
    }
   ],
   "source": [
    "poem[72871]"
   ]
  },
  {
   "cell_type": "code",
   "execution_count": 45,
   "metadata": {},
   "outputs": [],
   "source": [
    "with open('final_restaurant.json', 'rb') as f:\n",
    "     json_data = json.load(f)"
   ]
  },
  {
   "cell_type": "code",
   "execution_count": 46,
   "metadata": {},
   "outputs": [
    {
     "data": {
      "text/plain": [
       "{'img_name': '1',\n",
       " 'label': 'restaurant',\n",
       " 'keyword': ['이킹',\n",
       "  '과자',\n",
       "  '파이',\n",
       "  '케이크',\n",
       "  '커스터드',\n",
       "  'ᄉ',\n",
       "  '사람',\n",
       "  '아침',\n",
       "  '집',\n",
       "  '설탕',\n",
       "  'ᄀ',\n",
       "  '전문',\n",
       "  '원형',\n",
       "  '조리',\n",
       "  'ᄋ',\n",
       "  '요리',\n",
       "  '디저트',\n",
       "  '빵집',\n",
       "  '식사',\n",
       "  '평면',\n",
       "  '딩',\n",
       "  '과일',\n",
       "  '식품',\n",
       "  '간식']}"
      ]
     },
     "execution_count": 46,
     "metadata": {},
     "output_type": "execute_result"
    }
   ],
   "source": [
    "json_data[0]"
   ]
  },
  {
   "cell_type": "code",
   "execution_count": 49,
   "metadata": {},
   "outputs": [],
   "source": [
    "def Jaccard_similarity(doc1, doc2):\n",
    "    doc1 = set(doc1)\n",
    "    doc2 = set(doc2)\n",
    "    return len(doc1 & doc2) / len(doc1 | doc2)"
   ]
  },
  {
   "cell_type": "code",
   "execution_count": 50,
   "metadata": {},
   "outputs": [],
   "source": [
    "def return_index(keyword_list, poem_list): # json_data의 keyword_list 한 개\n",
    "    scores = []\n",
    "    for i in range(len(poem_list)):\n",
    "        score = Jaccard_similarity(keyword_list, poem_list[i])\n",
    "        scores.append(score)\n",
    "        \n",
    "    index = scores.index(max(scores))\n",
    "\n",
    "    return index"
   ]
  },
  {
   "cell_type": "code",
   "execution_count": 51,
   "metadata": {},
   "outputs": [
    {
     "data": {
      "text/plain": [
       "11136"
      ]
     },
     "execution_count": 51,
     "metadata": {},
     "output_type": "execute_result"
    }
   ],
   "source": [
    "return_index(json_data[3]['keyword'], poem)"
   ]
  },
  {
   "cell_type": "code",
   "execution_count": 53,
   "metadata": {},
   "outputs": [
    {
     "data": {
      "text/plain": [
       "\"['오늘 시 편을 쓰리라', '아침에 일어나 새벽공기를 맞으며', '연구를 거듭한다', '삶은 베팅이라는 생각이 지배적이다', '를 연구하다가', '사람은 누구나 게임을 좋아한다', '경마를 보는 것만으로 속이 시원스럽다', '만원 같은 오늘 산문용지 장을 모아서 종이로', '반장으로 만들어서 장을 만든다', '아니 나의 시집 쪽이면 족하다', '나는 쪽의 시 한권에 만원을 받는다', '동영상 시 편이 포함된다', '두사람이 만나 차를 마시고 식사를 하면 족하다']\""
      ]
     },
     "execution_count": 53,
     "metadata": {},
     "output_type": "execute_result"
    }
   ],
   "source": [
    "data.contents_re[11136]"
   ]
  },
  {
   "cell_type": "code",
   "execution_count": 54,
   "metadata": {},
   "outputs": [
    {
     "name": "stderr",
     "output_type": "stream",
     "text": [
      "100%|██████████████████████████████████████████████████████████████████████████████| 1000/1000 [05:56<00:00,  2.81it/s]\n"
     ]
    }
   ],
   "source": [
    "index_list = []\n",
    "for i in tqdm(range(len(json_data))):\n",
    "    index = return_index(json_data[i]['keyword'], poem)\n",
    "    index_list.append(index)"
   ]
  },
  {
   "cell_type": "code",
   "execution_count": 55,
   "metadata": {},
   "outputs": [],
   "source": [
    "copy5 = index_list"
   ]
  },
  {
   "cell_type": "code",
   "execution_count": 56,
   "metadata": {},
   "outputs": [
    {
     "data": {
      "text/plain": [
       "1000"
      ]
     },
     "execution_count": 56,
     "metadata": {},
     "output_type": "execute_result"
    }
   ],
   "source": [
    "len(copy5)"
   ]
  },
  {
   "cell_type": "code",
   "execution_count": 57,
   "metadata": {},
   "outputs": [
    {
     "data": {
      "text/plain": [
       "222"
      ]
     },
     "execution_count": 57,
     "metadata": {},
     "output_type": "execute_result"
    }
   ],
   "source": [
    "len(set(copy5))"
   ]
  },
  {
   "cell_type": "code",
   "execution_count": 59,
   "metadata": {},
   "outputs": [],
   "source": [
    "text_list = []\n",
    "for i in copy5:\n",
    "    text_list.append(data.contents_re[i])"
   ]
  },
  {
   "cell_type": "code",
   "execution_count": 97,
   "metadata": {},
   "outputs": [
    {
     "data": {
      "text/plain": [
       "\"['속을 가만히 들여다 본 아침 길을 만들기 위하여 흙을 파', '이 주신 강물을 해칠까봐 흙을 도로 담아 하늘까지', '끌어 올려 이 숲을 살리고', '가재 한마리 죽을빠봐 타는 가슴을 찍어 그대로 보존하고', '혹이나 마음이', '아픈 사람이', '있을까봐 아무도 없는', '아픈 시간에 줏어 모아', '한 걸음도', '한 마리의 양도', '해치지 않는 바다', '물 만들어', '식사에 오른 체소를 그대로', '먹을수 있는', '과일을 그대로', '까지 않은채', '그대로 먹을 수 있나요']\""
      ]
     },
     "execution_count": 97,
     "metadata": {},
     "output_type": "execute_result"
    }
   ],
   "source": [
    "text_list[470]"
   ]
  },
  {
   "cell_type": "code",
   "execution_count": 98,
   "metadata": {},
   "outputs": [
    {
     "data": {
      "text/plain": [
       "['케이크',\n",
       " '우유',\n",
       " '테이블',\n",
       " '제품',\n",
       " '차',\n",
       " 'ᄉ',\n",
       " '가구',\n",
       " '주방',\n",
       " '커피',\n",
       " '사람',\n",
       " '아침',\n",
       " '기구',\n",
       " '컵',\n",
       " '설탕',\n",
       " 'ᄀ',\n",
       " '판',\n",
       " '양',\n",
       " 'ᄃ',\n",
       " 'ᄋ',\n",
       " '디저트',\n",
       " '크림',\n",
       " '식사',\n",
       " '한잔',\n",
       " 'ᄄ',\n",
       " '초콜릿',\n",
       " '낙농',\n",
       " '과일',\n",
       " '식품',\n",
       " '새벽']"
      ]
     },
     "execution_count": 98,
     "metadata": {},
     "output_type": "execute_result"
    }
   ],
   "source": [
    "json_data[470]['keyword']"
   ]
  },
  {
   "cell_type": "code",
   "execution_count": null,
   "metadata": {},
   "outputs": [],
   "source": []
  }
 ],
 "metadata": {
  "kernelspec": {
   "display_name": "Python 3",
   "language": "python",
   "name": "python3"
  },
  "language_info": {
   "codemirror_mode": {
    "name": "ipython",
    "version": 3
   },
   "file_extension": ".py",
   "mimetype": "text/x-python",
   "name": "python",
   "nbconvert_exporter": "python",
   "pygments_lexer": "ipython3",
   "version": "3.7.4"
  }
 },
 "nbformat": 4,
 "nbformat_minor": 4
}
