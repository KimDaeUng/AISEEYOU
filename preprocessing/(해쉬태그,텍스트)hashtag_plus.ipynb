{
 "cells": [
  {
   "cell_type": "code",
   "execution_count": 1,
   "metadata": {},
   "outputs": [],
   "source": [
    "import numpy as np\n",
    "import pandas as pd\n",
    "import pickle\n",
    "from tqdm import tqdm"
   ]
  },
  {
   "cell_type": "code",
   "execution_count": 2,
   "metadata": {},
   "outputs": [],
   "source": [
    "with open('ctk_filter_6.pkl', 'rb') as f:\n",
    "    ctk_pkl = pickle.load(f)"
   ]
  },
  {
   "cell_type": "code",
   "execution_count": 3,
   "metadata": {},
   "outputs": [],
   "source": [
    "data = pd.read_csv(\"data.csv\")"
   ]
  },
  {
   "cell_type": "code",
   "execution_count": 4,
   "metadata": {},
   "outputs": [
    {
     "data": {
      "text/html": [
       "<div>\n",
       "<style scoped>\n",
       "    .dataframe tbody tr th:only-of-type {\n",
       "        vertical-align: middle;\n",
       "    }\n",
       "\n",
       "    .dataframe tbody tr th {\n",
       "        vertical-align: top;\n",
       "    }\n",
       "\n",
       "    .dataframe thead th {\n",
       "        text-align: right;\n",
       "    }\n",
       "</style>\n",
       "<table border=\"1\" class=\"dataframe\">\n",
       "  <thead>\n",
       "    <tr style=\"text-align: right;\">\n",
       "      <th></th>\n",
       "      <th>Unnamed: 0</th>\n",
       "      <th>url</th>\n",
       "      <th>title</th>\n",
       "      <th>writer</th>\n",
       "      <th>contents</th>\n",
       "      <th>author</th>\n",
       "    </tr>\n",
       "  </thead>\n",
       "  <tbody>\n",
       "    <tr>\n",
       "      <th>0</th>\n",
       "      <td>0</td>\n",
       "      <td>http://poemlove.co.kr/m/bbs/board.php?bo_table...</td>\n",
       "      <td>동시/첫눈 오는 날.</td>\n",
       "      <td>장수남</td>\n",
       "      <td>['은빛하늘 하얀 꿈', '하얀 둥지 틀고', '아장아장 작은 설렘', '첫눈이 내...</td>\n",
       "      <td>장수남</td>\n",
       "    </tr>\n",
       "    <tr>\n",
       "      <th>1</th>\n",
       "      <td>1</td>\n",
       "      <td>http://poemlove.co.kr/m/bbs/board.php?bo_table...</td>\n",
       "      <td>그리움, 너는</td>\n",
       "      <td>고은영</td>\n",
       "      <td>['비 오는 저 들녘', '눈 내리는 어둑한 골목', '바람부는 환장할 공터', '...</td>\n",
       "      <td>고은영</td>\n",
       "    </tr>\n",
       "    <tr>\n",
       "      <th>2</th>\n",
       "      <td>2</td>\n",
       "      <td>http://poemlove.co.kr/m/bbs/board.php?bo_table...</td>\n",
       "      <td>감잎을 쓸어 모으며</td>\n",
       "      <td>김동기</td>\n",
       "      <td>['가을이란 이름으로', '이 땅에 내려와 나뒹굴던', '빛 짠한 낙엽의 상처를 보...</td>\n",
       "      <td>김동기</td>\n",
       "    </tr>\n",
       "    <tr>\n",
       "      <th>3</th>\n",
       "      <td>3</td>\n",
       "      <td>http://poemlove.co.kr/m/bbs/board.php?bo_table...</td>\n",
       "      <td>겨울행 열차</td>\n",
       "      <td>임영준</td>\n",
       "      <td>['우리 중에 누가', '홀가분한 왕복표를', '끊을 수 있을까', '돌아오지 못할...</td>\n",
       "      <td>임영준</td>\n",
       "    </tr>\n",
       "    <tr>\n",
       "      <th>4</th>\n",
       "      <td>4</td>\n",
       "      <td>http://poemlove.co.kr/m/bbs/board.php?bo_table...</td>\n",
       "      <td>착각</td>\n",
       "      <td>이남일</td>\n",
       "      <td>['나는 나를 볼 수 없고', '너는 너를 볼 수 없다', '언제나 마주 보아야',...</td>\n",
       "      <td>이남일</td>\n",
       "    </tr>\n",
       "  </tbody>\n",
       "</table>\n",
       "</div>"
      ],
      "text/plain": [
       "   Unnamed: 0                                                url        title  \\\n",
       "0           0  http://poemlove.co.kr/m/bbs/board.php?bo_table...  동시/첫눈 오는 날.   \n",
       "1           1  http://poemlove.co.kr/m/bbs/board.php?bo_table...      그리움, 너는   \n",
       "2           2  http://poemlove.co.kr/m/bbs/board.php?bo_table...   감잎을 쓸어 모으며   \n",
       "3           3  http://poemlove.co.kr/m/bbs/board.php?bo_table...       겨울행 열차   \n",
       "4           4  http://poemlove.co.kr/m/bbs/board.php?bo_table...           착각   \n",
       "\n",
       "  writer                                           contents author  \n",
       "0    장수남  ['은빛하늘 하얀 꿈', '하얀 둥지 틀고', '아장아장 작은 설렘', '첫눈이 내...    장수남  \n",
       "1    고은영  ['비 오는 저 들녘', '눈 내리는 어둑한 골목', '바람부는 환장할 공터', '...    고은영  \n",
       "2    김동기  ['가을이란 이름으로', '이 땅에 내려와 나뒹굴던', '빛 짠한 낙엽의 상처를 보...    김동기  \n",
       "3    임영준  ['우리 중에 누가', '홀가분한 왕복표를', '끊을 수 있을까', '돌아오지 못할...    임영준  \n",
       "4    이남일  ['나는 나를 볼 수 없고', '너는 너를 볼 수 없다', '언제나 마주 보아야',...    이남일  "
      ]
     },
     "execution_count": 4,
     "metadata": {},
     "output_type": "execute_result"
    }
   ],
   "source": [
    "data[:5]"
   ]
  },
  {
   "cell_type": "code",
   "execution_count": 5,
   "metadata": {},
   "outputs": [
    {
     "data": {
      "text/plain": [
       "[['은빛/NNG_', '하늘/MAG_', '하얗/VA_', 'ㄴ/ETM_', '꿈/NNG_'],\n",
       " ['하얗/VA_', 'ㄴ/ETM_', '둥지/NNG_', '틀/VV_', '고/EC_'],\n",
       " ['아장아장/MAG_', '작/VA_', '은/ETM_', '설/NNP_', '레/VV_', 'ㅁ/ETN_'],\n",
       " ['첫눈/NNG_', '이/JKS_', '내리/VV_', 'ㄴ다/EC_'],\n",
       " ['소복/NNG_', '소복/NNG_', '너/NP_', '와/JKB_', '의/JKG_'],\n",
       " ['초롱불/NNG_', '외할머니/NNG_', '의/JKG_'],\n",
       " ['길/VA_', 'ㄴ/ETM_', '옛/MM_', '이야기/NNG_'],\n",
       " ['앞마당/NNG_', '눈사람/NNG_'],\n",
       " ['콧수염/NNG_', '우리/NP_', '할아버지/NNG_'],\n",
       " ['내/NP_', '가/JKS_', '그리/MAG_', '생기/VV_', '었/EP_', '냐/EC_'],\n",
       " ['추억/NNG_', '하/XSV_', '나/EC_', '그립/VA_', '다/EC_']]"
      ]
     },
     "execution_count": 5,
     "metadata": {},
     "output_type": "execute_result"
    }
   ],
   "source": [
    "ctk_pkl[0]"
   ]
  },
  {
   "cell_type": "code",
   "execution_count": 6,
   "metadata": {},
   "outputs": [],
   "source": [
    "data['new_contents'] = ctk_pkl"
   ]
  },
  {
   "cell_type": "code",
   "execution_count": 7,
   "metadata": {
    "scrolled": true
   },
   "outputs": [],
   "source": [
    "data['new_contents'] = data['new_contents'].apply(lambda i: [y for x in i for y in x])"
   ]
  },
  {
   "cell_type": "code",
   "execution_count": 8,
   "metadata": {},
   "outputs": [],
   "source": [
    "with open('restaurant_keyword_token.pkl', 'rb') as f:\n",
    "    restaurant_keyword_token = pickle.load(f)\n",
    "with open('tower_keyword_token.pkl', 'rb') as f:\n",
    "    tower_keyword_token = pickle.load(f)"
   ]
  },
  {
   "cell_type": "code",
   "execution_count": 9,
   "metadata": {},
   "outputs": [
    {
     "data": {
      "text/plain": [
       "[['디저트/NNG_'],\n",
       " ['식품/NNG_'],\n",
       " ['케이크/NNG_'],\n",
       " ['파이/NNG_'],\n",
       " ['원형/NNG_', '(/SS_', '평면/NNG_', ')/SS_'],\n",
       " ['과자/NNG_'],\n",
       " ['집/NNG_', '에서/JKB_', '만들/VV_', 'ㄴ/ETM_'],\n",
       " ['어떤/MM_', '사람/NNG_', '도/JX_', '없/VA_', '다/EC_'],\n",
       " ['아름답/VA_', 'ㄴ/ETM_'],\n",
       " ['설탕/NNG_'],\n",
       " ['과일/NNG_'],\n",
       " ['커스터드/NNG_'],\n",
       " ['베/NNP_', '이킹/NNG_'],\n",
       " ['간식/NNG_'],\n",
       " ['빵집/NNG_'],\n",
       " ['아침/NNG_', '식사/NNG_'],\n",
       " ['식사/NNG_'],\n",
       " ['조리/NNG_'],\n",
       " ['푸/NNP_', '딩/NNG_'],\n",
       " ['요리/NNG_', '전문/NNG_']]"
      ]
     },
     "execution_count": 9,
     "metadata": {},
     "output_type": "execute_result"
    }
   ],
   "source": [
    "restaurant_keyword_token[0]"
   ]
  },
  {
   "cell_type": "code",
   "execution_count": 10,
   "metadata": {},
   "outputs": [],
   "source": [
    "a = []\n",
    "b = []\n",
    "for i in restaurant_keyword_token:\n",
    "    a.append([y for x in i for y in x])\n",
    "for i in tower_keyword_token:\n",
    "    b.append([y for x in i for y in x])"
   ]
  },
  {
   "cell_type": "code",
   "execution_count": 11,
   "metadata": {
    "scrolled": true
   },
   "outputs": [],
   "source": [
    "def select_noun_va(x):\n",
    "    new_a = []\n",
    "    for j in tqdm(x):\n",
    "        aa = []\n",
    "        for i in j:        \n",
    "            if 'NNG' in i:\n",
    "                aa.append(i)\n",
    "        new_a.append(aa)\n",
    "    return new_a"
   ]
  },
  {
   "cell_type": "code",
   "execution_count": 12,
   "metadata": {},
   "outputs": [],
   "source": [
    "def only_words(x):\n",
    "    a = []\n",
    "    for i in tqdm(x):\n",
    "        b = []\n",
    "        for j in i:\n",
    "            b.append(j.split('/')[0])\n",
    "        a.append(b)\n",
    "    return a"
   ]
  },
  {
   "cell_type": "code",
   "execution_count": 13,
   "metadata": {
    "scrolled": true
   },
   "outputs": [],
   "source": [
    "def del_none(x):\n",
    "    d = []\n",
    "    for j in tqdm(x):\n",
    "        c = []\n",
    "        for i in j:\n",
    "            if i == None:\n",
    "                pass\n",
    "            else:\n",
    "                c.append(i)\n",
    "        d.append(c)\n",
    "    return d"
   ]
  },
  {
   "cell_type": "code",
   "execution_count": 14,
   "metadata": {},
   "outputs": [],
   "source": [
    "def Jaccard_similarity(doc1, doc2):\n",
    "    doc1 = set(doc1)\n",
    "    doc2 = set(doc2)\n",
    "    return len(doc1 & doc2) / len(doc1 | doc2)"
   ]
  },
  {
   "cell_type": "code",
   "execution_count": 15,
   "metadata": {},
   "outputs": [],
   "source": [
    "new_contents = data['new_contents']"
   ]
  },
  {
   "cell_type": "code",
   "execution_count": 16,
   "metadata": {},
   "outputs": [
    {
     "name": "stderr",
     "output_type": "stream",
     "text": [
      "100%|█████████████████████████████████████████████████████████████████████████| 86963/86963 [00:01<00:00, 51530.44it/s]\n"
     ]
    }
   ],
   "source": [
    "new_contents = del_none(new_contents)"
   ]
  },
  {
   "cell_type": "code",
   "execution_count": 17,
   "metadata": {},
   "outputs": [
    {
     "name": "stderr",
     "output_type": "stream",
     "text": [
      "100%|██████████████████████████████████████████████████████████████████████████| 1000/1000 [00:00<00:00, 100272.63it/s]\n",
      "100%|██████████████████████████████████████████████████████████████████████████| 1000/1000 [00:00<00:00, 143223.63it/s]\n",
      "100%|█████████████████████████████████████████████████████████████████████████| 86963/86963 [00:01<00:00, 86585.43it/s]\n"
     ]
    }
   ],
   "source": [
    "new_a = select_noun_va(a)\n",
    "new_b = select_noun_va(b)\n",
    "new_contents = select_noun_va(new_contents)"
   ]
  },
  {
   "cell_type": "code",
   "execution_count": 18,
   "metadata": {
    "scrolled": true
   },
   "outputs": [
    {
     "name": "stderr",
     "output_type": "stream",
     "text": [
      "100%|███████████████████████████████████████████████████████████████████████████| 1000/1000 [00:00<00:00, 86482.28it/s]\n",
      "100%|██████████████████████████████████████████████████████████████████████████| 1000/1000 [00:00<00:00, 100296.61it/s]\n",
      "100%|█████████████████████████████████████████████████████████████████████████| 86963/86963 [00:01<00:00, 62780.83it/s]\n"
     ]
    }
   ],
   "source": [
    "new_a = only_words(new_a)\n",
    "new_b = only_words(new_b)\n",
    "new_contents = only_words(new_contents)"
   ]
  },
  {
   "cell_type": "code",
   "execution_count": 19,
   "metadata": {},
   "outputs": [
    {
     "data": {
      "text/plain": [
       "86963"
      ]
     },
     "execution_count": 19,
     "metadata": {},
     "output_type": "execute_result"
    }
   ],
   "source": [
    "len(new_contents)"
   ]
  },
  {
   "cell_type": "code",
   "execution_count": 20,
   "metadata": {},
   "outputs": [
    {
     "name": "stdout",
     "output_type": "stream",
     "text": [
      "0.11363636363636363\n"
     ]
    }
   ],
   "source": [
    "scores = []\n",
    "max_index = []\n",
    "for i in range(len(new_contents)):\n",
    "    score = Jaccard_similarity(new_a[15], new_contents[i])\n",
    "    scores.append(score)\n",
    "\n",
    "print(max(scores))"
   ]
  },
  {
   "cell_type": "code",
   "execution_count": 21,
   "metadata": {},
   "outputs": [
    {
     "data": {
      "text/plain": [
       "788"
      ]
     },
     "execution_count": 21,
     "metadata": {},
     "output_type": "execute_result"
    }
   ],
   "source": [
    "scores.index(0.11363636363636363)"
   ]
  },
  {
   "cell_type": "markdown",
   "metadata": {},
   "source": [
    "#### (결과) Keyword와 시 내용 "
   ]
  },
  {
   "cell_type": "code",
   "execution_count": 22,
   "metadata": {
    "scrolled": true
   },
   "outputs": [
    {
     "data": {
      "text/plain": [
       "['아침',\n",
       " '식사',\n",
       " '새벽',\n",
       " '사람',\n",
       " '차',\n",
       " '커피',\n",
       " '컵',\n",
       " '인기',\n",
       " '정물',\n",
       " '한잔',\n",
       " '식품',\n",
       " '숟가락',\n",
       " '건강',\n",
       " '미각',\n",
       " '계란',\n",
       " '생물학',\n",
       " '설탕',\n",
       " '조리',\n",
       " '받침',\n",
       " '접시',\n",
       " '영양',\n",
       " '재료']"
      ]
     },
     "execution_count": 22,
     "metadata": {},
     "output_type": "execute_result"
    }
   ],
   "source": [
    "new_a[15]"
   ]
  },
  {
   "cell_type": "code",
   "execution_count": 23,
   "metadata": {
    "scrolled": true
   },
   "outputs": [
    {
     "data": {
      "text/plain": [
       "\"['오늘 시 편을 쓰리라', '아침에 일어나 새벽공기를 맞으며', '연구를 거듭한다', '삶은 베팅이라는 생각이 지배적이다', ' 를 연구하다가', '사람은 누구나 게임을 좋아한다', '경마를 보는 것만으로 속이 시원스럽다', '만원 같은 오늘 산문용지 장을 모아서 종이로', ' 반장으로 만들어서 장을 만든다', '아니 나의 시집 쪽이면 족하다', '나는 쪽의 시 한권에 만원을 받는다', '동영상 시 편이 포함된다', '두사람이 만나 차를 마시고 식사를 하면 족하다']\""
      ]
     },
     "execution_count": 23,
     "metadata": {},
     "output_type": "execute_result"
    }
   ],
   "source": [
    "data.contents[788]"
   ]
  },
  {
   "cell_type": "code",
   "execution_count": null,
   "metadata": {},
   "outputs": [],
   "source": []
  },
  {
   "cell_type": "code",
   "execution_count": 24,
   "metadata": {},
   "outputs": [
    {
     "name": "stdout",
     "output_type": "stream",
     "text": [
      "--------------------------------------------------------------------------------\n"
     ]
    }
   ],
   "source": [
    "print('-'*80)"
   ]
  },
  {
   "cell_type": "markdown",
   "metadata": {},
   "source": [
    "### Hashtag -> Keyword"
   ]
  },
  {
   "cell_type": "code",
   "execution_count": 25,
   "metadata": {},
   "outputs": [],
   "source": [
    "import json\n",
    "import pickle"
   ]
  },
  {
   "cell_type": "markdown",
   "metadata": {},
   "source": [
    "#### 1) restaurant"
   ]
  },
  {
   "cell_type": "code",
   "execution_count": 26,
   "metadata": {},
   "outputs": [],
   "source": [
    "file_path = 'C:/Users/ehj14/Desktop/TOBIGS/1year/project/Korean-Tourist-Spot-Dataset-master/data/kts/resized/person-made/restaurant/restaurant.json'"
   ]
  },
  {
   "cell_type": "code",
   "execution_count": 27,
   "metadata": {},
   "outputs": [],
   "source": [
    "with open(file_path, 'rb') as f:\n",
    "    orig_restaurant = json.load(f)"
   ]
  },
  {
   "cell_type": "code",
   "execution_count": 28,
   "metadata": {},
   "outputs": [
    {
     "data": {
      "text/plain": [
       "{'img_name': '1',\n",
       " 'label': 'restaurant',\n",
       " 'likes': '55',\n",
       " 'text': '열려있어요',\n",
       " 'hashtag': ['#간식', '#쉐아라']}"
      ]
     },
     "execution_count": 28,
     "metadata": {},
     "output_type": "execute_result"
    }
   ],
   "source": [
    "orig_restaurant[0]"
   ]
  },
  {
   "cell_type": "code",
   "execution_count": 29,
   "metadata": {},
   "outputs": [],
   "source": [
    "with open('restaurant_keyword.pkl', 'rb') as f:\n",
    "    key_restaurant = pickle.load(f)"
   ]
  },
  {
   "cell_type": "code",
   "execution_count": 30,
   "metadata": {},
   "outputs": [
    {
     "name": "stderr",
     "output_type": "stream",
     "text": [
      "100%|██████████████████████████████████████████████████████████████████████████| 1000/1000 [00:00<00:00, 334234.12it/s]\n"
     ]
    }
   ],
   "source": [
    "for i in tqdm(range(len(key_restaurant))):\n",
    "    orig_restaurant[i]['keyword'] = 0\n",
    "    orig_restaurant[i]['keyword'] = key_restaurant[i+1]"
   ]
  },
  {
   "cell_type": "code",
   "execution_count": 31,
   "metadata": {},
   "outputs": [
    {
     "data": {
      "text/plain": [
       "{'img_name': '1',\n",
       " 'label': 'restaurant',\n",
       " 'likes': '55',\n",
       " 'text': '열려있어요',\n",
       " 'hashtag': ['#간식', '#쉐아라'],\n",
       " 'keyword': ['디저트',\n",
       "  '식품',\n",
       "  '케이크',\n",
       "  '파이',\n",
       "  '원형 (평면)',\n",
       "  '과자',\n",
       "  '집에서 만든',\n",
       "  '어떤 사람도 없다',\n",
       "  '아름다운',\n",
       "  '설탕',\n",
       "  '과일',\n",
       "  '커스터드',\n",
       "  '베이킹',\n",
       "  '간식',\n",
       "  '빵집',\n",
       "  '아침 식사',\n",
       "  '식사',\n",
       "  '조리',\n",
       "  '푸딩',\n",
       "  '요리 전문']}"
      ]
     },
     "execution_count": 31,
     "metadata": {},
     "output_type": "execute_result"
    }
   ],
   "source": [
    "orig_restaurant[0]"
   ]
  },
  {
   "cell_type": "code",
   "execution_count": null,
   "metadata": {},
   "outputs": [],
   "source": []
  },
  {
   "cell_type": "code",
   "execution_count": 32,
   "metadata": {},
   "outputs": [
    {
     "name": "stderr",
     "output_type": "stream",
     "text": [
      "100%|███████████████████████████████████████████████████████████████████████████| 1000/1000 [00:00<00:00, 76965.36it/s]\n"
     ]
    }
   ],
   "source": [
    "hashtag_list = []\n",
    "\n",
    "for i in tqdm(range(len(orig_restaurant))):\n",
    "\n",
    "        hashtag = []\n",
    "        hashtag_list.append(hashtag)\n",
    "        for j in range(len(orig_restaurant[i]['hashtag'])):\n",
    "            word = orig_restaurant[i]['hashtag'][j][1:]\n",
    "            hashtag.append(word)\n",
    "            "
   ]
  },
  {
   "cell_type": "code",
   "execution_count": 33,
   "metadata": {},
   "outputs": [
    {
     "data": {
      "text/plain": [
       "1000"
      ]
     },
     "execution_count": 33,
     "metadata": {},
     "output_type": "execute_result"
    }
   ],
   "source": [
    "len(hashtag_list)"
   ]
  },
  {
   "cell_type": "code",
   "execution_count": 34,
   "metadata": {},
   "outputs": [
    {
     "data": {
      "text/plain": [
       "['간식', '쉐아라']"
      ]
     },
     "execution_count": 34,
     "metadata": {},
     "output_type": "execute_result"
    }
   ],
   "source": [
    "hashtag_list[0]"
   ]
  },
  {
   "cell_type": "code",
   "execution_count": null,
   "metadata": {},
   "outputs": [],
   "source": []
  },
  {
   "cell_type": "code",
   "execution_count": 35,
   "metadata": {},
   "outputs": [
    {
     "name": "stderr",
     "output_type": "stream",
     "text": [
      "100%|██████████████████████████████████████████████████████████████████████████| 1000/1000 [00:00<00:00, 501351.18it/s]\n"
     ]
    }
   ],
   "source": [
    "text_list = []\n",
    "\n",
    "for i in tqdm(range(len(orig_restaurant))):\n",
    "    sen = orig_restaurant[i]['text']\n",
    "    text_list.append(sen)"
   ]
  },
  {
   "cell_type": "code",
   "execution_count": 36,
   "metadata": {},
   "outputs": [
    {
     "data": {
      "text/plain": [
       "1000"
      ]
     },
     "execution_count": 36,
     "metadata": {},
     "output_type": "execute_result"
    }
   ],
   "source": [
    "len(text_list)"
   ]
  },
  {
   "cell_type": "code",
   "execution_count": 37,
   "metadata": {},
   "outputs": [
    {
     "data": {
      "text/plain": [
       "'열려있어요'"
      ]
     },
     "execution_count": 37,
     "metadata": {},
     "output_type": "execute_result"
    }
   ],
   "source": [
    "text_list[0]"
   ]
  },
  {
   "cell_type": "code",
   "execution_count": null,
   "metadata": {},
   "outputs": [],
   "source": []
  },
  {
   "cell_type": "code",
   "execution_count": 38,
   "metadata": {},
   "outputs": [],
   "source": [
    "for i in range(len(orig_restaurant)):\n",
    "    del orig_restaurant[i]['likes']"
   ]
  },
  {
   "cell_type": "code",
   "execution_count": 39,
   "metadata": {},
   "outputs": [],
   "source": [
    "for i in range(len(orig_restaurant)):\n",
    "    del orig_restaurant[i]['text']"
   ]
  },
  {
   "cell_type": "code",
   "execution_count": 40,
   "metadata": {},
   "outputs": [],
   "source": [
    "for i in range(len(orig_restaurant)):\n",
    "    del orig_restaurant[i]['hashtag']"
   ]
  },
  {
   "cell_type": "code",
   "execution_count": 42,
   "metadata": {},
   "outputs": [
    {
     "data": {
      "text/plain": [
       "{'img_name': '2',\n",
       " 'label': 'restaurant',\n",
       " 'keyword': ['양초',\n",
       "  '테이블 (가구)',\n",
       "  '포도주',\n",
       "  '유리 (컨테이너)',\n",
       "  '커피',\n",
       "  '한잔',\n",
       "  '식품',\n",
       "  '정물화',\n",
       "  '칼',\n",
       "  '유리',\n",
       "  '차',\n",
       "  '꽃',\n",
       "  '나무',\n",
       "  '아침 식사',\n",
       "  '과일',\n",
       "  '컵 (용기)',\n",
       "  '레스토랑',\n",
       "  '빵',\n",
       "  '결혼 (의식)',\n",
       "  '병']}"
      ]
     },
     "execution_count": 42,
     "metadata": {},
     "output_type": "execute_result"
    }
   ],
   "source": [
    "orig_restaurant[1]"
   ]
  },
  {
   "cell_type": "code",
   "execution_count": 43,
   "metadata": {},
   "outputs": [],
   "source": [
    "with open('orig_restaurant.pkl', 'wb') as f:\n",
    "    pickle.dump(orig_restaurant, f)"
   ]
  },
  {
   "cell_type": "code",
   "execution_count": 44,
   "metadata": {},
   "outputs": [],
   "source": [
    "with open('orig_restaurant.pkl', 'rb') as f:\n",
    "    copy = pickle.load(f)"
   ]
  },
  {
   "cell_type": "code",
   "execution_count": 45,
   "metadata": {},
   "outputs": [
    {
     "data": {
      "text/plain": [
       "20"
      ]
     },
     "execution_count": 45,
     "metadata": {},
     "output_type": "execute_result"
    }
   ],
   "source": [
    "len(copy[0]['keyword'])"
   ]
  },
  {
   "cell_type": "code",
   "execution_count": 46,
   "metadata": {},
   "outputs": [
    {
     "data": {
      "text/plain": [
       "['디저트',\n",
       " '식품',\n",
       " '케이크',\n",
       " '파이',\n",
       " '원형 (평면)',\n",
       " '과자',\n",
       " '집에서 만든',\n",
       " '어떤 사람도 없다',\n",
       " '아름다운',\n",
       " '설탕',\n",
       " '과일',\n",
       " '커스터드',\n",
       " '베이킹',\n",
       " '간식',\n",
       " '빵집',\n",
       " '아침 식사',\n",
       " '식사',\n",
       " '조리',\n",
       " '푸딩',\n",
       " '요리 전문']"
      ]
     },
     "execution_count": 46,
     "metadata": {},
     "output_type": "execute_result"
    }
   ],
   "source": [
    "copy[0]['keyword']"
   ]
  },
  {
   "cell_type": "code",
   "execution_count": 47,
   "metadata": {},
   "outputs": [],
   "source": [
    "for i in range(len(copy)):\n",
    "    copy[i]['keyword'].extend(hashtag_list[i])"
   ]
  },
  {
   "cell_type": "code",
   "execution_count": 48,
   "metadata": {},
   "outputs": [],
   "source": [
    "for i in range(len(copy)):\n",
    "    copy[i]['keyword'].append(text_list[i])"
   ]
  },
  {
   "cell_type": "code",
   "execution_count": 54,
   "metadata": {},
   "outputs": [
    {
     "data": {
      "text/plain": [
       "{'img_name': '3',\n",
       " 'label': 'restaurant',\n",
       " 'keyword': ['거품',\n",
       "  '여름',\n",
       "  '어떤 사람도 없다',\n",
       "  '한잔',\n",
       "  '커피',\n",
       "  '유리 (컨테이너)',\n",
       "  '얼음 (냉동 디저트)',\n",
       "  '여행',\n",
       "  '휴가',\n",
       "  '가장 인기있는',\n",
       "  '감기',\n",
       "  '초콜릿',\n",
       "  '크림',\n",
       "  '디저트',\n",
       "  '설탕',\n",
       "  '바닷가',\n",
       "  '컵 (용기)',\n",
       "  '식품',\n",
       "  '테이블 (가구)',\n",
       "  '우유',\n",
       "  '간식',\n",
       "  '커피바다',\n",
       "  '아인슈페너',\n",
       "  '오레오라떼',\n",
       "  '판나코타',\n",
       "  '카페',\n",
       "  '카페투어',\n",
       "  '주문진카페',\n",
       "  '강릉카페',\n",
       "  '바다뷰카페',\n",
       "  '강릉',\n",
       "  '주문진',\n",
       "  '바다뷰',\n",
       "  '예쁘다',\n",
       "  '맛있다',\n",
       "  '일상',\n",
       "  '여행',\n",
       "  '주말',\n",
       "  '소확행',\n",
       "  '강릉바다',\n",
       "  '강릉커피바다',\n",
       "  '주문진커피바다',\n",
       "  '임산부',\n",
       "  '예비맘',\n",
       "  '예비아들맘',\n",
       "  '황금돼지띠맘',\n",
       "  '바다가 보이는 주문진카페']}"
      ]
     },
     "execution_count": 54,
     "metadata": {},
     "output_type": "execute_result"
    }
   ],
   "source": [
    "copy[2]"
   ]
  },
  {
   "cell_type": "code",
   "execution_count": 49,
   "metadata": {},
   "outputs": [],
   "source": [
    "with open('key_hash_text_restaurant.pkl', 'wb') as f:\n",
    "    pickle.dump(copy, f)"
   ]
  },
  {
   "cell_type": "markdown",
   "metadata": {},
   "source": [
    "#### 2) tower"
   ]
  },
  {
   "cell_type": "code",
   "execution_count": 56,
   "metadata": {},
   "outputs": [],
   "source": [
    "file_path = 'C:/Users/ehj14/Desktop/TOBIGS/1year/project/Korean-Tourist-Spot-Dataset-master/data/kts/resized/person-made/tower/tower.json'"
   ]
  },
  {
   "cell_type": "code",
   "execution_count": 57,
   "metadata": {},
   "outputs": [],
   "source": [
    "with open(file_path, 'rb') as f:\n",
    "    orig_tower = json.load(f)"
   ]
  },
  {
   "cell_type": "code",
   "execution_count": 58,
   "metadata": {},
   "outputs": [
    {
     "data": {
      "text/plain": [
       "{'img_name': '1',\n",
       " 'label': 'tower',\n",
       " 'likes': '2',\n",
       " 'text': '나주 빛가람전망대에서 모노레일을 탔는데 정말 시원했다!',\n",
       " 'hashtag': ['#나주', '#빛가람전망대', '#모노레일']}"
      ]
     },
     "execution_count": 58,
     "metadata": {},
     "output_type": "execute_result"
    }
   ],
   "source": [
    "orig_tower[0]"
   ]
  },
  {
   "cell_type": "code",
   "execution_count": 59,
   "metadata": {},
   "outputs": [],
   "source": [
    "with open('tower_keyword.pkl', 'rb') as f:\n",
    "    key_tower = pickle.load(f)"
   ]
  },
  {
   "cell_type": "code",
   "execution_count": 60,
   "metadata": {},
   "outputs": [
    {
     "name": "stderr",
     "output_type": "stream",
     "text": [
      "100%|█████████████████████████████████████████████████████████████████████████| 1000/1000 [00:00<00:00, 1002942.13it/s]\n"
     ]
    }
   ],
   "source": [
    "for i in tqdm(range(len(key_tower))):\n",
    "    orig_tower[i]['keyword'] = 0\n",
    "    orig_tower[i]['keyword'] = key_tower[i+1]"
   ]
  },
  {
   "cell_type": "code",
   "execution_count": 61,
   "metadata": {},
   "outputs": [
    {
     "data": {
      "text/plain": [
       "{'img_name': '1',\n",
       " 'label': 'tower',\n",
       " 'likes': '2',\n",
       " 'text': '나주 빛가람전망대에서 모노레일을 탔는데 정말 시원했다!',\n",
       " 'hashtag': ['#나주', '#빛가람전망대', '#모노레일'],\n",
       " 'keyword': ['구조',\n",
       "  '사업',\n",
       "  '여행',\n",
       "  '어떤 사람도 없다',\n",
       "  '천국',\n",
       "  '유리',\n",
       "  '현대',\n",
       "  '건물',\n",
       "  '도시',\n",
       "  '거리',\n",
       "  '옥외',\n",
       "  '비행장',\n",
       "  '기차',\n",
       "  '비즈니스 지구',\n",
       "  '도시 지역',\n",
       "  '현대의',\n",
       "  '미래',\n",
       "  '기차',\n",
       "  '재원',\n",
       "  '창문']}"
      ]
     },
     "execution_count": 61,
     "metadata": {},
     "output_type": "execute_result"
    }
   ],
   "source": [
    "orig_tower[0]"
   ]
  },
  {
   "cell_type": "code",
   "execution_count": 62,
   "metadata": {},
   "outputs": [
    {
     "name": "stderr",
     "output_type": "stream",
     "text": [
      "100%|███████████████████████████████████████████████████████████████████████████| 1000/1000 [00:00<00:00, 47792.89it/s]\n"
     ]
    }
   ],
   "source": [
    "hashtag_list = []\n",
    "\n",
    "for i in tqdm(range(len(orig_tower))):\n",
    "\n",
    "        hashtag = []\n",
    "        hashtag_list.append(hashtag)\n",
    "        for j in range(len(orig_tower[i]['hashtag'])):\n",
    "            word = orig_tower[i]['hashtag'][j][1:]\n",
    "            hashtag.append(word)\n",
    "            "
   ]
  },
  {
   "cell_type": "code",
   "execution_count": 63,
   "metadata": {},
   "outputs": [
    {
     "data": {
      "text/plain": [
       "1000"
      ]
     },
     "execution_count": 63,
     "metadata": {},
     "output_type": "execute_result"
    }
   ],
   "source": [
    "len(hashtag_list)"
   ]
  },
  {
   "cell_type": "code",
   "execution_count": 64,
   "metadata": {},
   "outputs": [
    {
     "data": {
      "text/plain": [
       "['나주', '빛가람전망대', '모노레일']"
      ]
     },
     "execution_count": 64,
     "metadata": {},
     "output_type": "execute_result"
    }
   ],
   "source": [
    "hashtag_list[0]"
   ]
  },
  {
   "cell_type": "code",
   "execution_count": 65,
   "metadata": {},
   "outputs": [
    {
     "name": "stderr",
     "output_type": "stream",
     "text": [
      "100%|██████████████████████████████████████████████████████████████████████████████████████| 1000/1000 [00:00<?, ?it/s]\n"
     ]
    }
   ],
   "source": [
    "text_list = []\n",
    "\n",
    "for i in tqdm(range(len(orig_tower))):\n",
    "    sen = orig_tower[i]['text']\n",
    "    text_list.append(sen)"
   ]
  },
  {
   "cell_type": "code",
   "execution_count": 66,
   "metadata": {},
   "outputs": [
    {
     "data": {
      "text/plain": [
       "1000"
      ]
     },
     "execution_count": 66,
     "metadata": {},
     "output_type": "execute_result"
    }
   ],
   "source": [
    "len(text_list)"
   ]
  },
  {
   "cell_type": "code",
   "execution_count": 67,
   "metadata": {},
   "outputs": [
    {
     "data": {
      "text/plain": [
       "'나주 빛가람전망대에서 모노레일을 탔는데 정말 시원했다!'"
      ]
     },
     "execution_count": 67,
     "metadata": {},
     "output_type": "execute_result"
    }
   ],
   "source": [
    "text_list[0]"
   ]
  },
  {
   "cell_type": "code",
   "execution_count": 68,
   "metadata": {},
   "outputs": [],
   "source": [
    "for i in range(len(orig_tower)):\n",
    "    del orig_tower[i]['likes']"
   ]
  },
  {
   "cell_type": "code",
   "execution_count": 69,
   "metadata": {},
   "outputs": [],
   "source": [
    "for i in range(len(orig_tower)):\n",
    "    del orig_tower[i]['text']"
   ]
  },
  {
   "cell_type": "code",
   "execution_count": 70,
   "metadata": {},
   "outputs": [],
   "source": [
    "for i in range(len(orig_tower)):\n",
    "    del orig_tower[i]['hashtag']"
   ]
  },
  {
   "cell_type": "code",
   "execution_count": 71,
   "metadata": {},
   "outputs": [
    {
     "data": {
      "text/plain": [
       "{'img_name': '1',\n",
       " 'label': 'tower',\n",
       " 'keyword': ['구조',\n",
       "  '사업',\n",
       "  '여행',\n",
       "  '어떤 사람도 없다',\n",
       "  '천국',\n",
       "  '유리',\n",
       "  '현대',\n",
       "  '건물',\n",
       "  '도시',\n",
       "  '거리',\n",
       "  '옥외',\n",
       "  '비행장',\n",
       "  '기차',\n",
       "  '비즈니스 지구',\n",
       "  '도시 지역',\n",
       "  '현대의',\n",
       "  '미래',\n",
       "  '기차',\n",
       "  '재원',\n",
       "  '창문']}"
      ]
     },
     "execution_count": 71,
     "metadata": {},
     "output_type": "execute_result"
    }
   ],
   "source": [
    "orig_tower[0]"
   ]
  },
  {
   "cell_type": "code",
   "execution_count": 72,
   "metadata": {},
   "outputs": [],
   "source": [
    "with open('orig_tower.pkl', 'wb') as f:\n",
    "    pickle.dump(orig_tower, f)"
   ]
  },
  {
   "cell_type": "code",
   "execution_count": 73,
   "metadata": {},
   "outputs": [],
   "source": [
    "with open('orig_tower.pkl', 'rb') as f:\n",
    "    copy = pickle.load(f)"
   ]
  },
  {
   "cell_type": "code",
   "execution_count": 74,
   "metadata": {},
   "outputs": [
    {
     "data": {
      "text/plain": [
       "20"
      ]
     },
     "execution_count": 74,
     "metadata": {},
     "output_type": "execute_result"
    }
   ],
   "source": [
    "len(copy[0]['keyword'])"
   ]
  },
  {
   "cell_type": "code",
   "execution_count": 75,
   "metadata": {},
   "outputs": [
    {
     "data": {
      "text/plain": [
       "['구조',\n",
       " '사업',\n",
       " '여행',\n",
       " '어떤 사람도 없다',\n",
       " '천국',\n",
       " '유리',\n",
       " '현대',\n",
       " '건물',\n",
       " '도시',\n",
       " '거리',\n",
       " '옥외',\n",
       " '비행장',\n",
       " '기차',\n",
       " '비즈니스 지구',\n",
       " '도시 지역',\n",
       " '현대의',\n",
       " '미래',\n",
       " '기차',\n",
       " '재원',\n",
       " '창문']"
      ]
     },
     "execution_count": 75,
     "metadata": {},
     "output_type": "execute_result"
    }
   ],
   "source": [
    "copy[0]['keyword']"
   ]
  },
  {
   "cell_type": "code",
   "execution_count": 76,
   "metadata": {},
   "outputs": [],
   "source": [
    "for i in range(len(copy)):\n",
    "    copy[i]['keyword'].extend(hashtag_list[i])"
   ]
  },
  {
   "cell_type": "code",
   "execution_count": 77,
   "metadata": {},
   "outputs": [],
   "source": [
    "for i in range(len(copy)):\n",
    "    copy[i]['keyword'].append(text_list[i])"
   ]
  },
  {
   "cell_type": "code",
   "execution_count": 78,
   "metadata": {},
   "outputs": [
    {
     "data": {
      "text/plain": [
       "{'img_name': '6',\n",
       " 'label': 'tower',\n",
       " 'keyword': ['구조',\n",
       "  '여행',\n",
       "  '도시',\n",
       "  '빛',\n",
       "  '탑',\n",
       "  '어떤 사람도 없다',\n",
       "  '건물',\n",
       "  '천국',\n",
       "  '키가 큰',\n",
       "  '가을 (\\u200b\\u200b시간)',\n",
       "  '전날 (일)',\n",
       "  '옥외',\n",
       "  '물이 몸',\n",
       "  '도시 지역',\n",
       "  '마천루',\n",
       "  '경계표',\n",
       "  '높은',\n",
       "  '도시 경관',\n",
       "  '비즈니스 지구',\n",
       "  '일몰',\n",
       "  '토요일',\n",
       "  '어제사진',\n",
       "  '인친님피드보고나도',\n",
       "  '시화나래휴게소',\n",
       "  '시화나래전망대',\n",
       "  '시화호달전망대',\n",
       "  '손에땀나',\n",
       "  '너희는안무섭니',\n",
       "  '밖은',\n",
       "  '시원해',\n",
       "  '조개찜',\n",
       "  '싫다는너희들',\n",
       "  '그래그래',\n",
       "  '먹지마라',\n",
       "  '딸셋',\n",
       "  '딸부자',\n",
       "  '다둥이네',\n",
       "  '일상기록',\n",
       "  '다둥이네 일상']}"
      ]
     },
     "execution_count": 78,
     "metadata": {},
     "output_type": "execute_result"
    }
   ],
   "source": [
    "copy[5]"
   ]
  },
  {
   "cell_type": "code",
   "execution_count": 73,
   "metadata": {},
   "outputs": [],
   "source": [
    "with open('key_hash_text_tower.pkl', 'wb') as f:\n",
    "    pickle.dump(copy, f)"
   ]
  },
  {
   "cell_type": "code",
   "execution_count": null,
   "metadata": {},
   "outputs": [],
   "source": []
  }
 ],
 "metadata": {
  "kernelspec": {
   "display_name": "Python 3",
   "language": "python",
   "name": "python3"
  },
  "language_info": {
   "codemirror_mode": {
    "name": "ipython",
    "version": 3
   },
   "file_extension": ".py",
   "mimetype": "text/x-python",
   "name": "python",
   "nbconvert_exporter": "python",
   "pygments_lexer": "ipython3",
   "version": "3.7.4"
  }
 },
 "nbformat": 4,
 "nbformat_minor": 4
}
