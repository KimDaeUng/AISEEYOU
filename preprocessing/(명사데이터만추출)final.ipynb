{
 "cells": [
  {
   "cell_type": "code",
   "execution_count": 132,
   "metadata": {},
   "outputs": [],
   "source": [
    "import numpy as np\n",
    "import pandas as pd\n",
    "import pickle\n",
    "from tqdm import tqdm"
   ]
  },
  {
   "cell_type": "code",
   "execution_count": 133,
   "metadata": {},
   "outputs": [],
   "source": [
    "with open('final_poem_token.pkl', 'rb') as f:\n",
    "    ctk_pkl = pickle.load(f)"
   ]
  },
  {
   "cell_type": "code",
   "execution_count": 134,
   "metadata": {},
   "outputs": [],
   "source": [
    "data = pd.read_csv(\"final_poem.csv\")"
   ]
  },
  {
   "cell_type": "code",
   "execution_count": 135,
   "metadata": {},
   "outputs": [
    {
     "data": {
      "text/html": [
       "<div>\n",
       "<style scoped>\n",
       "    .dataframe tbody tr th:only-of-type {\n",
       "        vertical-align: middle;\n",
       "    }\n",
       "\n",
       "    .dataframe tbody tr th {\n",
       "        vertical-align: top;\n",
       "    }\n",
       "\n",
       "    .dataframe thead th {\n",
       "        text-align: right;\n",
       "    }\n",
       "</style>\n",
       "<table border=\"1\" class=\"dataframe\">\n",
       "  <thead>\n",
       "    <tr style=\"text-align: right;\">\n",
       "      <th></th>\n",
       "      <th>Unnamed: 0</th>\n",
       "      <th>title</th>\n",
       "      <th>author</th>\n",
       "      <th>contents_re</th>\n",
       "      <th>new_contents</th>\n",
       "    </tr>\n",
       "  </thead>\n",
       "  <tbody>\n",
       "    <tr>\n",
       "      <th>0</th>\n",
       "      <td>0</td>\n",
       "      <td>아주 작은사람</td>\n",
       "      <td>김낙필</td>\n",
       "      <td>['성실함이나 근면함도글쎄', '별로인것 같다', '그져 정직하고 솔직한 삶을 사랑...</td>\n",
       "      <td>[['성실/NNG_', '하/XSA_', 'ㅁ/ETN_', '이나/JC_', '근면...</td>\n",
       "    </tr>\n",
       "    <tr>\n",
       "      <th>1</th>\n",
       "      <td>1</td>\n",
       "      <td>가린다.</td>\n",
       "      <td>정용섭</td>\n",
       "      <td>['무모하게 달린다 첨 부터 그랬다 발길이먼져였지 눈이먼져였던가 눈은 귀가가리고',...</td>\n",
       "      <td>[['무모/NNG_', '하/XSA_', '게/EC_', '달리/VV_', 'ㄴ다/...</td>\n",
       "    </tr>\n",
       "    <tr>\n",
       "      <th>2</th>\n",
       "      <td>2</td>\n",
       "      <td>달을 건지다</td>\n",
       "      <td>배현순</td>\n",
       "      <td>['건지려하니 가시가 노려 본다밧줄을 내려 보낸다', '달을 메야 할 텐데달이 점점...</td>\n",
       "      <td>[['건/VV_', '지/NNG_', '려/EC_', '하/VX_', '니/EC_'...</td>\n",
       "    </tr>\n",
       "    <tr>\n",
       "      <th>3</th>\n",
       "      <td>3</td>\n",
       "      <td>춘분</td>\n",
       "      <td>이성교</td>\n",
       "      <td>['해야 해야 나오너라', '구름 타고물 건느고복빗개 들고나오너라', '구름다리 넘...</td>\n",
       "      <td>[['하/VV_', '여야/EC_', '하/VV_', '여야/EC_', '나오/VV...</td>\n",
       "    </tr>\n",
       "    <tr>\n",
       "      <th>4</th>\n",
       "      <td>4</td>\n",
       "      <td>마음, 마음</td>\n",
       "      <td>김귀녀</td>\n",
       "      <td>['파도처럼 울렁대는 변덕스러운 마음 안에서 난 아무것도 할 수가 없구나', '마른...</td>\n",
       "      <td>[['파도/NNG_', '처럼/JKB_', '울렁대/VV_', '는/ETM_', '...</td>\n",
       "    </tr>\n",
       "  </tbody>\n",
       "</table>\n",
       "</div>"
      ],
      "text/plain": [
       "   Unnamed: 0    title author  \\\n",
       "0           0  아주 작은사람    김낙필   \n",
       "1           1     가린다.    정용섭   \n",
       "2           2   달을 건지다    배현순   \n",
       "3           3       춘분    이성교   \n",
       "4           4   마음, 마음    김귀녀   \n",
       "\n",
       "                                         contents_re  \\\n",
       "0  ['성실함이나 근면함도글쎄', '별로인것 같다', '그져 정직하고 솔직한 삶을 사랑...   \n",
       "1  ['무모하게 달린다 첨 부터 그랬다 발길이먼져였지 눈이먼져였던가 눈은 귀가가리고',...   \n",
       "2  ['건지려하니 가시가 노려 본다밧줄을 내려 보낸다', '달을 메야 할 텐데달이 점점...   \n",
       "3  ['해야 해야 나오너라', '구름 타고물 건느고복빗개 들고나오너라', '구름다리 넘...   \n",
       "4  ['파도처럼 울렁대는 변덕스러운 마음 안에서 난 아무것도 할 수가 없구나', '마른...   \n",
       "\n",
       "                                        new_contents  \n",
       "0  [['성실/NNG_', '하/XSA_', 'ㅁ/ETN_', '이나/JC_', '근면...  \n",
       "1  [['무모/NNG_', '하/XSA_', '게/EC_', '달리/VV_', 'ㄴ다/...  \n",
       "2  [['건/VV_', '지/NNG_', '려/EC_', '하/VX_', '니/EC_'...  \n",
       "3  [['하/VV_', '여야/EC_', '하/VV_', '여야/EC_', '나오/VV...  \n",
       "4  [['파도/NNG_', '처럼/JKB_', '울렁대/VV_', '는/ETM_', '...  "
      ]
     },
     "execution_count": 135,
     "metadata": {},
     "output_type": "execute_result"
    }
   ],
   "source": [
    "data[:5]"
   ]
  },
  {
   "cell_type": "code",
   "execution_count": 136,
   "metadata": {},
   "outputs": [
    {
     "data": {
      "text/plain": [
       "74554"
      ]
     },
     "execution_count": 136,
     "metadata": {},
     "output_type": "execute_result"
    }
   ],
   "source": [
    "len(ctk_pkl)"
   ]
  },
  {
   "cell_type": "code",
   "execution_count": 137,
   "metadata": {},
   "outputs": [],
   "source": [
    "data['new_contents'] = ctk_pkl"
   ]
  },
  {
   "cell_type": "code",
   "execution_count": 138,
   "metadata": {},
   "outputs": [
    {
     "data": {
      "text/plain": [
       "0    [[성실/NNG_, 하/XSA_, ㅁ/ETN_, 이나/JC_, 근면/NNG_, 하/...\n",
       "1    [[무모/NNG_, 하/XSA_, 게/EC_, 달리/VV_, ㄴ다/EC_, 첨/NN...\n",
       "2    [[건/VV_, 지/NNG_, 려/EC_, 하/VX_, 니/EC_, 가시/NNG_,...\n",
       "3    [[하/VV_, 여야/EC_, 하/VV_, 여야/EC_, 나오/VV_, 너라/EC_...\n",
       "4    [[파도/NNG_, 처럼/JKB_, 울렁대/VV_, 는/ETM_, 변덕/NNG_, ...\n",
       "Name: new_contents, dtype: object"
      ]
     },
     "execution_count": 138,
     "metadata": {},
     "output_type": "execute_result"
    }
   ],
   "source": [
    "data['new_contents'][:5]"
   ]
  },
  {
   "cell_type": "code",
   "execution_count": 139,
   "metadata": {},
   "outputs": [],
   "source": [
    "data['new_contents'] = data['new_contents'].apply(lambda i: [y for x in i for y in x])"
   ]
  },
  {
   "cell_type": "code",
   "execution_count": 140,
   "metadata": {},
   "outputs": [],
   "source": [
    "with open('final_restaurant_token.pkl', 'rb') as f:\n",
    "    restaurant_keyword_token = pickle.load(f)\n",
    "with open('final_tower_token.pkl', 'rb') as f:\n",
    "    tower_keyword_token = pickle.load(f)"
   ]
  },
  {
   "cell_type": "code",
   "execution_count": 141,
   "metadata": {},
   "outputs": [
    {
     "data": {
      "text/plain": [
       "[['디저트/NNG_'],\n",
       " ['식품/NNG_'],\n",
       " ['케이크/NNG_'],\n",
       " ['파이/NNG_'],\n",
       " ['원형/NNG_', '(/SS_', '평면/NNG_', ')/SS_'],\n",
       " ['과자/NNG_'],\n",
       " ['집/NNG_', '에서/JKB_', '만들/VV_', 'ㄴ/ETM_'],\n",
       " ['어떤/MM_', '사람/NNG_', '도/JX_', '없/VA_', '다/EC_'],\n",
       " ['아름답/VA_', 'ㄴ/ETM_'],\n",
       " ['설탕/NNG_'],\n",
       " ['과일/NNG_'],\n",
       " ['커스터드/NNG_'],\n",
       " ['베/NNP_', '이킹/NNG_'],\n",
       " ['간식/NNG_'],\n",
       " ['빵집/NNG_'],\n",
       " ['아침/NNG_', '식사/NNG_'],\n",
       " ['식사/NNG_'],\n",
       " ['조리/NNG_'],\n",
       " ['푸/NNP_', '딩/NNG_'],\n",
       " ['요리/NNG_', '전문/NNG_'],\n",
       " ['ᄀ/NNG_', 'ᅡᆫ식/SH_'],\n",
       " ['ᄉ/NNG_', 'ᅰ아라/SH_'],\n",
       " ['ᄋ/NNG_', 'ᅧᆯ려이/SH_', 'ᆻ어ᄋ/NNP_', 'ᅭ/SH_']]"
      ]
     },
     "execution_count": 141,
     "metadata": {},
     "output_type": "execute_result"
    }
   ],
   "source": [
    "restaurant_keyword_token[0]"
   ]
  },
  {
   "cell_type": "code",
   "execution_count": 142,
   "metadata": {},
   "outputs": [],
   "source": [
    "a = []\n",
    "b = []\n",
    "for i in restaurant_keyword_token:\n",
    "    a.append([y for x in i for y in x])\n",
    "for i in tower_keyword_token:\n",
    "    b.append([y for x in i for y in x])"
   ]
  },
  {
   "cell_type": "code",
   "execution_count": 143,
   "metadata": {},
   "outputs": [],
   "source": [
    "def select_noun_va(x):\n",
    "    new_a = []\n",
    "    for j in tqdm(x):\n",
    "        aa = []\n",
    "        for i in j:        \n",
    "            if 'NNG' in i:\n",
    "                aa.append(i)\n",
    "        new_a.append(aa)\n",
    "    return new_a"
   ]
  },
  {
   "cell_type": "code",
   "execution_count": 144,
   "metadata": {},
   "outputs": [],
   "source": [
    "def only_words(x):\n",
    "    a = []\n",
    "    for i in tqdm(x):\n",
    "        b = []\n",
    "        for j in i:\n",
    "            b.append(j.split('/')[0])\n",
    "        a.append(b)\n",
    "    return a"
   ]
  },
  {
   "cell_type": "code",
   "execution_count": 145,
   "metadata": {},
   "outputs": [],
   "source": [
    "def select_noun_va(x):\n",
    "    new_a = []\n",
    "    for j in tqdm(x):\n",
    "        aa = []\n",
    "        for i in j:        \n",
    "            if 'NNG' in i:\n",
    "                aa.append(i)\n",
    "        new_a.append(aa)\n",
    "    return new_a"
   ]
  },
  {
   "cell_type": "code",
   "execution_count": 146,
   "metadata": {},
   "outputs": [],
   "source": [
    "def only_words(x):\n",
    "    a = []\n",
    "    for i in tqdm(x):\n",
    "        b = []\n",
    "        for j in i:\n",
    "            b.append(j.split('/')[0])\n",
    "        a.append(b)\n",
    "    return a"
   ]
  },
  {
   "cell_type": "code",
   "execution_count": 147,
   "metadata": {},
   "outputs": [],
   "source": [
    "def del_none(x):\n",
    "    d = []\n",
    "    for j in tqdm(x):\n",
    "        c = []\n",
    "        for i in j:\n",
    "            if i == None:\n",
    "                pass\n",
    "            else:\n",
    "                c.append(i)\n",
    "        d.append(c)\n",
    "    return d"
   ]
  },
  {
   "cell_type": "code",
   "execution_count": 148,
   "metadata": {},
   "outputs": [],
   "source": [
    "def Jaccard_similarity(doc1, doc2):\n",
    "    doc1 = set(doc1)\n",
    "    doc2 = set(doc2)\n",
    "    return len(doc1 & doc2) / len(doc1 | doc2)"
   ]
  },
  {
   "cell_type": "code",
   "execution_count": 149,
   "metadata": {},
   "outputs": [],
   "source": [
    "new_contents = data['new_contents']"
   ]
  },
  {
   "cell_type": "code",
   "execution_count": 150,
   "metadata": {},
   "outputs": [
    {
     "name": "stderr",
     "output_type": "stream",
     "text": [
      "100%|█████████████████████████████████████████████████████████████████████████| 74554/74554 [00:01<00:00, 62324.11it/s]\n"
     ]
    }
   ],
   "source": [
    "new_contents = del_none(new_contents)"
   ]
  },
  {
   "cell_type": "code",
   "execution_count": 151,
   "metadata": {},
   "outputs": [
    {
     "name": "stderr",
     "output_type": "stream",
     "text": [
      "100%|███████████████████████████████████████████████████████████████████████████| 1000/1000 [00:00<00:00, 41778.85it/s]\n",
      "100%|███████████████████████████████████████████████████████████████████████████| 1000/1000 [00:00<00:00, 55700.51it/s]\n",
      "100%|█████████████████████████████████████████████████████████████████████████| 74554/74554 [00:00<00:00, 79425.88it/s]\n"
     ]
    }
   ],
   "source": [
    "new_a = select_noun_va(a)\n",
    "new_b = select_noun_va(b)\n",
    "new_contents = select_noun_va(new_contents)"
   ]
  },
  {
   "cell_type": "code",
   "execution_count": 152,
   "metadata": {},
   "outputs": [
    {
     "name": "stderr",
     "output_type": "stream",
     "text": [
      "100%|███████████████████████████████████████████████████████████████████████████| 1000/1000 [00:00<00:00, 55702.73it/s]\n",
      "100%|███████████████████████████████████████████████████████████████████████████| 1000/1000 [00:00<00:00, 58982.49it/s]\n",
      "100%|█████████████████████████████████████████████████████████████████████████| 74554/74554 [00:00<00:00, 92174.52it/s]\n"
     ]
    }
   ],
   "source": [
    "new_a = only_words(new_a)\n",
    "new_b = only_words(new_b)\n",
    "new_contents = only_words(new_contents)"
   ]
  },
  {
   "cell_type": "code",
   "execution_count": 153,
   "metadata": {},
   "outputs": [
    {
     "data": {
      "text/plain": [
       "74554"
      ]
     },
     "execution_count": 153,
     "metadata": {},
     "output_type": "execute_result"
    }
   ],
   "source": [
    "len(new_contents)"
   ]
  },
  {
   "cell_type": "code",
   "execution_count": 154,
   "metadata": {},
   "outputs": [
    {
     "name": "stdout",
     "output_type": "stream",
     "text": [
      "0.1\n"
     ]
    }
   ],
   "source": [
    "scores = []\n",
    "max_index = []\n",
    "for i in range(len(new_contents)):\n",
    "    score = Jaccard_similarity(new_a[4], new_contents[i])\n",
    "    scores.append(score)\n",
    "\n",
    "print(max(scores))"
   ]
  },
  {
   "cell_type": "code",
   "execution_count": 155,
   "metadata": {},
   "outputs": [
    {
     "data": {
      "text/plain": [
       "14270"
      ]
     },
     "execution_count": 155,
     "metadata": {},
     "output_type": "execute_result"
    }
   ],
   "source": [
    "scores.index(0.1)"
   ]
  },
  {
   "cell_type": "markdown",
   "metadata": {},
   "source": [
    "#### (결과) Keyword와 시 내용 "
   ]
  },
  {
   "cell_type": "code",
   "execution_count": 156,
   "metadata": {},
   "outputs": [
    {
     "data": {
      "text/plain": [
       "['사람',\n",
       " '식품',\n",
       " '아침',\n",
       " '식사',\n",
       " '설탕',\n",
       " '이킹',\n",
       " '디저트',\n",
       " '집',\n",
       " '삭',\n",
       " '파삭',\n",
       " '전통',\n",
       " '낙농',\n",
       " '제품',\n",
       " '케이크',\n",
       " '영양',\n",
       " '건강',\n",
       " '점심',\n",
       " '빵',\n",
       " '크림',\n",
       " '스택',\n",
       " '저녁',\n",
       " '식사',\n",
       " '과자',\n",
       " 'ᄀ',\n",
       " 'ᄉ',\n",
       " 'ᄇ']"
      ]
     },
     "execution_count": 156,
     "metadata": {},
     "output_type": "execute_result"
    }
   ],
   "source": [
    "new_a[4]"
   ]
  },
  {
   "cell_type": "code",
   "execution_count": 157,
   "metadata": {},
   "outputs": [
    {
     "data": {
      "text/plain": [
       "\"['아침 점심 저녁', '사는 내내 저녁 식사는 행복하였으면 해요', '난 욕심 없는 그이를 좋아하는가봐요', '봄 여름 가을 겨울', '추억은 봄에 쌓고 그리움은 가을에 쌓고 살아요', '난 욕심 없는 그이를 좋아하는가봐요', '다이아몬드의 반짝임은 아련히 희미하고', '들꽃 반지 끼워주던 그 햇살은 어제 같아요', '난 욕심 없는 그이를 좋아하는가봐요', '그림 같은 집을 지어 사는 소망 보다', '그림 같은 사랑 지어 사는 행복 하늘이 움직여요', '당신은 욕심 없는 나를 좋아하는가봐요', '오늘 저녁도 맛있어 말할 틈도 없었네요', '올 봄도 올 가을도 그러해요', '밖엔 들꽃이 만발하고 사랑과 행복이 노래하여요']\""
      ]
     },
     "execution_count": 157,
     "metadata": {},
     "output_type": "execute_result"
    }
   ],
   "source": [
    "data.contents_re[14270]"
   ]
  },
  {
   "cell_type": "code",
   "execution_count": null,
   "metadata": {},
   "outputs": [],
   "source": []
  },
  {
   "cell_type": "markdown",
   "metadata": {},
   "source": [
    "### Image to Text 매칭하기"
   ]
  },
  {
   "cell_type": "markdown",
   "metadata": {},
   "source": [
    "#### 1) 레스토랑 데이터"
   ]
  },
  {
   "cell_type": "code",
   "execution_count": 158,
   "metadata": {},
   "outputs": [],
   "source": [
    "import pickle\n",
    "import json"
   ]
  },
  {
   "cell_type": "code",
   "execution_count": 159,
   "metadata": {},
   "outputs": [
    {
     "data": {
      "text/plain": [
       "['양',\n",
       " '테이블',\n",
       " '가구',\n",
       " '포도주',\n",
       " '유리',\n",
       " '컨테이너',\n",
       " '커피',\n",
       " '한잔',\n",
       " '식품',\n",
       " '정물',\n",
       " '칼',\n",
       " '유리',\n",
       " '차',\n",
       " '꽃',\n",
       " '나무',\n",
       " '아침',\n",
       " '식사',\n",
       " '과일',\n",
       " '컵',\n",
       " '레스토랑',\n",
       " '빵',\n",
       " '결혼',\n",
       " '의식',\n",
       " '병',\n",
       " 'ᄀ',\n",
       " 'ᄃ',\n",
       " 'ᄃ']"
      ]
     },
     "execution_count": 159,
     "metadata": {},
     "output_type": "execute_result"
    }
   ],
   "source": [
    "new_a[1]"
   ]
  },
  {
   "cell_type": "code",
   "execution_count": 160,
   "metadata": {},
   "outputs": [],
   "source": [
    "file_path = 'C:/Users/ehj14/Desktop/TOBIGS/1year/project/Korean-Tourist-Spot-Dataset-master/data/kts/resized/person-made/restaurant/restaurant.json'"
   ]
  },
  {
   "cell_type": "code",
   "execution_count": 161,
   "metadata": {},
   "outputs": [],
   "source": [
    "with open(file_path, 'rb') as f:\n",
    "    json_data = json.load(f)"
   ]
  },
  {
   "cell_type": "code",
   "execution_count": 162,
   "metadata": {},
   "outputs": [
    {
     "data": {
      "text/plain": [
       "1000"
      ]
     },
     "execution_count": 162,
     "metadata": {},
     "output_type": "execute_result"
    }
   ],
   "source": [
    "len(json_data)"
   ]
  },
  {
   "cell_type": "code",
   "execution_count": 163,
   "metadata": {},
   "outputs": [
    {
     "name": "stderr",
     "output_type": "stream",
     "text": [
      "100%|███████████████████████████████████████████████████████████████████████████| 1000/1000 [00:00<00:00, 90923.56it/s]\n"
     ]
    }
   ],
   "source": [
    "for i in tqdm(range(len(json_data))):\n",
    "    json_data[i]['keyword'] = 0\n",
    "    json_data[i]['keyword'] = list(set(new_a[i]))"
   ]
  },
  {
   "cell_type": "code",
   "execution_count": 166,
   "metadata": {},
   "outputs": [
    {
     "data": {
      "text/plain": [
       "{'img_name': '1',\n",
       " 'label': 'restaurant',\n",
       " 'likes': '55',\n",
       " 'text': '열려있어요',\n",
       " 'hashtag': ['#간식', '#쉐아라'],\n",
       " 'keyword': ['이킹',\n",
       "  '과자',\n",
       "  '파이',\n",
       "  '케이크',\n",
       "  '커스터드',\n",
       "  'ᄉ',\n",
       "  '사람',\n",
       "  '아침',\n",
       "  '집',\n",
       "  '설탕',\n",
       "  'ᄀ',\n",
       "  '전문',\n",
       "  '원형',\n",
       "  '조리',\n",
       "  'ᄋ',\n",
       "  '요리',\n",
       "  '디저트',\n",
       "  '빵집',\n",
       "  '식사',\n",
       "  '평면',\n",
       "  '딩',\n",
       "  '과일',\n",
       "  '식품',\n",
       "  '간식']}"
      ]
     },
     "execution_count": 166,
     "metadata": {},
     "output_type": "execute_result"
    }
   ],
   "source": [
    "json_data[0]"
   ]
  },
  {
   "cell_type": "code",
   "execution_count": 168,
   "metadata": {},
   "outputs": [],
   "source": [
    "for i in range(len(json_data)):\n",
    "    del json_data[i]['likes']"
   ]
  },
  {
   "cell_type": "code",
   "execution_count": 169,
   "metadata": {},
   "outputs": [],
   "source": [
    "for i in range(len(json_data)):\n",
    "    del json_data[i]['text']"
   ]
  },
  {
   "cell_type": "code",
   "execution_count": 170,
   "metadata": {},
   "outputs": [],
   "source": [
    "for i in range(len(json_data)):\n",
    "    del json_data[i]['hashtag']"
   ]
  },
  {
   "cell_type": "code",
   "execution_count": 171,
   "metadata": {},
   "outputs": [
    {
     "data": {
      "text/plain": [
       "{'img_name': '1',\n",
       " 'label': 'restaurant',\n",
       " 'keyword': ['이킹',\n",
       "  '과자',\n",
       "  '파이',\n",
       "  '케이크',\n",
       "  '커스터드',\n",
       "  'ᄉ',\n",
       "  '사람',\n",
       "  '아침',\n",
       "  '집',\n",
       "  '설탕',\n",
       "  'ᄀ',\n",
       "  '전문',\n",
       "  '원형',\n",
       "  '조리',\n",
       "  'ᄋ',\n",
       "  '요리',\n",
       "  '디저트',\n",
       "  '빵집',\n",
       "  '식사',\n",
       "  '평면',\n",
       "  '딩',\n",
       "  '과일',\n",
       "  '식품',\n",
       "  '간식']}"
      ]
     },
     "execution_count": 171,
     "metadata": {},
     "output_type": "execute_result"
    }
   ],
   "source": [
    "json_data[0]"
   ]
  },
  {
   "cell_type": "code",
   "execution_count": 172,
   "metadata": {},
   "outputs": [],
   "source": [
    "copy = json_data"
   ]
  },
  {
   "cell_type": "code",
   "execution_count": 173,
   "metadata": {},
   "outputs": [],
   "source": [
    "with open('final_restaurant.json', 'w', encoding='utf-8') as f:\n",
    "    json.dump(copy, f)"
   ]
  },
  {
   "cell_type": "code",
   "execution_count": null,
   "metadata": {},
   "outputs": [],
   "source": []
  },
  {
   "cell_type": "markdown",
   "metadata": {},
   "source": [
    "#### 2) 타워 데이터"
   ]
  },
  {
   "cell_type": "code",
   "execution_count": 176,
   "metadata": {},
   "outputs": [
    {
     "data": {
      "text/plain": [
       "[['구조/NNG_'],\n",
       " ['사업/NNG_'],\n",
       " ['여행/NNG_'],\n",
       " ['어떤/MM_', '사람/NNG_', '도/JX_', '없/VA_', '다/EC_'],\n",
       " ['천국/NNG_'],\n",
       " ['유리/NNG_'],\n",
       " ['현/NNP_', '대/NNG_'],\n",
       " ['건물/NNG_'],\n",
       " ['도시/NNG_'],\n",
       " ['거리/NNG_'],\n",
       " ['옥외/NNG_'],\n",
       " ['비행장/NNG_'],\n",
       " ['기차/NNG_'],\n",
       " ['비즈니스/NNG_', '지구/NNG_'],\n",
       " ['도시/NNG_', '지역/NNG_'],\n",
       " ['현/NNP_', '대/NNG_', '의/JKG_'],\n",
       " ['미래/NNG_'],\n",
       " ['기차/NNG_'],\n",
       " ['재원/NNG_'],\n",
       " ['창문/NNG_'],\n",
       " ['ᄂ/NNP_', 'ᅡ주/SH_'],\n",
       " ['ᄇ/NNG_', 'ᅵᆾ가람전/SH_', '망ᄃ/NNP_', 'ᅢ/SH_'],\n",
       " ['ᄆ/NNG_', 'ᅩ노ᄅ/SH_', 'ᅦ이/NNP_', 'ᆯ/SH_'],\n",
       " ['ᄂ/NNP_',\n",
       "  'ᅡ주/SH_',\n",
       "  '빛가람전망ᄃ/SH_',\n",
       "  'ᅢ에ᄉ/NNP_',\n",
       "  'ᅥ/SH_',\n",
       "  '모노레ᄋ/SH_',\n",
       "  'ᅵᆯ으/NNP_',\n",
       "  'ᆯ/SH_',\n",
       "  '탔느/SH_',\n",
       "  'ᆫᄃ/NNP_',\n",
       "  'ᅦ/SH_',\n",
       "  '정말/SH_',\n",
       "  '시원ᄒ/SH_',\n",
       "  'ᅢᆻ/NNP_',\n",
       "  '다/SH_',\n",
       "  '!/SF_']]"
      ]
     },
     "execution_count": 176,
     "metadata": {},
     "output_type": "execute_result"
    }
   ],
   "source": [
    "tower_keyword_token[0]"
   ]
  },
  {
   "cell_type": "code",
   "execution_count": 177,
   "metadata": {},
   "outputs": [
    {
     "data": {
      "text/plain": [
       "['구조',\n",
       " '사업',\n",
       " '여행',\n",
       " '사람',\n",
       " '천국',\n",
       " '유리',\n",
       " '대',\n",
       " '건물',\n",
       " '도시',\n",
       " '거리',\n",
       " '옥외',\n",
       " '비행장',\n",
       " '기차',\n",
       " '비즈니스',\n",
       " '지구',\n",
       " '도시',\n",
       " '지역',\n",
       " '대',\n",
       " '미래',\n",
       " '기차',\n",
       " '재원',\n",
       " '창문',\n",
       " 'ᄇ',\n",
       " 'ᄆ']"
      ]
     },
     "execution_count": 177,
     "metadata": {},
     "output_type": "execute_result"
    }
   ],
   "source": [
    "new_b[0]"
   ]
  },
  {
   "cell_type": "code",
   "execution_count": 178,
   "metadata": {},
   "outputs": [],
   "source": [
    "file_path = 'C:/Users/ehj14/Desktop/TOBIGS/1year/project/Korean-Tourist-Spot-Dataset-master/data/kts/resized/person-made/tower/tower.json'"
   ]
  },
  {
   "cell_type": "code",
   "execution_count": 179,
   "metadata": {},
   "outputs": [],
   "source": [
    "with open(file_path, 'rb') as f:\n",
    "    json_data = json.load(f)"
   ]
  },
  {
   "cell_type": "code",
   "execution_count": 180,
   "metadata": {},
   "outputs": [
    {
     "data": {
      "text/plain": [
       "1000"
      ]
     },
     "execution_count": 180,
     "metadata": {},
     "output_type": "execute_result"
    }
   ],
   "source": [
    "len(json_data)"
   ]
  },
  {
   "cell_type": "code",
   "execution_count": 181,
   "metadata": {},
   "outputs": [
    {
     "name": "stderr",
     "output_type": "stream",
     "text": [
      "100%|██████████████████████████████████████████████████████████████████████████| 1000/1000 [00:00<00:00, 125330.31it/s]\n"
     ]
    }
   ],
   "source": [
    "for i in tqdm(range(len(json_data))):\n",
    "    json_data[i]['keyword'] = 0\n",
    "    json_data[i]['keyword'] = list(set(new_b[i]))"
   ]
  },
  {
   "cell_type": "code",
   "execution_count": 184,
   "metadata": {},
   "outputs": [
    {
     "data": {
      "text/plain": [
       "{'img_name': '6',\n",
       " 'label': 'tower',\n",
       " 'likes': '26',\n",
       " 'text': '다둥이네 일상',\n",
       " 'hashtag': ['#토요일',\n",
       "  '#어제사진',\n",
       "  '#인친님피드보고나도',\n",
       "  '#시화나래휴게소',\n",
       "  '#시화나래전망대',\n",
       "  '#시화호달전망대',\n",
       "  '#손에땀나',\n",
       "  '#너희는안무섭니',\n",
       "  '#밖은',\n",
       "  '#시원해',\n",
       "  '#조개찜',\n",
       "  '#싫다는너희들',\n",
       "  '#그래그래',\n",
       "  '#먹지마라',\n",
       "  '#딸셋',\n",
       "  '#딸부자',\n",
       "  '#다둥이네',\n",
       "  '#일상기록'],\n",
       " 'keyword': ['구조',\n",
       "  '비즈니스',\n",
       "  '여행',\n",
       "  '경관',\n",
       "  '경계표',\n",
       "  '옥외',\n",
       "  '건물',\n",
       "  'ᄌ',\n",
       "  'ᄐ',\n",
       "  'ᄉ',\n",
       "  '사람',\n",
       "  'ᄆ',\n",
       "  '지구',\n",
       "  '키',\n",
       "  'ᄀ',\n",
       "  '도시',\n",
       "  '물',\n",
       "  'ᄃ',\n",
       "  '탑',\n",
       "  '일몰',\n",
       "  'ᄋ',\n",
       "  '일',\n",
       "  'ᄇ',\n",
       "  '가을',\n",
       "  'ᄂ',\n",
       "  '지역',\n",
       "  '시간',\n",
       "  '빛',\n",
       "  '전날',\n",
       "  'ᄄ',\n",
       "  '천국',\n",
       "  '몸']}"
      ]
     },
     "execution_count": 184,
     "metadata": {},
     "output_type": "execute_result"
    }
   ],
   "source": [
    "json_data[5]"
   ]
  },
  {
   "cell_type": "code",
   "execution_count": 185,
   "metadata": {},
   "outputs": [],
   "source": [
    "for i in range(len(json_data)):\n",
    "    del json_data[i]['likes']"
   ]
  },
  {
   "cell_type": "code",
   "execution_count": 186,
   "metadata": {},
   "outputs": [],
   "source": [
    "for i in range(len(json_data)):\n",
    "    del json_data[i]['text']"
   ]
  },
  {
   "cell_type": "code",
   "execution_count": 187,
   "metadata": {},
   "outputs": [],
   "source": [
    "for i in range(len(json_data)):\n",
    "    del json_data[i]['hashtag']"
   ]
  },
  {
   "cell_type": "code",
   "execution_count": 193,
   "metadata": {},
   "outputs": [
    {
     "data": {
      "text/plain": [
       "{'img_name': '6',\n",
       " 'label': 'tower',\n",
       " 'keyword': ['구조',\n",
       "  '비즈니스',\n",
       "  '여행',\n",
       "  '경관',\n",
       "  '경계표',\n",
       "  '옥외',\n",
       "  '건물',\n",
       "  'ᄌ',\n",
       "  'ᄐ',\n",
       "  'ᄉ',\n",
       "  '사람',\n",
       "  'ᄆ',\n",
       "  '지구',\n",
       "  '키',\n",
       "  'ᄀ',\n",
       "  '도시',\n",
       "  '물',\n",
       "  'ᄃ',\n",
       "  '탑',\n",
       "  '일몰',\n",
       "  'ᄋ',\n",
       "  '일',\n",
       "  'ᄇ',\n",
       "  '가을',\n",
       "  'ᄂ',\n",
       "  '지역',\n",
       "  '시간',\n",
       "  '빛',\n",
       "  '전날',\n",
       "  'ᄄ',\n",
       "  '천국',\n",
       "  '몸']}"
      ]
     },
     "execution_count": 193,
     "metadata": {},
     "output_type": "execute_result"
    }
   ],
   "source": [
    "json_data[5]"
   ]
  },
  {
   "cell_type": "code",
   "execution_count": 194,
   "metadata": {},
   "outputs": [],
   "source": [
    "copy = json_data"
   ]
  },
  {
   "cell_type": "code",
   "execution_count": 195,
   "metadata": {},
   "outputs": [],
   "source": [
    "with open('final_tower.json', 'w', encoding='utf-8') as f:\n",
    "    json.dump(copy, f)"
   ]
  },
  {
   "cell_type": "code",
   "execution_count": null,
   "metadata": {},
   "outputs": [],
   "source": []
  }
 ],
 "metadata": {
  "kernelspec": {
   "display_name": "Python 3",
   "language": "python",
   "name": "python3"
  },
  "language_info": {
   "codemirror_mode": {
    "name": "ipython",
    "version": 3
   },
   "file_extension": ".py",
   "mimetype": "text/x-python",
   "name": "python",
   "nbconvert_exporter": "python",
   "pygments_lexer": "ipython3",
   "version": "3.7.3"
  }
 },
 "nbformat": 4,
 "nbformat_minor": 4
}
